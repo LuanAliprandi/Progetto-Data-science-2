{
 "cells": [
  {
   "cell_type": "markdown",
   "id": "82f1a237",
   "metadata": {},
   "source": [
    "<h1>European Flights Analysis<h1>"
   ]
  },
  {
   "cell_type": "code",
   "execution_count": 1,
   "id": "fe9bc4a8",
   "metadata": {},
   "outputs": [
    {
     "data": {
      "text/html": [
       "<div>\n",
       "<style scoped>\n",
       "    .dataframe tbody tr th:only-of-type {\n",
       "        vertical-align: middle;\n",
       "    }\n",
       "\n",
       "    .dataframe tbody tr th {\n",
       "        vertical-align: top;\n",
       "    }\n",
       "\n",
       "    .dataframe thead th {\n",
       "        text-align: right;\n",
       "    }\n",
       "</style>\n",
       "<table border=\"1\" class=\"dataframe\">\n",
       "  <thead>\n",
       "    <tr style=\"text-align: right;\">\n",
       "      <th></th>\n",
       "      <th>YEAR</th>\n",
       "      <th>MONTH_NUM</th>\n",
       "      <th>MONTH_MON</th>\n",
       "      <th>FLT_DATE</th>\n",
       "      <th>APT_ICAO</th>\n",
       "      <th>APT_NAME</th>\n",
       "      <th>STATE_NAME</th>\n",
       "      <th>FLT_DEP_1</th>\n",
       "      <th>FLT_ARR_1</th>\n",
       "      <th>FLT_TOT_1</th>\n",
       "      <th>FLT_DEP_IFR_2</th>\n",
       "      <th>FLT_ARR_IFR_2</th>\n",
       "      <th>FLT_TOT_IFR_2</th>\n",
       "      <th>Pivot Label</th>\n",
       "    </tr>\n",
       "  </thead>\n",
       "  <tbody>\n",
       "    <tr>\n",
       "      <th>0</th>\n",
       "      <td>2016</td>\n",
       "      <td>1</td>\n",
       "      <td>JAN</td>\n",
       "      <td>2016-01-01T00:00:00Z</td>\n",
       "      <td>EBAW</td>\n",
       "      <td>Antwerp</td>\n",
       "      <td>Belgium</td>\n",
       "      <td>4</td>\n",
       "      <td>3</td>\n",
       "      <td>7</td>\n",
       "      <td>NaN</td>\n",
       "      <td>NaN</td>\n",
       "      <td>NaN</td>\n",
       "      <td>Antwerp (EBAW)</td>\n",
       "    </tr>\n",
       "    <tr>\n",
       "      <th>1</th>\n",
       "      <td>2016</td>\n",
       "      <td>1</td>\n",
       "      <td>JAN</td>\n",
       "      <td>2016-01-01T00:00:00Z</td>\n",
       "      <td>EBBR</td>\n",
       "      <td>Brussels</td>\n",
       "      <td>Belgium</td>\n",
       "      <td>174</td>\n",
       "      <td>171</td>\n",
       "      <td>345</td>\n",
       "      <td>174.0</td>\n",
       "      <td>161.0</td>\n",
       "      <td>335.0</td>\n",
       "      <td>Brussels (EBBR)</td>\n",
       "    </tr>\n",
       "    <tr>\n",
       "      <th>2</th>\n",
       "      <td>2016</td>\n",
       "      <td>1</td>\n",
       "      <td>JAN</td>\n",
       "      <td>2016-01-01T00:00:00Z</td>\n",
       "      <td>EBCI</td>\n",
       "      <td>Charleroi</td>\n",
       "      <td>Belgium</td>\n",
       "      <td>45</td>\n",
       "      <td>47</td>\n",
       "      <td>92</td>\n",
       "      <td>45.0</td>\n",
       "      <td>45.0</td>\n",
       "      <td>90.0</td>\n",
       "      <td>Charleroi (EBCI)</td>\n",
       "    </tr>\n",
       "    <tr>\n",
       "      <th>3</th>\n",
       "      <td>2016</td>\n",
       "      <td>1</td>\n",
       "      <td>JAN</td>\n",
       "      <td>2016-01-01T00:00:00Z</td>\n",
       "      <td>EBLG</td>\n",
       "      <td>Liège</td>\n",
       "      <td>Belgium</td>\n",
       "      <td>6</td>\n",
       "      <td>7</td>\n",
       "      <td>13</td>\n",
       "      <td>NaN</td>\n",
       "      <td>NaN</td>\n",
       "      <td>NaN</td>\n",
       "      <td>Liège (EBLG)</td>\n",
       "    </tr>\n",
       "    <tr>\n",
       "      <th>4</th>\n",
       "      <td>2016</td>\n",
       "      <td>1</td>\n",
       "      <td>JAN</td>\n",
       "      <td>2016-01-01T00:00:00Z</td>\n",
       "      <td>EBOS</td>\n",
       "      <td>Ostend-Bruges</td>\n",
       "      <td>Belgium</td>\n",
       "      <td>7</td>\n",
       "      <td>7</td>\n",
       "      <td>14</td>\n",
       "      <td>NaN</td>\n",
       "      <td>NaN</td>\n",
       "      <td>NaN</td>\n",
       "      <td>Ostend-Bruges (EBOS)</td>\n",
       "    </tr>\n",
       "    <tr>\n",
       "      <th>...</th>\n",
       "      <td>...</td>\n",
       "      <td>...</td>\n",
       "      <td>...</td>\n",
       "      <td>...</td>\n",
       "      <td>...</td>\n",
       "      <td>...</td>\n",
       "      <td>...</td>\n",
       "      <td>...</td>\n",
       "      <td>...</td>\n",
       "      <td>...</td>\n",
       "      <td>...</td>\n",
       "      <td>...</td>\n",
       "      <td>...</td>\n",
       "      <td>...</td>\n",
       "    </tr>\n",
       "    <tr>\n",
       "      <th>688094</th>\n",
       "      <td>2022</td>\n",
       "      <td>5</td>\n",
       "      <td>MAY</td>\n",
       "      <td>2022-05-31T00:00:00Z</td>\n",
       "      <td>LYBE</td>\n",
       "      <td>Belgrade - Nikola Tesla</td>\n",
       "      <td>Serbia</td>\n",
       "      <td>80</td>\n",
       "      <td>85</td>\n",
       "      <td>165</td>\n",
       "      <td>NaN</td>\n",
       "      <td>NaN</td>\n",
       "      <td>NaN</td>\n",
       "      <td>Belgrade - Nikola Tesla (LYBE)</td>\n",
       "    </tr>\n",
       "    <tr>\n",
       "      <th>688095</th>\n",
       "      <td>2022</td>\n",
       "      <td>5</td>\n",
       "      <td>MAY</td>\n",
       "      <td>2022-05-31T00:00:00Z</td>\n",
       "      <td>LYPG</td>\n",
       "      <td>Podgorica</td>\n",
       "      <td>Montenegro</td>\n",
       "      <td>19</td>\n",
       "      <td>18</td>\n",
       "      <td>37</td>\n",
       "      <td>NaN</td>\n",
       "      <td>NaN</td>\n",
       "      <td>NaN</td>\n",
       "      <td>Podgorica (LYPG)</td>\n",
       "    </tr>\n",
       "    <tr>\n",
       "      <th>688096</th>\n",
       "      <td>2022</td>\n",
       "      <td>5</td>\n",
       "      <td>MAY</td>\n",
       "      <td>2022-05-31T00:00:00Z</td>\n",
       "      <td>LZIB</td>\n",
       "      <td>Bratislava</td>\n",
       "      <td>Slovakia</td>\n",
       "      <td>21</td>\n",
       "      <td>21</td>\n",
       "      <td>42</td>\n",
       "      <td>20.0</td>\n",
       "      <td>19.0</td>\n",
       "      <td>39.0</td>\n",
       "      <td>Bratislava (LZIB)</td>\n",
       "    </tr>\n",
       "    <tr>\n",
       "      <th>688097</th>\n",
       "      <td>2022</td>\n",
       "      <td>5</td>\n",
       "      <td>MAY</td>\n",
       "      <td>2022-05-31T00:00:00Z</td>\n",
       "      <td>UDYZ</td>\n",
       "      <td>Yerevan</td>\n",
       "      <td>Armenia</td>\n",
       "      <td>39</td>\n",
       "      <td>40</td>\n",
       "      <td>79</td>\n",
       "      <td>NaN</td>\n",
       "      <td>NaN</td>\n",
       "      <td>NaN</td>\n",
       "      <td>Yerevan (UDYZ)</td>\n",
       "    </tr>\n",
       "    <tr>\n",
       "      <th>688098</th>\n",
       "      <td>2022</td>\n",
       "      <td>5</td>\n",
       "      <td>MAY</td>\n",
       "      <td>2022-05-31T00:00:00Z</td>\n",
       "      <td>UGTB</td>\n",
       "      <td>Tbilisi</td>\n",
       "      <td>Georgia</td>\n",
       "      <td>37</td>\n",
       "      <td>37</td>\n",
       "      <td>74</td>\n",
       "      <td>NaN</td>\n",
       "      <td>NaN</td>\n",
       "      <td>NaN</td>\n",
       "      <td>Tbilisi (UGTB)</td>\n",
       "    </tr>\n",
       "  </tbody>\n",
       "</table>\n",
       "<p>688099 rows × 14 columns</p>\n",
       "</div>"
      ],
      "text/plain": [
       "        YEAR  MONTH_NUM MONTH_MON              FLT_DATE APT_ICAO  \\\n",
       "0       2016          1       JAN  2016-01-01T00:00:00Z     EBAW   \n",
       "1       2016          1       JAN  2016-01-01T00:00:00Z     EBBR   \n",
       "2       2016          1       JAN  2016-01-01T00:00:00Z     EBCI   \n",
       "3       2016          1       JAN  2016-01-01T00:00:00Z     EBLG   \n",
       "4       2016          1       JAN  2016-01-01T00:00:00Z     EBOS   \n",
       "...      ...        ...       ...                   ...      ...   \n",
       "688094  2022          5       MAY  2022-05-31T00:00:00Z     LYBE   \n",
       "688095  2022          5       MAY  2022-05-31T00:00:00Z     LYPG   \n",
       "688096  2022          5       MAY  2022-05-31T00:00:00Z     LZIB   \n",
       "688097  2022          5       MAY  2022-05-31T00:00:00Z     UDYZ   \n",
       "688098  2022          5       MAY  2022-05-31T00:00:00Z     UGTB   \n",
       "\n",
       "                       APT_NAME  STATE_NAME  FLT_DEP_1  FLT_ARR_1  FLT_TOT_1  \\\n",
       "0                       Antwerp     Belgium          4          3          7   \n",
       "1                      Brussels     Belgium        174        171        345   \n",
       "2                     Charleroi     Belgium         45         47         92   \n",
       "3                         Liège     Belgium          6          7         13   \n",
       "4                 Ostend-Bruges     Belgium          7          7         14   \n",
       "...                         ...         ...        ...        ...        ...   \n",
       "688094  Belgrade - Nikola Tesla      Serbia         80         85        165   \n",
       "688095                Podgorica  Montenegro         19         18         37   \n",
       "688096               Bratislava    Slovakia         21         21         42   \n",
       "688097                  Yerevan     Armenia         39         40         79   \n",
       "688098                  Tbilisi     Georgia         37         37         74   \n",
       "\n",
       "        FLT_DEP_IFR_2  FLT_ARR_IFR_2  FLT_TOT_IFR_2  \\\n",
       "0                 NaN            NaN            NaN   \n",
       "1               174.0          161.0          335.0   \n",
       "2                45.0           45.0           90.0   \n",
       "3                 NaN            NaN            NaN   \n",
       "4                 NaN            NaN            NaN   \n",
       "...               ...            ...            ...   \n",
       "688094            NaN            NaN            NaN   \n",
       "688095            NaN            NaN            NaN   \n",
       "688096           20.0           19.0           39.0   \n",
       "688097            NaN            NaN            NaN   \n",
       "688098            NaN            NaN            NaN   \n",
       "\n",
       "                           Pivot Label  \n",
       "0                       Antwerp (EBAW)  \n",
       "1                      Brussels (EBBR)  \n",
       "2                     Charleroi (EBCI)  \n",
       "3                         Liège (EBLG)  \n",
       "4                 Ostend-Bruges (EBOS)  \n",
       "...                                ...  \n",
       "688094  Belgrade - Nikola Tesla (LYBE)  \n",
       "688095                Podgorica (LYPG)  \n",
       "688096               Bratislava (LZIB)  \n",
       "688097                  Yerevan (UDYZ)  \n",
       "688098                  Tbilisi (UGTB)  \n",
       "\n",
       "[688099 rows x 14 columns]"
      ]
     },
     "execution_count": 1,
     "metadata": {},
     "output_type": "execute_result"
    }
   ],
   "source": [
    "import numpy as np\n",
    "import pandas as pd\n",
    "import plotly.express as px\n",
    "\n",
    "\n",
    "df = pd.read_csv(\"data/flights.csv\")\n",
    "df"
   ]
  },
  {
   "cell_type": "markdown",
   "id": "f0e9e555",
   "metadata": {},
   "source": [
    "<h2>Test Graph</h2>"
   ]
  },
  {
   "cell_type": "code",
   "execution_count": 2,
   "id": "ea4c53b8",
   "metadata": {},
   "outputs": [
    {
     "data": {
      "application/vnd.plotly.v1+json": {
       "config": {
        "plotlyServerURL": "https://plot.ly"
       },
       "data": [
        {
         "bingroup": "y",
         "histfunc": "sum",
         "hovertemplate": "sum of NumFlights=%{x}<br>State=%{y}<extra></extra>",
         "legendgroup": "",
         "marker": {
          "color": "#636efa",
          "pattern": {
           "shape": ""
          }
         },
         "name": "",
         "nbinsy": 1000,
         "orientation": "h",
         "showlegend": false,
         "type": "histogram",
         "x": {
          "bdata": "TAYAAMgIAAALCQAAGQkAABkJAAAcCQAAIwkAACYJAAAmCQAAJwkAACcJAAAnCQAAJwkAACcJAAAnCQAAJwkAACcJAAAVDQAAhQ4AABARAAAJEgAAIRIAAIQYAAAyGwAAaRsAAAQjAAAqIwAAjyQAAEIqAACYLQAAsDIAAEw2AABxQQAA81wAAHFxAADAdgAA5n0AAKaPAADwqQAAHhIBAFSuAQDGHQIA",
          "dtype": "i4"
         },
         "xaxis": "x",
         "y": [
          "Israel",
          "Ukraine",
          "Montenegro",
          "Bosnia and Herzegovina",
          "Republic of North Macedonia",
          "Slovakia",
          "Albania",
          "Moldova",
          "Armenia",
          "Serbia",
          "Denmark",
          "Finland",
          "Malta",
          "Hungary",
          "Bulgaria",
          "Luxembourg",
          "Georgia",
          "Croatia",
          "Latvia",
          "Estonia",
          "Cyprus",
          "Romania",
          "Slovenia",
          "Switzerland",
          "Sweden",
          "Lithuania",
          "Czech Republic",
          "Morocco",
          "Netherlands",
          "Belgium",
          "Türkiye",
          "Austria",
          "Ireland",
          "Portugal",
          "Greece",
          "Italy",
          "Poland",
          "Germany",
          "United Kingdom",
          "Norway",
          "Spain",
          "France"
         ],
         "yaxis": "y"
        }
       ],
       "layout": {
        "barmode": "relative",
        "height": 1200,
        "legend": {
         "tracegroupgap": 0
        },
        "template": {
         "data": {
          "bar": [
           {
            "error_x": {
             "color": "#2a3f5f"
            },
            "error_y": {
             "color": "#2a3f5f"
            },
            "marker": {
             "line": {
              "color": "#E5ECF6",
              "width": 0.5
             },
             "pattern": {
              "fillmode": "overlay",
              "size": 10,
              "solidity": 0.2
             }
            },
            "type": "bar"
           }
          ],
          "barpolar": [
           {
            "marker": {
             "line": {
              "color": "#E5ECF6",
              "width": 0.5
             },
             "pattern": {
              "fillmode": "overlay",
              "size": 10,
              "solidity": 0.2
             }
            },
            "type": "barpolar"
           }
          ],
          "carpet": [
           {
            "aaxis": {
             "endlinecolor": "#2a3f5f",
             "gridcolor": "white",
             "linecolor": "white",
             "minorgridcolor": "white",
             "startlinecolor": "#2a3f5f"
            },
            "baxis": {
             "endlinecolor": "#2a3f5f",
             "gridcolor": "white",
             "linecolor": "white",
             "minorgridcolor": "white",
             "startlinecolor": "#2a3f5f"
            },
            "type": "carpet"
           }
          ],
          "choropleth": [
           {
            "colorbar": {
             "outlinewidth": 0,
             "ticks": ""
            },
            "type": "choropleth"
           }
          ],
          "contour": [
           {
            "colorbar": {
             "outlinewidth": 0,
             "ticks": ""
            },
            "colorscale": [
             [
              0,
              "#0d0887"
             ],
             [
              0.1111111111111111,
              "#46039f"
             ],
             [
              0.2222222222222222,
              "#7201a8"
             ],
             [
              0.3333333333333333,
              "#9c179e"
             ],
             [
              0.4444444444444444,
              "#bd3786"
             ],
             [
              0.5555555555555556,
              "#d8576b"
             ],
             [
              0.6666666666666666,
              "#ed7953"
             ],
             [
              0.7777777777777778,
              "#fb9f3a"
             ],
             [
              0.8888888888888888,
              "#fdca26"
             ],
             [
              1,
              "#f0f921"
             ]
            ],
            "type": "contour"
           }
          ],
          "contourcarpet": [
           {
            "colorbar": {
             "outlinewidth": 0,
             "ticks": ""
            },
            "type": "contourcarpet"
           }
          ],
          "heatmap": [
           {
            "colorbar": {
             "outlinewidth": 0,
             "ticks": ""
            },
            "colorscale": [
             [
              0,
              "#0d0887"
             ],
             [
              0.1111111111111111,
              "#46039f"
             ],
             [
              0.2222222222222222,
              "#7201a8"
             ],
             [
              0.3333333333333333,
              "#9c179e"
             ],
             [
              0.4444444444444444,
              "#bd3786"
             ],
             [
              0.5555555555555556,
              "#d8576b"
             ],
             [
              0.6666666666666666,
              "#ed7953"
             ],
             [
              0.7777777777777778,
              "#fb9f3a"
             ],
             [
              0.8888888888888888,
              "#fdca26"
             ],
             [
              1,
              "#f0f921"
             ]
            ],
            "type": "heatmap"
           }
          ],
          "histogram": [
           {
            "marker": {
             "pattern": {
              "fillmode": "overlay",
              "size": 10,
              "solidity": 0.2
             }
            },
            "type": "histogram"
           }
          ],
          "histogram2d": [
           {
            "colorbar": {
             "outlinewidth": 0,
             "ticks": ""
            },
            "colorscale": [
             [
              0,
              "#0d0887"
             ],
             [
              0.1111111111111111,
              "#46039f"
             ],
             [
              0.2222222222222222,
              "#7201a8"
             ],
             [
              0.3333333333333333,
              "#9c179e"
             ],
             [
              0.4444444444444444,
              "#bd3786"
             ],
             [
              0.5555555555555556,
              "#d8576b"
             ],
             [
              0.6666666666666666,
              "#ed7953"
             ],
             [
              0.7777777777777778,
              "#fb9f3a"
             ],
             [
              0.8888888888888888,
              "#fdca26"
             ],
             [
              1,
              "#f0f921"
             ]
            ],
            "type": "histogram2d"
           }
          ],
          "histogram2dcontour": [
           {
            "colorbar": {
             "outlinewidth": 0,
             "ticks": ""
            },
            "colorscale": [
             [
              0,
              "#0d0887"
             ],
             [
              0.1111111111111111,
              "#46039f"
             ],
             [
              0.2222222222222222,
              "#7201a8"
             ],
             [
              0.3333333333333333,
              "#9c179e"
             ],
             [
              0.4444444444444444,
              "#bd3786"
             ],
             [
              0.5555555555555556,
              "#d8576b"
             ],
             [
              0.6666666666666666,
              "#ed7953"
             ],
             [
              0.7777777777777778,
              "#fb9f3a"
             ],
             [
              0.8888888888888888,
              "#fdca26"
             ],
             [
              1,
              "#f0f921"
             ]
            ],
            "type": "histogram2dcontour"
           }
          ],
          "mesh3d": [
           {
            "colorbar": {
             "outlinewidth": 0,
             "ticks": ""
            },
            "type": "mesh3d"
           }
          ],
          "parcoords": [
           {
            "line": {
             "colorbar": {
              "outlinewidth": 0,
              "ticks": ""
             }
            },
            "type": "parcoords"
           }
          ],
          "pie": [
           {
            "automargin": true,
            "type": "pie"
           }
          ],
          "scatter": [
           {
            "fillpattern": {
             "fillmode": "overlay",
             "size": 10,
             "solidity": 0.2
            },
            "type": "scatter"
           }
          ],
          "scatter3d": [
           {
            "line": {
             "colorbar": {
              "outlinewidth": 0,
              "ticks": ""
             }
            },
            "marker": {
             "colorbar": {
              "outlinewidth": 0,
              "ticks": ""
             }
            },
            "type": "scatter3d"
           }
          ],
          "scattercarpet": [
           {
            "marker": {
             "colorbar": {
              "outlinewidth": 0,
              "ticks": ""
             }
            },
            "type": "scattercarpet"
           }
          ],
          "scattergeo": [
           {
            "marker": {
             "colorbar": {
              "outlinewidth": 0,
              "ticks": ""
             }
            },
            "type": "scattergeo"
           }
          ],
          "scattergl": [
           {
            "marker": {
             "colorbar": {
              "outlinewidth": 0,
              "ticks": ""
             }
            },
            "type": "scattergl"
           }
          ],
          "scattermap": [
           {
            "marker": {
             "colorbar": {
              "outlinewidth": 0,
              "ticks": ""
             }
            },
            "type": "scattermap"
           }
          ],
          "scattermapbox": [
           {
            "marker": {
             "colorbar": {
              "outlinewidth": 0,
              "ticks": ""
             }
            },
            "type": "scattermapbox"
           }
          ],
          "scatterpolar": [
           {
            "marker": {
             "colorbar": {
              "outlinewidth": 0,
              "ticks": ""
             }
            },
            "type": "scatterpolar"
           }
          ],
          "scatterpolargl": [
           {
            "marker": {
             "colorbar": {
              "outlinewidth": 0,
              "ticks": ""
             }
            },
            "type": "scatterpolargl"
           }
          ],
          "scatterternary": [
           {
            "marker": {
             "colorbar": {
              "outlinewidth": 0,
              "ticks": ""
             }
            },
            "type": "scatterternary"
           }
          ],
          "surface": [
           {
            "colorbar": {
             "outlinewidth": 0,
             "ticks": ""
            },
            "colorscale": [
             [
              0,
              "#0d0887"
             ],
             [
              0.1111111111111111,
              "#46039f"
             ],
             [
              0.2222222222222222,
              "#7201a8"
             ],
             [
              0.3333333333333333,
              "#9c179e"
             ],
             [
              0.4444444444444444,
              "#bd3786"
             ],
             [
              0.5555555555555556,
              "#d8576b"
             ],
             [
              0.6666666666666666,
              "#ed7953"
             ],
             [
              0.7777777777777778,
              "#fb9f3a"
             ],
             [
              0.8888888888888888,
              "#fdca26"
             ],
             [
              1,
              "#f0f921"
             ]
            ],
            "type": "surface"
           }
          ],
          "table": [
           {
            "cells": {
             "fill": {
              "color": "#EBF0F8"
             },
             "line": {
              "color": "white"
             }
            },
            "header": {
             "fill": {
              "color": "#C8D4E3"
             },
             "line": {
              "color": "white"
             }
            },
            "type": "table"
           }
          ]
         },
         "layout": {
          "annotationdefaults": {
           "arrowcolor": "#2a3f5f",
           "arrowhead": 0,
           "arrowwidth": 1
          },
          "autotypenumbers": "strict",
          "coloraxis": {
           "colorbar": {
            "outlinewidth": 0,
            "ticks": ""
           }
          },
          "colorscale": {
           "diverging": [
            [
             0,
             "#8e0152"
            ],
            [
             0.1,
             "#c51b7d"
            ],
            [
             0.2,
             "#de77ae"
            ],
            [
             0.3,
             "#f1b6da"
            ],
            [
             0.4,
             "#fde0ef"
            ],
            [
             0.5,
             "#f7f7f7"
            ],
            [
             0.6,
             "#e6f5d0"
            ],
            [
             0.7,
             "#b8e186"
            ],
            [
             0.8,
             "#7fbc41"
            ],
            [
             0.9,
             "#4d9221"
            ],
            [
             1,
             "#276419"
            ]
           ],
           "sequential": [
            [
             0,
             "#0d0887"
            ],
            [
             0.1111111111111111,
             "#46039f"
            ],
            [
             0.2222222222222222,
             "#7201a8"
            ],
            [
             0.3333333333333333,
             "#9c179e"
            ],
            [
             0.4444444444444444,
             "#bd3786"
            ],
            [
             0.5555555555555556,
             "#d8576b"
            ],
            [
             0.6666666666666666,
             "#ed7953"
            ],
            [
             0.7777777777777778,
             "#fb9f3a"
            ],
            [
             0.8888888888888888,
             "#fdca26"
            ],
            [
             1,
             "#f0f921"
            ]
           ],
           "sequentialminus": [
            [
             0,
             "#0d0887"
            ],
            [
             0.1111111111111111,
             "#46039f"
            ],
            [
             0.2222222222222222,
             "#7201a8"
            ],
            [
             0.3333333333333333,
             "#9c179e"
            ],
            [
             0.4444444444444444,
             "#bd3786"
            ],
            [
             0.5555555555555556,
             "#d8576b"
            ],
            [
             0.6666666666666666,
             "#ed7953"
            ],
            [
             0.7777777777777778,
             "#fb9f3a"
            ],
            [
             0.8888888888888888,
             "#fdca26"
            ],
            [
             1,
             "#f0f921"
            ]
           ]
          },
          "colorway": [
           "#636efa",
           "#EF553B",
           "#00cc96",
           "#ab63fa",
           "#FFA15A",
           "#19d3f3",
           "#FF6692",
           "#B6E880",
           "#FF97FF",
           "#FECB52"
          ],
          "font": {
           "color": "#2a3f5f"
          },
          "geo": {
           "bgcolor": "white",
           "lakecolor": "white",
           "landcolor": "#E5ECF6",
           "showlakes": true,
           "showland": true,
           "subunitcolor": "white"
          },
          "hoverlabel": {
           "align": "left"
          },
          "hovermode": "closest",
          "mapbox": {
           "style": "light"
          },
          "paper_bgcolor": "white",
          "plot_bgcolor": "#E5ECF6",
          "polar": {
           "angularaxis": {
            "gridcolor": "white",
            "linecolor": "white",
            "ticks": ""
           },
           "bgcolor": "#E5ECF6",
           "radialaxis": {
            "gridcolor": "white",
            "linecolor": "white",
            "ticks": ""
           }
          },
          "scene": {
           "xaxis": {
            "backgroundcolor": "#E5ECF6",
            "gridcolor": "white",
            "gridwidth": 2,
            "linecolor": "white",
            "showbackground": true,
            "ticks": "",
            "zerolinecolor": "white"
           },
           "yaxis": {
            "backgroundcolor": "#E5ECF6",
            "gridcolor": "white",
            "gridwidth": 2,
            "linecolor": "white",
            "showbackground": true,
            "ticks": "",
            "zerolinecolor": "white"
           },
           "zaxis": {
            "backgroundcolor": "#E5ECF6",
            "gridcolor": "white",
            "gridwidth": 2,
            "linecolor": "white",
            "showbackground": true,
            "ticks": "",
            "zerolinecolor": "white"
           }
          },
          "shapedefaults": {
           "line": {
            "color": "#2a3f5f"
           }
          },
          "ternary": {
           "aaxis": {
            "gridcolor": "white",
            "linecolor": "white",
            "ticks": ""
           },
           "baxis": {
            "gridcolor": "white",
            "linecolor": "white",
            "ticks": ""
           },
           "bgcolor": "#E5ECF6",
           "caxis": {
            "gridcolor": "white",
            "linecolor": "white",
            "ticks": ""
           }
          },
          "title": {
           "x": 0.05
          },
          "xaxis": {
           "automargin": true,
           "gridcolor": "white",
           "linecolor": "white",
           "ticks": "",
           "title": {
            "standoff": 15
           },
           "zerolinecolor": "white",
           "zerolinewidth": 2
          },
          "yaxis": {
           "automargin": true,
           "gridcolor": "white",
           "linecolor": "white",
           "ticks": "",
           "title": {
            "standoff": 15
           },
           "zerolinecolor": "white",
           "zerolinewidth": 2
          }
         }
        },
        "title": {
         "text": "Num of Flights per State (Ordered)"
        },
        "xaxis": {
         "anchor": "y",
         "domain": [
          0,
          1
         ],
         "title": {
          "text": "sum of NumFlights"
         }
        },
        "yaxis": {
         "anchor": "x",
         "categoryarray": [
          "Israel",
          "Ukraine",
          "Montenegro",
          "Bosnia and Herzegovina",
          "Republic of North Macedonia",
          "Slovakia",
          "Albania",
          "Moldova",
          "Armenia",
          "Serbia",
          "Denmark",
          "Finland",
          "Malta",
          "Hungary",
          "Bulgaria",
          "Luxembourg",
          "Georgia",
          "Croatia",
          "Latvia",
          "Estonia",
          "Cyprus",
          "Romania",
          "Slovenia",
          "Switzerland",
          "Sweden",
          "Lithuania",
          "Czech Republic",
          "Morocco",
          "Netherlands",
          "Belgium",
          "Türkiye",
          "Austria",
          "Ireland",
          "Portugal",
          "Greece",
          "Italy",
          "Poland",
          "Germany",
          "United Kingdom",
          "Norway",
          "Spain",
          "France"
         ],
         "categoryorder": "array",
         "domain": [
          0,
          1
         ],
         "title": {
          "text": "State"
         }
        }
       }
      }
     },
     "metadata": {},
     "output_type": "display_data"
    }
   ],
   "source": [
    "# Conta il numero di voli per ogni stato e ordina dal più grande al più piccolo\n",
    "df_sorted = df[\"STATE_NAME\"].value_counts().reset_index()\n",
    "df_sorted.columns = [\"State\", \"NumFlights\"]\n",
    "df_sorted = df_sorted.sort_values(by=\"NumFlights\", ascending=True)  # Ordinamento decrescente\n",
    "\n",
    "# Creazione dell'istogramma ordinato\n",
    "fig = px.histogram(df_sorted, x=\"NumFlights\", y=\"State\", nbins=1000, title=\"Num of Flights per State (Ordered)\")\n",
    "\n",
    "# Mantieni l'ordine corretto assegnando i valori di Y manualmente\n",
    "fig.update_layout(\n",
    "    height=1200,  # Ingrandisci il grafico verticalmente\n",
    "    yaxis=dict(categoryorder=\"array\", categoryarray=df_sorted[\"State\"].tolist())  # Ordine manuale\n",
    ")\n",
    "\n",
    "# Mostra il grafico\n",
    "fig.show()\n"
   ]
  },
  {
   "cell_type": "code",
   "execution_count": 3,
   "id": "77b354db",
   "metadata": {},
   "outputs": [
    {
     "data": {
      "application/vnd.plotly.v1+json": {
       "config": {
        "plotlyServerURL": "https://plot.ly"
       },
       "data": [
        {
         "hovertemplate": "Mese=%{x}<br>Voli giornalieri medi=%{y}<extra></extra>",
         "legendgroup": "",
         "marker": {
          "color": "#636efa",
          "pattern": {
           "shape": ""
          }
         },
         "name": "",
         "orientation": "v",
         "showlegend": false,
         "textposition": "auto",
         "type": "bar",
         "x": [
          "Jan",
          "Feb",
          "Mar",
          "Apr",
          "May",
          "Jun",
          "Jul",
          "Aug",
          "Sep",
          "Oct",
          "Nov",
          "Dec"
         ],
         "xaxis": "x",
         "y": {
          "bdata": "/WAb/+xtW0BDf3ZdMlpcQDamBPAmUlxA0vm9vgyLXUA/0F25hUNfQE6p+9bGs2BA051S25A7YkDwnXtACqxiQDZFcxw0dGJAGVn/qH8bYUB63FMu8kFdQLjHubxUp1xA",
          "dtype": "f8"
         },
         "yaxis": "y"
        }
       ],
       "layout": {
        "barmode": "relative",
        "legend": {
         "tracegroupgap": 0
        },
        "template": {
         "data": {
          "bar": [
           {
            "error_x": {
             "color": "#2a3f5f"
            },
            "error_y": {
             "color": "#2a3f5f"
            },
            "marker": {
             "line": {
              "color": "#E5ECF6",
              "width": 0.5
             },
             "pattern": {
              "fillmode": "overlay",
              "size": 10,
              "solidity": 0.2
             }
            },
            "type": "bar"
           }
          ],
          "barpolar": [
           {
            "marker": {
             "line": {
              "color": "#E5ECF6",
              "width": 0.5
             },
             "pattern": {
              "fillmode": "overlay",
              "size": 10,
              "solidity": 0.2
             }
            },
            "type": "barpolar"
           }
          ],
          "carpet": [
           {
            "aaxis": {
             "endlinecolor": "#2a3f5f",
             "gridcolor": "white",
             "linecolor": "white",
             "minorgridcolor": "white",
             "startlinecolor": "#2a3f5f"
            },
            "baxis": {
             "endlinecolor": "#2a3f5f",
             "gridcolor": "white",
             "linecolor": "white",
             "minorgridcolor": "white",
             "startlinecolor": "#2a3f5f"
            },
            "type": "carpet"
           }
          ],
          "choropleth": [
           {
            "colorbar": {
             "outlinewidth": 0,
             "ticks": ""
            },
            "type": "choropleth"
           }
          ],
          "contour": [
           {
            "colorbar": {
             "outlinewidth": 0,
             "ticks": ""
            },
            "colorscale": [
             [
              0,
              "#0d0887"
             ],
             [
              0.1111111111111111,
              "#46039f"
             ],
             [
              0.2222222222222222,
              "#7201a8"
             ],
             [
              0.3333333333333333,
              "#9c179e"
             ],
             [
              0.4444444444444444,
              "#bd3786"
             ],
             [
              0.5555555555555556,
              "#d8576b"
             ],
             [
              0.6666666666666666,
              "#ed7953"
             ],
             [
              0.7777777777777778,
              "#fb9f3a"
             ],
             [
              0.8888888888888888,
              "#fdca26"
             ],
             [
              1,
              "#f0f921"
             ]
            ],
            "type": "contour"
           }
          ],
          "contourcarpet": [
           {
            "colorbar": {
             "outlinewidth": 0,
             "ticks": ""
            },
            "type": "contourcarpet"
           }
          ],
          "heatmap": [
           {
            "colorbar": {
             "outlinewidth": 0,
             "ticks": ""
            },
            "colorscale": [
             [
              0,
              "#0d0887"
             ],
             [
              0.1111111111111111,
              "#46039f"
             ],
             [
              0.2222222222222222,
              "#7201a8"
             ],
             [
              0.3333333333333333,
              "#9c179e"
             ],
             [
              0.4444444444444444,
              "#bd3786"
             ],
             [
              0.5555555555555556,
              "#d8576b"
             ],
             [
              0.6666666666666666,
              "#ed7953"
             ],
             [
              0.7777777777777778,
              "#fb9f3a"
             ],
             [
              0.8888888888888888,
              "#fdca26"
             ],
             [
              1,
              "#f0f921"
             ]
            ],
            "type": "heatmap"
           }
          ],
          "histogram": [
           {
            "marker": {
             "pattern": {
              "fillmode": "overlay",
              "size": 10,
              "solidity": 0.2
             }
            },
            "type": "histogram"
           }
          ],
          "histogram2d": [
           {
            "colorbar": {
             "outlinewidth": 0,
             "ticks": ""
            },
            "colorscale": [
             [
              0,
              "#0d0887"
             ],
             [
              0.1111111111111111,
              "#46039f"
             ],
             [
              0.2222222222222222,
              "#7201a8"
             ],
             [
              0.3333333333333333,
              "#9c179e"
             ],
             [
              0.4444444444444444,
              "#bd3786"
             ],
             [
              0.5555555555555556,
              "#d8576b"
             ],
             [
              0.6666666666666666,
              "#ed7953"
             ],
             [
              0.7777777777777778,
              "#fb9f3a"
             ],
             [
              0.8888888888888888,
              "#fdca26"
             ],
             [
              1,
              "#f0f921"
             ]
            ],
            "type": "histogram2d"
           }
          ],
          "histogram2dcontour": [
           {
            "colorbar": {
             "outlinewidth": 0,
             "ticks": ""
            },
            "colorscale": [
             [
              0,
              "#0d0887"
             ],
             [
              0.1111111111111111,
              "#46039f"
             ],
             [
              0.2222222222222222,
              "#7201a8"
             ],
             [
              0.3333333333333333,
              "#9c179e"
             ],
             [
              0.4444444444444444,
              "#bd3786"
             ],
             [
              0.5555555555555556,
              "#d8576b"
             ],
             [
              0.6666666666666666,
              "#ed7953"
             ],
             [
              0.7777777777777778,
              "#fb9f3a"
             ],
             [
              0.8888888888888888,
              "#fdca26"
             ],
             [
              1,
              "#f0f921"
             ]
            ],
            "type": "histogram2dcontour"
           }
          ],
          "mesh3d": [
           {
            "colorbar": {
             "outlinewidth": 0,
             "ticks": ""
            },
            "type": "mesh3d"
           }
          ],
          "parcoords": [
           {
            "line": {
             "colorbar": {
              "outlinewidth": 0,
              "ticks": ""
             }
            },
            "type": "parcoords"
           }
          ],
          "pie": [
           {
            "automargin": true,
            "type": "pie"
           }
          ],
          "scatter": [
           {
            "fillpattern": {
             "fillmode": "overlay",
             "size": 10,
             "solidity": 0.2
            },
            "type": "scatter"
           }
          ],
          "scatter3d": [
           {
            "line": {
             "colorbar": {
              "outlinewidth": 0,
              "ticks": ""
             }
            },
            "marker": {
             "colorbar": {
              "outlinewidth": 0,
              "ticks": ""
             }
            },
            "type": "scatter3d"
           }
          ],
          "scattercarpet": [
           {
            "marker": {
             "colorbar": {
              "outlinewidth": 0,
              "ticks": ""
             }
            },
            "type": "scattercarpet"
           }
          ],
          "scattergeo": [
           {
            "marker": {
             "colorbar": {
              "outlinewidth": 0,
              "ticks": ""
             }
            },
            "type": "scattergeo"
           }
          ],
          "scattergl": [
           {
            "marker": {
             "colorbar": {
              "outlinewidth": 0,
              "ticks": ""
             }
            },
            "type": "scattergl"
           }
          ],
          "scattermap": [
           {
            "marker": {
             "colorbar": {
              "outlinewidth": 0,
              "ticks": ""
             }
            },
            "type": "scattermap"
           }
          ],
          "scattermapbox": [
           {
            "marker": {
             "colorbar": {
              "outlinewidth": 0,
              "ticks": ""
             }
            },
            "type": "scattermapbox"
           }
          ],
          "scatterpolar": [
           {
            "marker": {
             "colorbar": {
              "outlinewidth": 0,
              "ticks": ""
             }
            },
            "type": "scatterpolar"
           }
          ],
          "scatterpolargl": [
           {
            "marker": {
             "colorbar": {
              "outlinewidth": 0,
              "ticks": ""
             }
            },
            "type": "scatterpolargl"
           }
          ],
          "scatterternary": [
           {
            "marker": {
             "colorbar": {
              "outlinewidth": 0,
              "ticks": ""
             }
            },
            "type": "scatterternary"
           }
          ],
          "surface": [
           {
            "colorbar": {
             "outlinewidth": 0,
             "ticks": ""
            },
            "colorscale": [
             [
              0,
              "#0d0887"
             ],
             [
              0.1111111111111111,
              "#46039f"
             ],
             [
              0.2222222222222222,
              "#7201a8"
             ],
             [
              0.3333333333333333,
              "#9c179e"
             ],
             [
              0.4444444444444444,
              "#bd3786"
             ],
             [
              0.5555555555555556,
              "#d8576b"
             ],
             [
              0.6666666666666666,
              "#ed7953"
             ],
             [
              0.7777777777777778,
              "#fb9f3a"
             ],
             [
              0.8888888888888888,
              "#fdca26"
             ],
             [
              1,
              "#f0f921"
             ]
            ],
            "type": "surface"
           }
          ],
          "table": [
           {
            "cells": {
             "fill": {
              "color": "#EBF0F8"
             },
             "line": {
              "color": "white"
             }
            },
            "header": {
             "fill": {
              "color": "#C8D4E3"
             },
             "line": {
              "color": "white"
             }
            },
            "type": "table"
           }
          ]
         },
         "layout": {
          "annotationdefaults": {
           "arrowcolor": "#2a3f5f",
           "arrowhead": 0,
           "arrowwidth": 1
          },
          "autotypenumbers": "strict",
          "coloraxis": {
           "colorbar": {
            "outlinewidth": 0,
            "ticks": ""
           }
          },
          "colorscale": {
           "diverging": [
            [
             0,
             "#8e0152"
            ],
            [
             0.1,
             "#c51b7d"
            ],
            [
             0.2,
             "#de77ae"
            ],
            [
             0.3,
             "#f1b6da"
            ],
            [
             0.4,
             "#fde0ef"
            ],
            [
             0.5,
             "#f7f7f7"
            ],
            [
             0.6,
             "#e6f5d0"
            ],
            [
             0.7,
             "#b8e186"
            ],
            [
             0.8,
             "#7fbc41"
            ],
            [
             0.9,
             "#4d9221"
            ],
            [
             1,
             "#276419"
            ]
           ],
           "sequential": [
            [
             0,
             "#0d0887"
            ],
            [
             0.1111111111111111,
             "#46039f"
            ],
            [
             0.2222222222222222,
             "#7201a8"
            ],
            [
             0.3333333333333333,
             "#9c179e"
            ],
            [
             0.4444444444444444,
             "#bd3786"
            ],
            [
             0.5555555555555556,
             "#d8576b"
            ],
            [
             0.6666666666666666,
             "#ed7953"
            ],
            [
             0.7777777777777778,
             "#fb9f3a"
            ],
            [
             0.8888888888888888,
             "#fdca26"
            ],
            [
             1,
             "#f0f921"
            ]
           ],
           "sequentialminus": [
            [
             0,
             "#0d0887"
            ],
            [
             0.1111111111111111,
             "#46039f"
            ],
            [
             0.2222222222222222,
             "#7201a8"
            ],
            [
             0.3333333333333333,
             "#9c179e"
            ],
            [
             0.4444444444444444,
             "#bd3786"
            ],
            [
             0.5555555555555556,
             "#d8576b"
            ],
            [
             0.6666666666666666,
             "#ed7953"
            ],
            [
             0.7777777777777778,
             "#fb9f3a"
            ],
            [
             0.8888888888888888,
             "#fdca26"
            ],
            [
             1,
             "#f0f921"
            ]
           ]
          },
          "colorway": [
           "#636efa",
           "#EF553B",
           "#00cc96",
           "#ab63fa",
           "#FFA15A",
           "#19d3f3",
           "#FF6692",
           "#B6E880",
           "#FF97FF",
           "#FECB52"
          ],
          "font": {
           "color": "#2a3f5f"
          },
          "geo": {
           "bgcolor": "white",
           "lakecolor": "white",
           "landcolor": "#E5ECF6",
           "showlakes": true,
           "showland": true,
           "subunitcolor": "white"
          },
          "hoverlabel": {
           "align": "left"
          },
          "hovermode": "closest",
          "mapbox": {
           "style": "light"
          },
          "paper_bgcolor": "white",
          "plot_bgcolor": "#E5ECF6",
          "polar": {
           "angularaxis": {
            "gridcolor": "white",
            "linecolor": "white",
            "ticks": ""
           },
           "bgcolor": "#E5ECF6",
           "radialaxis": {
            "gridcolor": "white",
            "linecolor": "white",
            "ticks": ""
           }
          },
          "scene": {
           "xaxis": {
            "backgroundcolor": "#E5ECF6",
            "gridcolor": "white",
            "gridwidth": 2,
            "linecolor": "white",
            "showbackground": true,
            "ticks": "",
            "zerolinecolor": "white"
           },
           "yaxis": {
            "backgroundcolor": "#E5ECF6",
            "gridcolor": "white",
            "gridwidth": 2,
            "linecolor": "white",
            "showbackground": true,
            "ticks": "",
            "zerolinecolor": "white"
           },
           "zaxis": {
            "backgroundcolor": "#E5ECF6",
            "gridcolor": "white",
            "gridwidth": 2,
            "linecolor": "white",
            "showbackground": true,
            "ticks": "",
            "zerolinecolor": "white"
           }
          },
          "shapedefaults": {
           "line": {
            "color": "#2a3f5f"
           }
          },
          "ternary": {
           "aaxis": {
            "gridcolor": "white",
            "linecolor": "white",
            "ticks": ""
           },
           "baxis": {
            "gridcolor": "white",
            "linecolor": "white",
            "ticks": ""
           },
           "bgcolor": "#E5ECF6",
           "caxis": {
            "gridcolor": "white",
            "linecolor": "white",
            "ticks": ""
           }
          },
          "title": {
           "x": 0.05
          },
          "xaxis": {
           "automargin": true,
           "gridcolor": "white",
           "linecolor": "white",
           "ticks": "",
           "title": {
            "standoff": 15
           },
           "zerolinecolor": "white",
           "zerolinewidth": 2
          },
          "yaxis": {
           "automargin": true,
           "gridcolor": "white",
           "linecolor": "white",
           "ticks": "",
           "title": {
            "standoff": 15
           },
           "zerolinecolor": "white",
           "zerolinewidth": 2
          }
         }
        },
        "title": {
         "text": "Media dei voli giornalieri per mese (2016–2022)"
        },
        "xaxis": {
         "anchor": "y",
         "domain": [
          0,
          1
         ],
         "title": {
          "text": "Mese"
         }
        },
        "yaxis": {
         "anchor": "x",
         "domain": [
          0,
          1
         ],
         "title": {
          "text": "Voli giornalieri medi"
         }
        }
       }
      }
     },
     "metadata": {},
     "output_type": "display_data"
    }
   ],
   "source": [
    "\n",
    "# Conversione della data\n",
    "df[\"FLT_DATE\"] = pd.to_datetime(df[\"FLT_DATE\"])\n",
    "\n",
    "# Calcolo media voli giornalieri per mese\n",
    "monthly_avg = df.groupby(\"MONTH_NUM\")[\"FLT_TOT_1\"].mean().reset_index()\n",
    "\n",
    "# Aggiunta nomi mesi\n",
    "month_names = [\"Jan\", \"Feb\", \"Mar\", \"Apr\", \"May\", \"Jun\",\n",
    "               \"Jul\", \"Aug\", \"Sep\", \"Oct\", \"Nov\", \"Dec\"]\n",
    "monthly_avg[\"Month\"] = monthly_avg[\"MONTH_NUM\"].apply(lambda x: month_names[x - 1])\n",
    "\n",
    "# Ordinamento corretto\n",
    "monthly_avg = monthly_avg.sort_values(\"MONTH_NUM\")\n",
    "\n",
    "# Grafico con Plotly\n",
    "fig = px.bar(\n",
    "    monthly_avg,\n",
    "    x=\"Month\",\n",
    "    y=\"FLT_TOT_1\",\n",
    "    title=\"Media dei voli giornalieri per mese (2016–2022)\",\n",
    "    labels={\"FLT_TOT_1\": \"Voli giornalieri medi\", \"Month\": \"Mese\"}\n",
    ")\n",
    "\n",
    "fig.update_layout(xaxis_title=\"Mese\", yaxis_title=\"Voli giornalieri medi\")\n",
    "fig.show()\n"
   ]
  },
  {
   "cell_type": "code",
   "execution_count": 23,
   "id": "e5ba4fca",
   "metadata": {},
   "outputs": [
    {
     "name": "stderr",
     "output_type": "stream",
     "text": [
      "C:\\Users\\Christian\\AppData\\Local\\Temp\\ipykernel_34076\\330044476.py:3: UserWarning:\n",
      "\n",
      "Converting to PeriodArray/Index representation will drop timezone information.\n",
      "\n"
     ]
    },
    {
     "data": {
      "application/vnd.plotly.v1+json": {
       "config": {
        "plotlyServerURL": "https://plot.ly"
       },
       "data": [
        {
         "hovertemplate": "Periodo (Mese)=%{x}<br>Voli Medi Giornalieri=%{y}<extra></extra>",
         "legendgroup": "",
         "line": {
          "color": "#636efa",
          "dash": "solid"
         },
         "marker": {
          "symbol": "circle"
         },
         "mode": "lines+markers",
         "name": "",
         "orientation": "v",
         "showlegend": false,
         "type": "scatter",
         "x": [
          "2016-01-01T00:00:00.000000000",
          "2016-02-01T00:00:00.000000000",
          "2016-03-01T00:00:00.000000000",
          "2016-04-01T00:00:00.000000000",
          "2016-05-01T00:00:00.000000000",
          "2016-06-01T00:00:00.000000000",
          "2016-07-01T00:00:00.000000000",
          "2016-08-01T00:00:00.000000000",
          "2016-09-01T00:00:00.000000000",
          "2016-10-01T00:00:00.000000000",
          "2016-11-01T00:00:00.000000000",
          "2016-12-01T00:00:00.000000000",
          "2017-01-01T00:00:00.000000000",
          "2017-02-01T00:00:00.000000000",
          "2017-03-01T00:00:00.000000000",
          "2017-04-01T00:00:00.000000000",
          "2017-05-01T00:00:00.000000000",
          "2017-06-01T00:00:00.000000000",
          "2017-07-01T00:00:00.000000000",
          "2017-08-01T00:00:00.000000000",
          "2017-09-01T00:00:00.000000000",
          "2017-10-01T00:00:00.000000000",
          "2017-11-01T00:00:00.000000000",
          "2017-12-01T00:00:00.000000000",
          "2018-01-01T00:00:00.000000000",
          "2018-02-01T00:00:00.000000000",
          "2018-03-01T00:00:00.000000000",
          "2018-04-01T00:00:00.000000000",
          "2018-05-01T00:00:00.000000000",
          "2018-06-01T00:00:00.000000000",
          "2018-07-01T00:00:00.000000000",
          "2018-08-01T00:00:00.000000000",
          "2018-09-01T00:00:00.000000000",
          "2018-10-01T00:00:00.000000000",
          "2018-11-01T00:00:00.000000000",
          "2018-12-01T00:00:00.000000000",
          "2019-01-01T00:00:00.000000000",
          "2019-02-01T00:00:00.000000000",
          "2019-03-01T00:00:00.000000000",
          "2019-04-01T00:00:00.000000000",
          "2019-05-01T00:00:00.000000000",
          "2019-06-01T00:00:00.000000000",
          "2019-07-01T00:00:00.000000000",
          "2019-08-01T00:00:00.000000000",
          "2019-09-01T00:00:00.000000000",
          "2019-10-01T00:00:00.000000000",
          "2019-11-01T00:00:00.000000000",
          "2019-12-01T00:00:00.000000000",
          "2020-01-01T00:00:00.000000000",
          "2020-02-01T00:00:00.000000000",
          "2020-03-01T00:00:00.000000000",
          "2020-04-01T00:00:00.000000000",
          "2020-05-01T00:00:00.000000000",
          "2020-06-01T00:00:00.000000000",
          "2020-07-01T00:00:00.000000000",
          "2020-08-01T00:00:00.000000000",
          "2020-09-01T00:00:00.000000000",
          "2020-10-01T00:00:00.000000000",
          "2020-11-01T00:00:00.000000000",
          "2020-12-01T00:00:00.000000000",
          "2021-01-01T00:00:00.000000000",
          "2021-02-01T00:00:00.000000000",
          "2021-03-01T00:00:00.000000000",
          "2021-04-01T00:00:00.000000000",
          "2021-05-01T00:00:00.000000000",
          "2021-06-01T00:00:00.000000000",
          "2021-07-01T00:00:00.000000000",
          "2021-08-01T00:00:00.000000000",
          "2021-09-01T00:00:00.000000000",
          "2021-10-01T00:00:00.000000000",
          "2021-11-01T00:00:00.000000000",
          "2021-12-01T00:00:00.000000000",
          "2022-01-01T00:00:00.000000000",
          "2022-02-01T00:00:00.000000000",
          "2022-03-01T00:00:00.000000000",
          "2022-04-01T00:00:00.000000000",
          "2022-05-01T00:00:00.000000000"
         ],
         "xaxis": "x",
         "y": {
          "bdata": "Enp18d08YEBl/32gmS1hQO/3v8MB9mFAh3o4Tb9yY0AH6nye9p1kQHYJI1+s6mVApDawXtFsZkAZpm5QiVRmQONzWIaIc2ZARltJYoK4ZED6BdiMTeRhQKTypcUlZmFAYusovOnkYEAw4IlIf8VhQEzFgp+plmJAY4wxxpgxZECo/Ng4l5FlQOG51AC33WZAgx6tIPdWZ0BwknbH2y1nQI9LUYu5LmdAk33yvCBlZUAmYh1xTV9iQMkinSbpkWFAzSG2dys/X0BgNSOIrRdgQPuY7fJH+mBAdZFlIEifYkAaYfA3tINjQOgfOUS83WRAXWH4lwxjZUBiWdMLzkNlQBvrf3EaGmVAinSCODi3Y0CvJfV7uRBhQFl9Ah0EamBAQqUmJU7uX0Do6FBIMW9gQNXJ3E+kDWFA8BUaFongYkCu6MVURbxjQOuA8j5TD2VA6BdjLS+IZUD9k6dBuFhlQO1dHgISOWVAz28f/A6LY0ANnURJwqxgQEnnChlha2BACeqN7cyeX0B18KZNcw1gQLsyFDWv11VAjLtSqhFYNEBb6yYIZqg2QOwG3qiGu0BAgYb9qC2cUECim/CvVr9UQIgE7dTf9FJAzrNQR7WRUEC3MUJXA/1HQBgS5G0vWElALlM6oLEQRkAKTVmhaDtEQExN5cuJMEZAVx2rHIDsSEBJWLctGRhMQL1S8N/SIlRA99A+K+VuW0DtMo55aHFdQClvzvURDl1A1T6Oi2ANXEAa25LjOitZQNAgEqkvBllAJ0sMnNM2VUD6L5XiO69WQHt4N/tS5FlAFGjKsVpPX0DYe9+twhRhQA==",
          "dtype": "f8"
         },
         "yaxis": "y"
        }
       ],
       "layout": {
        "height": 600,
        "legend": {
         "tracegroupgap": 0
        },
        "margin": {
         "t": 60
        },
        "template": {
         "data": {
          "bar": [
           {
            "error_x": {
             "color": "#2a3f5f"
            },
            "error_y": {
             "color": "#2a3f5f"
            },
            "marker": {
             "line": {
              "color": "#E5ECF6",
              "width": 0.5
             },
             "pattern": {
              "fillmode": "overlay",
              "size": 10,
              "solidity": 0.2
             }
            },
            "type": "bar"
           }
          ],
          "barpolar": [
           {
            "marker": {
             "line": {
              "color": "#E5ECF6",
              "width": 0.5
             },
             "pattern": {
              "fillmode": "overlay",
              "size": 10,
              "solidity": 0.2
             }
            },
            "type": "barpolar"
           }
          ],
          "carpet": [
           {
            "aaxis": {
             "endlinecolor": "#2a3f5f",
             "gridcolor": "white",
             "linecolor": "white",
             "minorgridcolor": "white",
             "startlinecolor": "#2a3f5f"
            },
            "baxis": {
             "endlinecolor": "#2a3f5f",
             "gridcolor": "white",
             "linecolor": "white",
             "minorgridcolor": "white",
             "startlinecolor": "#2a3f5f"
            },
            "type": "carpet"
           }
          ],
          "choropleth": [
           {
            "colorbar": {
             "outlinewidth": 0,
             "ticks": ""
            },
            "type": "choropleth"
           }
          ],
          "contour": [
           {
            "colorbar": {
             "outlinewidth": 0,
             "ticks": ""
            },
            "colorscale": [
             [
              0,
              "#0d0887"
             ],
             [
              0.1111111111111111,
              "#46039f"
             ],
             [
              0.2222222222222222,
              "#7201a8"
             ],
             [
              0.3333333333333333,
              "#9c179e"
             ],
             [
              0.4444444444444444,
              "#bd3786"
             ],
             [
              0.5555555555555556,
              "#d8576b"
             ],
             [
              0.6666666666666666,
              "#ed7953"
             ],
             [
              0.7777777777777778,
              "#fb9f3a"
             ],
             [
              0.8888888888888888,
              "#fdca26"
             ],
             [
              1,
              "#f0f921"
             ]
            ],
            "type": "contour"
           }
          ],
          "contourcarpet": [
           {
            "colorbar": {
             "outlinewidth": 0,
             "ticks": ""
            },
            "type": "contourcarpet"
           }
          ],
          "heatmap": [
           {
            "colorbar": {
             "outlinewidth": 0,
             "ticks": ""
            },
            "colorscale": [
             [
              0,
              "#0d0887"
             ],
             [
              0.1111111111111111,
              "#46039f"
             ],
             [
              0.2222222222222222,
              "#7201a8"
             ],
             [
              0.3333333333333333,
              "#9c179e"
             ],
             [
              0.4444444444444444,
              "#bd3786"
             ],
             [
              0.5555555555555556,
              "#d8576b"
             ],
             [
              0.6666666666666666,
              "#ed7953"
             ],
             [
              0.7777777777777778,
              "#fb9f3a"
             ],
             [
              0.8888888888888888,
              "#fdca26"
             ],
             [
              1,
              "#f0f921"
             ]
            ],
            "type": "heatmap"
           }
          ],
          "histogram": [
           {
            "marker": {
             "pattern": {
              "fillmode": "overlay",
              "size": 10,
              "solidity": 0.2
             }
            },
            "type": "histogram"
           }
          ],
          "histogram2d": [
           {
            "colorbar": {
             "outlinewidth": 0,
             "ticks": ""
            },
            "colorscale": [
             [
              0,
              "#0d0887"
             ],
             [
              0.1111111111111111,
              "#46039f"
             ],
             [
              0.2222222222222222,
              "#7201a8"
             ],
             [
              0.3333333333333333,
              "#9c179e"
             ],
             [
              0.4444444444444444,
              "#bd3786"
             ],
             [
              0.5555555555555556,
              "#d8576b"
             ],
             [
              0.6666666666666666,
              "#ed7953"
             ],
             [
              0.7777777777777778,
              "#fb9f3a"
             ],
             [
              0.8888888888888888,
              "#fdca26"
             ],
             [
              1,
              "#f0f921"
             ]
            ],
            "type": "histogram2d"
           }
          ],
          "histogram2dcontour": [
           {
            "colorbar": {
             "outlinewidth": 0,
             "ticks": ""
            },
            "colorscale": [
             [
              0,
              "#0d0887"
             ],
             [
              0.1111111111111111,
              "#46039f"
             ],
             [
              0.2222222222222222,
              "#7201a8"
             ],
             [
              0.3333333333333333,
              "#9c179e"
             ],
             [
              0.4444444444444444,
              "#bd3786"
             ],
             [
              0.5555555555555556,
              "#d8576b"
             ],
             [
              0.6666666666666666,
              "#ed7953"
             ],
             [
              0.7777777777777778,
              "#fb9f3a"
             ],
             [
              0.8888888888888888,
              "#fdca26"
             ],
             [
              1,
              "#f0f921"
             ]
            ],
            "type": "histogram2dcontour"
           }
          ],
          "mesh3d": [
           {
            "colorbar": {
             "outlinewidth": 0,
             "ticks": ""
            },
            "type": "mesh3d"
           }
          ],
          "parcoords": [
           {
            "line": {
             "colorbar": {
              "outlinewidth": 0,
              "ticks": ""
             }
            },
            "type": "parcoords"
           }
          ],
          "pie": [
           {
            "automargin": true,
            "type": "pie"
           }
          ],
          "scatter": [
           {
            "fillpattern": {
             "fillmode": "overlay",
             "size": 10,
             "solidity": 0.2
            },
            "type": "scatter"
           }
          ],
          "scatter3d": [
           {
            "line": {
             "colorbar": {
              "outlinewidth": 0,
              "ticks": ""
             }
            },
            "marker": {
             "colorbar": {
              "outlinewidth": 0,
              "ticks": ""
             }
            },
            "type": "scatter3d"
           }
          ],
          "scattercarpet": [
           {
            "marker": {
             "colorbar": {
              "outlinewidth": 0,
              "ticks": ""
             }
            },
            "type": "scattercarpet"
           }
          ],
          "scattergeo": [
           {
            "marker": {
             "colorbar": {
              "outlinewidth": 0,
              "ticks": ""
             }
            },
            "type": "scattergeo"
           }
          ],
          "scattergl": [
           {
            "marker": {
             "colorbar": {
              "outlinewidth": 0,
              "ticks": ""
             }
            },
            "type": "scattergl"
           }
          ],
          "scattermap": [
           {
            "marker": {
             "colorbar": {
              "outlinewidth": 0,
              "ticks": ""
             }
            },
            "type": "scattermap"
           }
          ],
          "scattermapbox": [
           {
            "marker": {
             "colorbar": {
              "outlinewidth": 0,
              "ticks": ""
             }
            },
            "type": "scattermapbox"
           }
          ],
          "scatterpolar": [
           {
            "marker": {
             "colorbar": {
              "outlinewidth": 0,
              "ticks": ""
             }
            },
            "type": "scatterpolar"
           }
          ],
          "scatterpolargl": [
           {
            "marker": {
             "colorbar": {
              "outlinewidth": 0,
              "ticks": ""
             }
            },
            "type": "scatterpolargl"
           }
          ],
          "scatterternary": [
           {
            "marker": {
             "colorbar": {
              "outlinewidth": 0,
              "ticks": ""
             }
            },
            "type": "scatterternary"
           }
          ],
          "surface": [
           {
            "colorbar": {
             "outlinewidth": 0,
             "ticks": ""
            },
            "colorscale": [
             [
              0,
              "#0d0887"
             ],
             [
              0.1111111111111111,
              "#46039f"
             ],
             [
              0.2222222222222222,
              "#7201a8"
             ],
             [
              0.3333333333333333,
              "#9c179e"
             ],
             [
              0.4444444444444444,
              "#bd3786"
             ],
             [
              0.5555555555555556,
              "#d8576b"
             ],
             [
              0.6666666666666666,
              "#ed7953"
             ],
             [
              0.7777777777777778,
              "#fb9f3a"
             ],
             [
              0.8888888888888888,
              "#fdca26"
             ],
             [
              1,
              "#f0f921"
             ]
            ],
            "type": "surface"
           }
          ],
          "table": [
           {
            "cells": {
             "fill": {
              "color": "#EBF0F8"
             },
             "line": {
              "color": "white"
             }
            },
            "header": {
             "fill": {
              "color": "#C8D4E3"
             },
             "line": {
              "color": "white"
             }
            },
            "type": "table"
           }
          ]
         },
         "layout": {
          "annotationdefaults": {
           "arrowcolor": "#2a3f5f",
           "arrowhead": 0,
           "arrowwidth": 1
          },
          "autotypenumbers": "strict",
          "coloraxis": {
           "colorbar": {
            "outlinewidth": 0,
            "ticks": ""
           }
          },
          "colorscale": {
           "diverging": [
            [
             0,
             "#8e0152"
            ],
            [
             0.1,
             "#c51b7d"
            ],
            [
             0.2,
             "#de77ae"
            ],
            [
             0.3,
             "#f1b6da"
            ],
            [
             0.4,
             "#fde0ef"
            ],
            [
             0.5,
             "#f7f7f7"
            ],
            [
             0.6,
             "#e6f5d0"
            ],
            [
             0.7,
             "#b8e186"
            ],
            [
             0.8,
             "#7fbc41"
            ],
            [
             0.9,
             "#4d9221"
            ],
            [
             1,
             "#276419"
            ]
           ],
           "sequential": [
            [
             0,
             "#0d0887"
            ],
            [
             0.1111111111111111,
             "#46039f"
            ],
            [
             0.2222222222222222,
             "#7201a8"
            ],
            [
             0.3333333333333333,
             "#9c179e"
            ],
            [
             0.4444444444444444,
             "#bd3786"
            ],
            [
             0.5555555555555556,
             "#d8576b"
            ],
            [
             0.6666666666666666,
             "#ed7953"
            ],
            [
             0.7777777777777778,
             "#fb9f3a"
            ],
            [
             0.8888888888888888,
             "#fdca26"
            ],
            [
             1,
             "#f0f921"
            ]
           ],
           "sequentialminus": [
            [
             0,
             "#0d0887"
            ],
            [
             0.1111111111111111,
             "#46039f"
            ],
            [
             0.2222222222222222,
             "#7201a8"
            ],
            [
             0.3333333333333333,
             "#9c179e"
            ],
            [
             0.4444444444444444,
             "#bd3786"
            ],
            [
             0.5555555555555556,
             "#d8576b"
            ],
            [
             0.6666666666666666,
             "#ed7953"
            ],
            [
             0.7777777777777778,
             "#fb9f3a"
            ],
            [
             0.8888888888888888,
             "#fdca26"
            ],
            [
             1,
             "#f0f921"
            ]
           ]
          },
          "colorway": [
           "#636efa",
           "#EF553B",
           "#00cc96",
           "#ab63fa",
           "#FFA15A",
           "#19d3f3",
           "#FF6692",
           "#B6E880",
           "#FF97FF",
           "#FECB52"
          ],
          "font": {
           "color": "#2a3f5f"
          },
          "geo": {
           "bgcolor": "white",
           "lakecolor": "white",
           "landcolor": "#E5ECF6",
           "showlakes": true,
           "showland": true,
           "subunitcolor": "white"
          },
          "hoverlabel": {
           "align": "left"
          },
          "hovermode": "closest",
          "mapbox": {
           "style": "light"
          },
          "paper_bgcolor": "white",
          "plot_bgcolor": "#E5ECF6",
          "polar": {
           "angularaxis": {
            "gridcolor": "white",
            "linecolor": "white",
            "ticks": ""
           },
           "bgcolor": "#E5ECF6",
           "radialaxis": {
            "gridcolor": "white",
            "linecolor": "white",
            "ticks": ""
           }
          },
          "scene": {
           "xaxis": {
            "backgroundcolor": "#E5ECF6",
            "gridcolor": "white",
            "gridwidth": 2,
            "linecolor": "white",
            "showbackground": true,
            "ticks": "",
            "zerolinecolor": "white"
           },
           "yaxis": {
            "backgroundcolor": "#E5ECF6",
            "gridcolor": "white",
            "gridwidth": 2,
            "linecolor": "white",
            "showbackground": true,
            "ticks": "",
            "zerolinecolor": "white"
           },
           "zaxis": {
            "backgroundcolor": "#E5ECF6",
            "gridcolor": "white",
            "gridwidth": 2,
            "linecolor": "white",
            "showbackground": true,
            "ticks": "",
            "zerolinecolor": "white"
           }
          },
          "shapedefaults": {
           "line": {
            "color": "#2a3f5f"
           }
          },
          "ternary": {
           "aaxis": {
            "gridcolor": "white",
            "linecolor": "white",
            "ticks": ""
           },
           "baxis": {
            "gridcolor": "white",
            "linecolor": "white",
            "ticks": ""
           },
           "bgcolor": "#E5ECF6",
           "caxis": {
            "gridcolor": "white",
            "linecolor": "white",
            "ticks": ""
           }
          },
          "title": {
           "x": 0.05
          },
          "xaxis": {
           "automargin": true,
           "gridcolor": "white",
           "linecolor": "white",
           "ticks": "",
           "title": {
            "standoff": 15
           },
           "zerolinecolor": "white",
           "zerolinewidth": 2
          },
          "yaxis": {
           "automargin": true,
           "gridcolor": "white",
           "linecolor": "white",
           "ticks": "",
           "title": {
            "standoff": 15
           },
           "zerolinecolor": "white",
           "zerolinewidth": 2
          }
         }
        },
        "xaxis": {
         "anchor": "y",
         "domain": [
          0,
          1
         ],
         "showgrid": true,
         "tickangle": -45,
         "tickmode": "array",
         "ticktext": [
          "Gen 2016",
          "Mag",
          "Set",
          "Gen 2017",
          "Mag",
          "Set",
          "Gen 2018",
          "Mag",
          "Set",
          "Gen 2019",
          "Mag",
          "Set",
          "Gen 2020",
          "Mag",
          "Set",
          "Gen 2021",
          "Mag",
          "Set",
          "Gen 2022",
          "Mag"
         ],
         "tickvals": [
          "2016-01-01T00:00:00.000000000",
          "2016-05-01T00:00:00.000000000",
          "2016-09-01T00:00:00.000000000",
          "2017-01-01T00:00:00.000000000",
          "2017-05-01T00:00:00.000000000",
          "2017-09-01T00:00:00.000000000",
          "2018-01-01T00:00:00.000000000",
          "2018-05-01T00:00:00.000000000",
          "2018-09-01T00:00:00.000000000",
          "2019-01-01T00:00:00.000000000",
          "2019-05-01T00:00:00.000000000",
          "2019-09-01T00:00:00.000000000",
          "2020-01-01T00:00:00.000000000",
          "2020-05-01T00:00:00.000000000",
          "2020-09-01T00:00:00.000000000",
          "2021-01-01T00:00:00.000000000",
          "2021-05-01T00:00:00.000000000",
          "2021-09-01T00:00:00.000000000",
          "2022-01-01T00:00:00.000000000",
          "2022-05-01T00:00:00.000000000"
         ],
         "title": {
          "text": "Periodo (Mese)"
         }
        },
        "yaxis": {
         "anchor": "x",
         "domain": [
          0,
          1
         ],
         "title": {
          "text": "Voli Medi Giornalieri"
         }
        }
       }
      }
     },
     "metadata": {},
     "output_type": "display_data"
    }
   ],
   "source": [
    "# Prepara il datetime e la colonna year-month\n",
    "df[\"FLT_DATE\"] = pd.to_datetime(df[\"FLT_DATE\"])\n",
    "df[\"YEAR_MONTH\"] = df[\"FLT_DATE\"].dt.to_period(\"M\").dt.to_timestamp()\n",
    "\n",
    "# Calcolo della media mensile dei voli giornalieri\n",
    "monthly_avg = df.groupby(\"YEAR_MONTH\")[\"FLT_TOT_1\"].mean().reset_index()\n",
    "\n",
    "# Estrai il mese e l'anno per le etichette\n",
    "monthly_avg[\"MONTH\"] = monthly_avg[\"YEAR_MONTH\"].dt.month\n",
    "monthly_avg[\"YEAR\"]  = monthly_avg[\"YEAR_MONTH\"].dt.year\n",
    "\n",
    "# Inizializza le etichette a stringa vuota\n",
    "monthly_avg[\"TICK_LABEL\"] = \"\"\n",
    "\n",
    "# Solo Gennaio: \"Gen YYYY\"\n",
    "monthly_avg.loc[monthly_avg[\"MONTH\"] == 1, \"TICK_LABEL\"] = \\\n",
    "    monthly_avg.loc[monthly_avg[\"MONTH\"] == 1, \"YEAR_MONTH\"].dt.strftime(\"Gen %Y\")\n",
    "\n",
    "# Solo Maggio: \"Mag\"\n",
    "monthly_avg.loc[monthly_avg[\"MONTH\"] == 5, \"TICK_LABEL\"] = \"Mag\"\n",
    "\n",
    "# Solo Settembre: \"Set\"\n",
    "monthly_avg.loc[monthly_avg[\"MONTH\"] == 9, \"TICK_LABEL\"] = \"Set\"\n",
    "\n",
    "# Definisci i tick da mostrare\n",
    "mask_ticks  = monthly_avg[\"MONTH\"].isin([1, 5, 9])\n",
    "tick_vals   = monthly_avg.loc[mask_ticks, \"YEAR_MONTH\"]\n",
    "tick_texts  = monthly_avg.loc[mask_ticks, \"TICK_LABEL\"]\n",
    "\n",
    "# Costruisci il grafico\n",
    "fig = px.line(\n",
    "    monthly_avg,\n",
    "    x=\"YEAR_MONTH\",\n",
    "    y=\"FLT_TOT_1\",\n",
    "    markers=True,\n",
    "    #title=\"Trend dei Voli Medi Giornalieri per Mese (2016–2022)\",\n",
    "    labels={\"YEAR_MONTH\": \"Periodo (Mese)\", \"FLT_TOT_1\": \"Voli Medi Giornalieri\"}\n",
    ")\n",
    "\n",
    "# Applica le etichette personalizzate solo a Gen, Mag e Set\n",
    "fig.update_layout(\n",
    "    xaxis=dict(\n",
    "        tickmode=\"array\",\n",
    "        tickvals=tick_vals,\n",
    "        ticktext=tick_texts,\n",
    "        tickangle=-45,\n",
    "        showgrid=True\n",
    "    ),\n",
    "    height=600\n",
    ")\n",
    "\n",
    "fig.show()"
   ]
  },
  {
   "cell_type": "code",
   "execution_count": 21,
   "id": "da850136",
   "metadata": {},
   "outputs": [
    {
     "data": {
      "application/vnd.plotly.v1+json": {
       "config": {
        "plotlyServerURL": "https://plot.ly"
       },
       "data": [
        {
         "hovertemplate": "Totale voli (arrivi + partenze)=%{x}<br>Aeroporto=%{y}<br>PERCENT=%{text}<extra></extra>",
         "legendgroup": "",
         "marker": {
          "color": "#636efa",
          "line": {
           "width": 1.5
          },
          "pattern": {
           "shape": ""
          }
         },
         "name": "",
         "orientation": "h",
         "showlegend": false,
         "text": {
          "bdata": "atz2HcE4+T/ie82SpOb7PwTvRLcg3fw/uYzNGGE9/z+1TSizzYACQM+zjN9gdANARCA03VB7BkA2eN4sBbkHQD2lp+heuQdAthc4nK3BCEA=",
          "dtype": "f8"
         },
         "textposition": "outside",
         "texttemplate": "%{text:.1f}%",
         "type": "bar",
         "x": {
          "bdata": "ofAUABQqFwC49hcAtu8ZAFS5HgDHTSAAilQlABRkJwCpZCcAiRspAA==",
          "dtype": "i4"
         },
         "xaxis": "x",
         "y": [
          "Zürich",
          "Rome - Fiumicino",
          "Istanbul Atatürk",
          "Barcelona",
          "Munich",
          "Madrid - Barajas",
          "London - Heathrow",
          "Frankfurt",
          "Paris-Charles-de-Gaulle",
          "Amsterdam - Schiphol"
         ],
         "yaxis": "y"
        }
       ],
       "layout": {
        "barmode": "relative",
        "height": 600,
        "legend": {
         "tracegroupgap": 0
        },
        "margin": {
         "b": 60,
         "l": 200,
         "r": 40,
         "t": 70
        },
        "template": {
         "data": {
          "bar": [
           {
            "error_x": {
             "color": "#2a3f5f"
            },
            "error_y": {
             "color": "#2a3f5f"
            },
            "marker": {
             "line": {
              "color": "#E5ECF6",
              "width": 0.5
             },
             "pattern": {
              "fillmode": "overlay",
              "size": 10,
              "solidity": 0.2
             }
            },
            "type": "bar"
           }
          ],
          "barpolar": [
           {
            "marker": {
             "line": {
              "color": "#E5ECF6",
              "width": 0.5
             },
             "pattern": {
              "fillmode": "overlay",
              "size": 10,
              "solidity": 0.2
             }
            },
            "type": "barpolar"
           }
          ],
          "carpet": [
           {
            "aaxis": {
             "endlinecolor": "#2a3f5f",
             "gridcolor": "white",
             "linecolor": "white",
             "minorgridcolor": "white",
             "startlinecolor": "#2a3f5f"
            },
            "baxis": {
             "endlinecolor": "#2a3f5f",
             "gridcolor": "white",
             "linecolor": "white",
             "minorgridcolor": "white",
             "startlinecolor": "#2a3f5f"
            },
            "type": "carpet"
           }
          ],
          "choropleth": [
           {
            "colorbar": {
             "outlinewidth": 0,
             "ticks": ""
            },
            "type": "choropleth"
           }
          ],
          "contour": [
           {
            "colorbar": {
             "outlinewidth": 0,
             "ticks": ""
            },
            "colorscale": [
             [
              0,
              "#0d0887"
             ],
             [
              0.1111111111111111,
              "#46039f"
             ],
             [
              0.2222222222222222,
              "#7201a8"
             ],
             [
              0.3333333333333333,
              "#9c179e"
             ],
             [
              0.4444444444444444,
              "#bd3786"
             ],
             [
              0.5555555555555556,
              "#d8576b"
             ],
             [
              0.6666666666666666,
              "#ed7953"
             ],
             [
              0.7777777777777778,
              "#fb9f3a"
             ],
             [
              0.8888888888888888,
              "#fdca26"
             ],
             [
              1,
              "#f0f921"
             ]
            ],
            "type": "contour"
           }
          ],
          "contourcarpet": [
           {
            "colorbar": {
             "outlinewidth": 0,
             "ticks": ""
            },
            "type": "contourcarpet"
           }
          ],
          "heatmap": [
           {
            "colorbar": {
             "outlinewidth": 0,
             "ticks": ""
            },
            "colorscale": [
             [
              0,
              "#0d0887"
             ],
             [
              0.1111111111111111,
              "#46039f"
             ],
             [
              0.2222222222222222,
              "#7201a8"
             ],
             [
              0.3333333333333333,
              "#9c179e"
             ],
             [
              0.4444444444444444,
              "#bd3786"
             ],
             [
              0.5555555555555556,
              "#d8576b"
             ],
             [
              0.6666666666666666,
              "#ed7953"
             ],
             [
              0.7777777777777778,
              "#fb9f3a"
             ],
             [
              0.8888888888888888,
              "#fdca26"
             ],
             [
              1,
              "#f0f921"
             ]
            ],
            "type": "heatmap"
           }
          ],
          "histogram": [
           {
            "marker": {
             "pattern": {
              "fillmode": "overlay",
              "size": 10,
              "solidity": 0.2
             }
            },
            "type": "histogram"
           }
          ],
          "histogram2d": [
           {
            "colorbar": {
             "outlinewidth": 0,
             "ticks": ""
            },
            "colorscale": [
             [
              0,
              "#0d0887"
             ],
             [
              0.1111111111111111,
              "#46039f"
             ],
             [
              0.2222222222222222,
              "#7201a8"
             ],
             [
              0.3333333333333333,
              "#9c179e"
             ],
             [
              0.4444444444444444,
              "#bd3786"
             ],
             [
              0.5555555555555556,
              "#d8576b"
             ],
             [
              0.6666666666666666,
              "#ed7953"
             ],
             [
              0.7777777777777778,
              "#fb9f3a"
             ],
             [
              0.8888888888888888,
              "#fdca26"
             ],
             [
              1,
              "#f0f921"
             ]
            ],
            "type": "histogram2d"
           }
          ],
          "histogram2dcontour": [
           {
            "colorbar": {
             "outlinewidth": 0,
             "ticks": ""
            },
            "colorscale": [
             [
              0,
              "#0d0887"
             ],
             [
              0.1111111111111111,
              "#46039f"
             ],
             [
              0.2222222222222222,
              "#7201a8"
             ],
             [
              0.3333333333333333,
              "#9c179e"
             ],
             [
              0.4444444444444444,
              "#bd3786"
             ],
             [
              0.5555555555555556,
              "#d8576b"
             ],
             [
              0.6666666666666666,
              "#ed7953"
             ],
             [
              0.7777777777777778,
              "#fb9f3a"
             ],
             [
              0.8888888888888888,
              "#fdca26"
             ],
             [
              1,
              "#f0f921"
             ]
            ],
            "type": "histogram2dcontour"
           }
          ],
          "mesh3d": [
           {
            "colorbar": {
             "outlinewidth": 0,
             "ticks": ""
            },
            "type": "mesh3d"
           }
          ],
          "parcoords": [
           {
            "line": {
             "colorbar": {
              "outlinewidth": 0,
              "ticks": ""
             }
            },
            "type": "parcoords"
           }
          ],
          "pie": [
           {
            "automargin": true,
            "type": "pie"
           }
          ],
          "scatter": [
           {
            "fillpattern": {
             "fillmode": "overlay",
             "size": 10,
             "solidity": 0.2
            },
            "type": "scatter"
           }
          ],
          "scatter3d": [
           {
            "line": {
             "colorbar": {
              "outlinewidth": 0,
              "ticks": ""
             }
            },
            "marker": {
             "colorbar": {
              "outlinewidth": 0,
              "ticks": ""
             }
            },
            "type": "scatter3d"
           }
          ],
          "scattercarpet": [
           {
            "marker": {
             "colorbar": {
              "outlinewidth": 0,
              "ticks": ""
             }
            },
            "type": "scattercarpet"
           }
          ],
          "scattergeo": [
           {
            "marker": {
             "colorbar": {
              "outlinewidth": 0,
              "ticks": ""
             }
            },
            "type": "scattergeo"
           }
          ],
          "scattergl": [
           {
            "marker": {
             "colorbar": {
              "outlinewidth": 0,
              "ticks": ""
             }
            },
            "type": "scattergl"
           }
          ],
          "scattermap": [
           {
            "marker": {
             "colorbar": {
              "outlinewidth": 0,
              "ticks": ""
             }
            },
            "type": "scattermap"
           }
          ],
          "scattermapbox": [
           {
            "marker": {
             "colorbar": {
              "outlinewidth": 0,
              "ticks": ""
             }
            },
            "type": "scattermapbox"
           }
          ],
          "scatterpolar": [
           {
            "marker": {
             "colorbar": {
              "outlinewidth": 0,
              "ticks": ""
             }
            },
            "type": "scatterpolar"
           }
          ],
          "scatterpolargl": [
           {
            "marker": {
             "colorbar": {
              "outlinewidth": 0,
              "ticks": ""
             }
            },
            "type": "scatterpolargl"
           }
          ],
          "scatterternary": [
           {
            "marker": {
             "colorbar": {
              "outlinewidth": 0,
              "ticks": ""
             }
            },
            "type": "scatterternary"
           }
          ],
          "surface": [
           {
            "colorbar": {
             "outlinewidth": 0,
             "ticks": ""
            },
            "colorscale": [
             [
              0,
              "#0d0887"
             ],
             [
              0.1111111111111111,
              "#46039f"
             ],
             [
              0.2222222222222222,
              "#7201a8"
             ],
             [
              0.3333333333333333,
              "#9c179e"
             ],
             [
              0.4444444444444444,
              "#bd3786"
             ],
             [
              0.5555555555555556,
              "#d8576b"
             ],
             [
              0.6666666666666666,
              "#ed7953"
             ],
             [
              0.7777777777777778,
              "#fb9f3a"
             ],
             [
              0.8888888888888888,
              "#fdca26"
             ],
             [
              1,
              "#f0f921"
             ]
            ],
            "type": "surface"
           }
          ],
          "table": [
           {
            "cells": {
             "fill": {
              "color": "#EBF0F8"
             },
             "line": {
              "color": "white"
             }
            },
            "header": {
             "fill": {
              "color": "#C8D4E3"
             },
             "line": {
              "color": "white"
             }
            },
            "type": "table"
           }
          ]
         },
         "layout": {
          "annotationdefaults": {
           "arrowcolor": "#2a3f5f",
           "arrowhead": 0,
           "arrowwidth": 1
          },
          "autotypenumbers": "strict",
          "coloraxis": {
           "colorbar": {
            "outlinewidth": 0,
            "ticks": ""
           }
          },
          "colorscale": {
           "diverging": [
            [
             0,
             "#8e0152"
            ],
            [
             0.1,
             "#c51b7d"
            ],
            [
             0.2,
             "#de77ae"
            ],
            [
             0.3,
             "#f1b6da"
            ],
            [
             0.4,
             "#fde0ef"
            ],
            [
             0.5,
             "#f7f7f7"
            ],
            [
             0.6,
             "#e6f5d0"
            ],
            [
             0.7,
             "#b8e186"
            ],
            [
             0.8,
             "#7fbc41"
            ],
            [
             0.9,
             "#4d9221"
            ],
            [
             1,
             "#276419"
            ]
           ],
           "sequential": [
            [
             0,
             "#0d0887"
            ],
            [
             0.1111111111111111,
             "#46039f"
            ],
            [
             0.2222222222222222,
             "#7201a8"
            ],
            [
             0.3333333333333333,
             "#9c179e"
            ],
            [
             0.4444444444444444,
             "#bd3786"
            ],
            [
             0.5555555555555556,
             "#d8576b"
            ],
            [
             0.6666666666666666,
             "#ed7953"
            ],
            [
             0.7777777777777778,
             "#fb9f3a"
            ],
            [
             0.8888888888888888,
             "#fdca26"
            ],
            [
             1,
             "#f0f921"
            ]
           ],
           "sequentialminus": [
            [
             0,
             "#0d0887"
            ],
            [
             0.1111111111111111,
             "#46039f"
            ],
            [
             0.2222222222222222,
             "#7201a8"
            ],
            [
             0.3333333333333333,
             "#9c179e"
            ],
            [
             0.4444444444444444,
             "#bd3786"
            ],
            [
             0.5555555555555556,
             "#d8576b"
            ],
            [
             0.6666666666666666,
             "#ed7953"
            ],
            [
             0.7777777777777778,
             "#fb9f3a"
            ],
            [
             0.8888888888888888,
             "#fdca26"
            ],
            [
             1,
             "#f0f921"
            ]
           ]
          },
          "colorway": [
           "#636efa",
           "#EF553B",
           "#00cc96",
           "#ab63fa",
           "#FFA15A",
           "#19d3f3",
           "#FF6692",
           "#B6E880",
           "#FF97FF",
           "#FECB52"
          ],
          "font": {
           "color": "#2a3f5f"
          },
          "geo": {
           "bgcolor": "white",
           "lakecolor": "white",
           "landcolor": "#E5ECF6",
           "showlakes": true,
           "showland": true,
           "subunitcolor": "white"
          },
          "hoverlabel": {
           "align": "left"
          },
          "hovermode": "closest",
          "mapbox": {
           "style": "light"
          },
          "paper_bgcolor": "white",
          "plot_bgcolor": "#E5ECF6",
          "polar": {
           "angularaxis": {
            "gridcolor": "white",
            "linecolor": "white",
            "ticks": ""
           },
           "bgcolor": "#E5ECF6",
           "radialaxis": {
            "gridcolor": "white",
            "linecolor": "white",
            "ticks": ""
           }
          },
          "scene": {
           "xaxis": {
            "backgroundcolor": "#E5ECF6",
            "gridcolor": "white",
            "gridwidth": 2,
            "linecolor": "white",
            "showbackground": true,
            "ticks": "",
            "zerolinecolor": "white"
           },
           "yaxis": {
            "backgroundcolor": "#E5ECF6",
            "gridcolor": "white",
            "gridwidth": 2,
            "linecolor": "white",
            "showbackground": true,
            "ticks": "",
            "zerolinecolor": "white"
           },
           "zaxis": {
            "backgroundcolor": "#E5ECF6",
            "gridcolor": "white",
            "gridwidth": 2,
            "linecolor": "white",
            "showbackground": true,
            "ticks": "",
            "zerolinecolor": "white"
           }
          },
          "shapedefaults": {
           "line": {
            "color": "#2a3f5f"
           }
          },
          "ternary": {
           "aaxis": {
            "gridcolor": "white",
            "linecolor": "white",
            "ticks": ""
           },
           "baxis": {
            "gridcolor": "white",
            "linecolor": "white",
            "ticks": ""
           },
           "bgcolor": "#E5ECF6",
           "caxis": {
            "gridcolor": "white",
            "linecolor": "white",
            "ticks": ""
           }
          },
          "title": {
           "x": 0.05
          },
          "xaxis": {
           "automargin": true,
           "gridcolor": "white",
           "linecolor": "white",
           "ticks": "",
           "title": {
            "standoff": 15
           },
           "zerolinecolor": "white",
           "zerolinewidth": 2
          },
          "yaxis": {
           "automargin": true,
           "gridcolor": "white",
           "linecolor": "white",
           "ticks": "",
           "title": {
            "standoff": 15
           },
           "zerolinecolor": "white",
           "zerolinewidth": 2
          }
         }
        },
        "xaxis": {
         "anchor": "y",
         "domain": [
          0,
          1
         ],
         "tickformat": ",",
         "title": {
          "text": "Numero totale di voli"
         }
        },
        "yaxis": {
         "anchor": "x",
         "categoryorder": "total ascending",
         "domain": [
          0,
          1
         ],
         "title": {
          "text": "Aeroporto"
         }
        }
       }
      }
     },
     "metadata": {},
     "output_type": "display_data"
    }
   ],
   "source": [
    "# Raggruppa per aeroporto e somma FLT_TOT_1 (totale voli)\n",
    "arrivals = (\n",
    "    df\n",
    "    .groupby([\"APT_ICAO\", \"APT_NAME\"])[\"FLT_TOT_1\"]\n",
    "    .sum()\n",
    "    .reset_index()\n",
    "    .rename(columns={\"FLT_TOT_1\": \"TOT_VOLI\"})\n",
    ")\n",
    "\n",
    "# Seleziona i top 10 aeroporti per TOT_VOLI\n",
    "top10 = arrivals.sort_values(\"TOT_VOLI\", ascending=False).head(10)\n",
    "\n",
    "# Calcola la percentuale sul totale del dataset\n",
    "total_all = arrivals[\"TOT_VOLI\"].sum()\n",
    "top10[\"PERCENT\"] = top10[\"TOT_VOLI\"] / total_all * 100\n",
    "\n",
    "# Ordina in ordine crescente in modo che la barra più lunga finisca in alto\n",
    "top10 = top10.sort_values(\"TOT_VOLI\", ascending=True)\n",
    "\n",
    "# Crea il grafico a barre orizzontali\n",
    "fig = px.bar(\n",
    "    top10,\n",
    "    x=\"TOT_VOLI\",\n",
    "    y=\"APT_NAME\",\n",
    "    orientation=\"h\",\n",
    "    #title=\"Top 10 aeroporti per traffico totale\",\n",
    "    labels={\n",
    "        \"TOT_VOLI\": \"Totale voli (arrivi + partenze)\",\n",
    "        \"APT_NAME\": \"Aeroporto\"\n",
    "    },\n",
    "    text=\"PERCENT\"\n",
    ")\n",
    "\n",
    "# Formatta il testo come percentuale con un decimale\n",
    "fig.update_traces(\n",
    "    texttemplate=\"%{text:.1f}%\",\n",
    "    textposition=\"outside\",\n",
    "    marker_line_width=1.5\n",
    ")\n",
    "\n",
    "# Imposta l'asse X sui valori assoluti con separatore delle migliaia\n",
    "fig.update_layout(\n",
    "    xaxis=dict(\n",
    "        tickformat=\",\",\n",
    "        title=\"Numero totale di voli\"\n",
    "    ),\n",
    "    margin=dict(l=200, r=40, t=70, b=60),\n",
    "    height=600,\n",
    "    yaxis=dict(categoryorder=\"total ascending\")\n",
    ")\n",
    "\n",
    "fig.show()"
   ]
  },
  {
   "cell_type": "code",
   "execution_count": 22,
   "id": "b51d13dd",
   "metadata": {},
   "outputs": [
    {
     "data": {
      "application/vnd.plotly.v1+json": {
       "config": {
        "plotlyServerURL": "https://plot.ly"
       },
       "data": [
        {
         "hovertemplate": "Totale voli (arrivi + partenze)=%{x}<br>Aeroporto=%{y}<br>PERCENT=%{text}<extra></extra>",
         "legendgroup": "",
         "marker": {
          "color": "#636efa",
          "line": {
           "width": 1.5
          },
          "pattern": {
           "shape": ""
          }
         },
         "name": "",
         "orientation": "h",
         "showlegend": false,
         "text": {
          "bdata": "8i8exP9Q/z7g4FJuGLEYP9cN0L28UDg/nh/nZXwYTT937HHcF5hSPzvA5LERQFQ/1/ARusxFWj8teWny9bNbP5wZK7WjiWI/fS8I7TyEbj8=",
          "dtype": "f8"
         },
         "textposition": "outside",
         "texttemplate": "%{text:.5f}%",
         "type": "bar",
         "x": {
          "bdata": "GgBSAEMBBQPcAzQEdAXABbIHqww=",
          "dtype": "i2"
         },
         "xaxis": "x",
         "y": [
          "Tukums Jurmala",
          "Ventspils",
          "Sligo",
          "Ciudad Real Central",
          "Montijo",
          "Valencia - Requena",
          "Abad",
          "Palma - Son San Juan",
          "Cordoba",
          "Radom"
         ],
         "yaxis": "y"
        }
       ],
       "layout": {
        "barmode": "relative",
        "height": 600,
        "legend": {
         "tracegroupgap": 0
        },
        "margin": {
         "b": 60,
         "l": 200,
         "r": 40,
         "t": 70
        },
        "template": {
         "data": {
          "bar": [
           {
            "error_x": {
             "color": "#2a3f5f"
            },
            "error_y": {
             "color": "#2a3f5f"
            },
            "marker": {
             "line": {
              "color": "#E5ECF6",
              "width": 0.5
             },
             "pattern": {
              "fillmode": "overlay",
              "size": 10,
              "solidity": 0.2
             }
            },
            "type": "bar"
           }
          ],
          "barpolar": [
           {
            "marker": {
             "line": {
              "color": "#E5ECF6",
              "width": 0.5
             },
             "pattern": {
              "fillmode": "overlay",
              "size": 10,
              "solidity": 0.2
             }
            },
            "type": "barpolar"
           }
          ],
          "carpet": [
           {
            "aaxis": {
             "endlinecolor": "#2a3f5f",
             "gridcolor": "white",
             "linecolor": "white",
             "minorgridcolor": "white",
             "startlinecolor": "#2a3f5f"
            },
            "baxis": {
             "endlinecolor": "#2a3f5f",
             "gridcolor": "white",
             "linecolor": "white",
             "minorgridcolor": "white",
             "startlinecolor": "#2a3f5f"
            },
            "type": "carpet"
           }
          ],
          "choropleth": [
           {
            "colorbar": {
             "outlinewidth": 0,
             "ticks": ""
            },
            "type": "choropleth"
           }
          ],
          "contour": [
           {
            "colorbar": {
             "outlinewidth": 0,
             "ticks": ""
            },
            "colorscale": [
             [
              0,
              "#0d0887"
             ],
             [
              0.1111111111111111,
              "#46039f"
             ],
             [
              0.2222222222222222,
              "#7201a8"
             ],
             [
              0.3333333333333333,
              "#9c179e"
             ],
             [
              0.4444444444444444,
              "#bd3786"
             ],
             [
              0.5555555555555556,
              "#d8576b"
             ],
             [
              0.6666666666666666,
              "#ed7953"
             ],
             [
              0.7777777777777778,
              "#fb9f3a"
             ],
             [
              0.8888888888888888,
              "#fdca26"
             ],
             [
              1,
              "#f0f921"
             ]
            ],
            "type": "contour"
           }
          ],
          "contourcarpet": [
           {
            "colorbar": {
             "outlinewidth": 0,
             "ticks": ""
            },
            "type": "contourcarpet"
           }
          ],
          "heatmap": [
           {
            "colorbar": {
             "outlinewidth": 0,
             "ticks": ""
            },
            "colorscale": [
             [
              0,
              "#0d0887"
             ],
             [
              0.1111111111111111,
              "#46039f"
             ],
             [
              0.2222222222222222,
              "#7201a8"
             ],
             [
              0.3333333333333333,
              "#9c179e"
             ],
             [
              0.4444444444444444,
              "#bd3786"
             ],
             [
              0.5555555555555556,
              "#d8576b"
             ],
             [
              0.6666666666666666,
              "#ed7953"
             ],
             [
              0.7777777777777778,
              "#fb9f3a"
             ],
             [
              0.8888888888888888,
              "#fdca26"
             ],
             [
              1,
              "#f0f921"
             ]
            ],
            "type": "heatmap"
           }
          ],
          "histogram": [
           {
            "marker": {
             "pattern": {
              "fillmode": "overlay",
              "size": 10,
              "solidity": 0.2
             }
            },
            "type": "histogram"
           }
          ],
          "histogram2d": [
           {
            "colorbar": {
             "outlinewidth": 0,
             "ticks": ""
            },
            "colorscale": [
             [
              0,
              "#0d0887"
             ],
             [
              0.1111111111111111,
              "#46039f"
             ],
             [
              0.2222222222222222,
              "#7201a8"
             ],
             [
              0.3333333333333333,
              "#9c179e"
             ],
             [
              0.4444444444444444,
              "#bd3786"
             ],
             [
              0.5555555555555556,
              "#d8576b"
             ],
             [
              0.6666666666666666,
              "#ed7953"
             ],
             [
              0.7777777777777778,
              "#fb9f3a"
             ],
             [
              0.8888888888888888,
              "#fdca26"
             ],
             [
              1,
              "#f0f921"
             ]
            ],
            "type": "histogram2d"
           }
          ],
          "histogram2dcontour": [
           {
            "colorbar": {
             "outlinewidth": 0,
             "ticks": ""
            },
            "colorscale": [
             [
              0,
              "#0d0887"
             ],
             [
              0.1111111111111111,
              "#46039f"
             ],
             [
              0.2222222222222222,
              "#7201a8"
             ],
             [
              0.3333333333333333,
              "#9c179e"
             ],
             [
              0.4444444444444444,
              "#bd3786"
             ],
             [
              0.5555555555555556,
              "#d8576b"
             ],
             [
              0.6666666666666666,
              "#ed7953"
             ],
             [
              0.7777777777777778,
              "#fb9f3a"
             ],
             [
              0.8888888888888888,
              "#fdca26"
             ],
             [
              1,
              "#f0f921"
             ]
            ],
            "type": "histogram2dcontour"
           }
          ],
          "mesh3d": [
           {
            "colorbar": {
             "outlinewidth": 0,
             "ticks": ""
            },
            "type": "mesh3d"
           }
          ],
          "parcoords": [
           {
            "line": {
             "colorbar": {
              "outlinewidth": 0,
              "ticks": ""
             }
            },
            "type": "parcoords"
           }
          ],
          "pie": [
           {
            "automargin": true,
            "type": "pie"
           }
          ],
          "scatter": [
           {
            "fillpattern": {
             "fillmode": "overlay",
             "size": 10,
             "solidity": 0.2
            },
            "type": "scatter"
           }
          ],
          "scatter3d": [
           {
            "line": {
             "colorbar": {
              "outlinewidth": 0,
              "ticks": ""
             }
            },
            "marker": {
             "colorbar": {
              "outlinewidth": 0,
              "ticks": ""
             }
            },
            "type": "scatter3d"
           }
          ],
          "scattercarpet": [
           {
            "marker": {
             "colorbar": {
              "outlinewidth": 0,
              "ticks": ""
             }
            },
            "type": "scattercarpet"
           }
          ],
          "scattergeo": [
           {
            "marker": {
             "colorbar": {
              "outlinewidth": 0,
              "ticks": ""
             }
            },
            "type": "scattergeo"
           }
          ],
          "scattergl": [
           {
            "marker": {
             "colorbar": {
              "outlinewidth": 0,
              "ticks": ""
             }
            },
            "type": "scattergl"
           }
          ],
          "scattermap": [
           {
            "marker": {
             "colorbar": {
              "outlinewidth": 0,
              "ticks": ""
             }
            },
            "type": "scattermap"
           }
          ],
          "scattermapbox": [
           {
            "marker": {
             "colorbar": {
              "outlinewidth": 0,
              "ticks": ""
             }
            },
            "type": "scattermapbox"
           }
          ],
          "scatterpolar": [
           {
            "marker": {
             "colorbar": {
              "outlinewidth": 0,
              "ticks": ""
             }
            },
            "type": "scatterpolar"
           }
          ],
          "scatterpolargl": [
           {
            "marker": {
             "colorbar": {
              "outlinewidth": 0,
              "ticks": ""
             }
            },
            "type": "scatterpolargl"
           }
          ],
          "scatterternary": [
           {
            "marker": {
             "colorbar": {
              "outlinewidth": 0,
              "ticks": ""
             }
            },
            "type": "scatterternary"
           }
          ],
          "surface": [
           {
            "colorbar": {
             "outlinewidth": 0,
             "ticks": ""
            },
            "colorscale": [
             [
              0,
              "#0d0887"
             ],
             [
              0.1111111111111111,
              "#46039f"
             ],
             [
              0.2222222222222222,
              "#7201a8"
             ],
             [
              0.3333333333333333,
              "#9c179e"
             ],
             [
              0.4444444444444444,
              "#bd3786"
             ],
             [
              0.5555555555555556,
              "#d8576b"
             ],
             [
              0.6666666666666666,
              "#ed7953"
             ],
             [
              0.7777777777777778,
              "#fb9f3a"
             ],
             [
              0.8888888888888888,
              "#fdca26"
             ],
             [
              1,
              "#f0f921"
             ]
            ],
            "type": "surface"
           }
          ],
          "table": [
           {
            "cells": {
             "fill": {
              "color": "#EBF0F8"
             },
             "line": {
              "color": "white"
             }
            },
            "header": {
             "fill": {
              "color": "#C8D4E3"
             },
             "line": {
              "color": "white"
             }
            },
            "type": "table"
           }
          ]
         },
         "layout": {
          "annotationdefaults": {
           "arrowcolor": "#2a3f5f",
           "arrowhead": 0,
           "arrowwidth": 1
          },
          "autotypenumbers": "strict",
          "coloraxis": {
           "colorbar": {
            "outlinewidth": 0,
            "ticks": ""
           }
          },
          "colorscale": {
           "diverging": [
            [
             0,
             "#8e0152"
            ],
            [
             0.1,
             "#c51b7d"
            ],
            [
             0.2,
             "#de77ae"
            ],
            [
             0.3,
             "#f1b6da"
            ],
            [
             0.4,
             "#fde0ef"
            ],
            [
             0.5,
             "#f7f7f7"
            ],
            [
             0.6,
             "#e6f5d0"
            ],
            [
             0.7,
             "#b8e186"
            ],
            [
             0.8,
             "#7fbc41"
            ],
            [
             0.9,
             "#4d9221"
            ],
            [
             1,
             "#276419"
            ]
           ],
           "sequential": [
            [
             0,
             "#0d0887"
            ],
            [
             0.1111111111111111,
             "#46039f"
            ],
            [
             0.2222222222222222,
             "#7201a8"
            ],
            [
             0.3333333333333333,
             "#9c179e"
            ],
            [
             0.4444444444444444,
             "#bd3786"
            ],
            [
             0.5555555555555556,
             "#d8576b"
            ],
            [
             0.6666666666666666,
             "#ed7953"
            ],
            [
             0.7777777777777778,
             "#fb9f3a"
            ],
            [
             0.8888888888888888,
             "#fdca26"
            ],
            [
             1,
             "#f0f921"
            ]
           ],
           "sequentialminus": [
            [
             0,
             "#0d0887"
            ],
            [
             0.1111111111111111,
             "#46039f"
            ],
            [
             0.2222222222222222,
             "#7201a8"
            ],
            [
             0.3333333333333333,
             "#9c179e"
            ],
            [
             0.4444444444444444,
             "#bd3786"
            ],
            [
             0.5555555555555556,
             "#d8576b"
            ],
            [
             0.6666666666666666,
             "#ed7953"
            ],
            [
             0.7777777777777778,
             "#fb9f3a"
            ],
            [
             0.8888888888888888,
             "#fdca26"
            ],
            [
             1,
             "#f0f921"
            ]
           ]
          },
          "colorway": [
           "#636efa",
           "#EF553B",
           "#00cc96",
           "#ab63fa",
           "#FFA15A",
           "#19d3f3",
           "#FF6692",
           "#B6E880",
           "#FF97FF",
           "#FECB52"
          ],
          "font": {
           "color": "#2a3f5f"
          },
          "geo": {
           "bgcolor": "white",
           "lakecolor": "white",
           "landcolor": "#E5ECF6",
           "showlakes": true,
           "showland": true,
           "subunitcolor": "white"
          },
          "hoverlabel": {
           "align": "left"
          },
          "hovermode": "closest",
          "mapbox": {
           "style": "light"
          },
          "paper_bgcolor": "white",
          "plot_bgcolor": "#E5ECF6",
          "polar": {
           "angularaxis": {
            "gridcolor": "white",
            "linecolor": "white",
            "ticks": ""
           },
           "bgcolor": "#E5ECF6",
           "radialaxis": {
            "gridcolor": "white",
            "linecolor": "white",
            "ticks": ""
           }
          },
          "scene": {
           "xaxis": {
            "backgroundcolor": "#E5ECF6",
            "gridcolor": "white",
            "gridwidth": 2,
            "linecolor": "white",
            "showbackground": true,
            "ticks": "",
            "zerolinecolor": "white"
           },
           "yaxis": {
            "backgroundcolor": "#E5ECF6",
            "gridcolor": "white",
            "gridwidth": 2,
            "linecolor": "white",
            "showbackground": true,
            "ticks": "",
            "zerolinecolor": "white"
           },
           "zaxis": {
            "backgroundcolor": "#E5ECF6",
            "gridcolor": "white",
            "gridwidth": 2,
            "linecolor": "white",
            "showbackground": true,
            "ticks": "",
            "zerolinecolor": "white"
           }
          },
          "shapedefaults": {
           "line": {
            "color": "#2a3f5f"
           }
          },
          "ternary": {
           "aaxis": {
            "gridcolor": "white",
            "linecolor": "white",
            "ticks": ""
           },
           "baxis": {
            "gridcolor": "white",
            "linecolor": "white",
            "ticks": ""
           },
           "bgcolor": "#E5ECF6",
           "caxis": {
            "gridcolor": "white",
            "linecolor": "white",
            "ticks": ""
           }
          },
          "title": {
           "x": 0.05
          },
          "xaxis": {
           "automargin": true,
           "gridcolor": "white",
           "linecolor": "white",
           "ticks": "",
           "title": {
            "standoff": 15
           },
           "zerolinecolor": "white",
           "zerolinewidth": 2
          },
          "yaxis": {
           "automargin": true,
           "gridcolor": "white",
           "linecolor": "white",
           "ticks": "",
           "title": {
            "standoff": 15
           },
           "zerolinecolor": "white",
           "zerolinewidth": 2
          }
         }
        },
        "xaxis": {
         "anchor": "y",
         "domain": [
          0,
          1
         ],
         "tickformat": ",",
         "title": {
          "text": "Numero totale di voli"
         }
        },
        "yaxis": {
         "anchor": "x",
         "categoryorder": "total ascending",
         "domain": [
          0,
          1
         ],
         "title": {
          "text": "Aeroporto"
         }
        }
       }
      }
     },
     "metadata": {},
     "output_type": "display_data"
    }
   ],
   "source": [
    "# Raggruppa per aeroporto e somma FLT_TOT_1 (totale voli)\n",
    "arrivals = (\n",
    "    df\n",
    "    .groupby([\"APT_ICAO\", \"APT_NAME\"])[\"FLT_TOT_1\"]\n",
    "    .sum()\n",
    "    .reset_index()\n",
    "    .rename(columns={\"FLT_TOT_1\": \"TOT_VOLI\"})\n",
    ")\n",
    "\n",
    "# Seleziona gli aeroporti con meno traffico (gli \"ultimi 10\")\n",
    "bottom10 = arrivals.sort_values(\"TOT_VOLI\", ascending=True).head(10)\n",
    "\n",
    "# Calcola la percentuale sul totale del dataset\n",
    "total_all = arrivals[\"TOT_VOLI\"].sum()\n",
    "bottom10[\"PERCENT\"] = bottom10[\"TOT_VOLI\"] / total_all * 100\n",
    "\n",
    "# Per la visualizzazione orizzontale: il più grosso di questi 10 in alto\n",
    "bottom10 = bottom10.sort_values(\"TOT_VOLI\", ascending=True)\n",
    "\n",
    "# Crea il grafico a barre orizzontali\n",
    "fig = px.bar(\n",
    "    bottom10,\n",
    "    x=\"TOT_VOLI\",\n",
    "    y=\"APT_NAME\",\n",
    "    orientation=\"h\",\n",
    "    #title=\"Bottom 10 aeroporti per traffico totale (arrivi + partenze)\",\n",
    "    labels={\n",
    "        \"TOT_VOLI\": \"Totale voli (arrivi + partenze)\",\n",
    "        \"APT_NAME\": \"Aeroporto\"\n",
    "    },\n",
    "    text=\"PERCENT\"\n",
    ")\n",
    "\n",
    "# Mostra il testo in formato percentuale con due decimali\n",
    "fig.update_traces(\n",
    "    texttemplate=\"%{text:.5f}%\",\n",
    "    textposition=\"outside\",\n",
    "    marker_line_width=1.5\n",
    ")\n",
    "\n",
    "# Imposta l'asse X sui valori assoluti con separatore delle migliaia\n",
    "fig.update_layout(\n",
    "    xaxis=dict(\n",
    "        tickformat=\",\",\n",
    "        title=\"Numero totale di voli\"\n",
    "    ),\n",
    "    margin=dict(l=200, r=40, t=70, b=60),\n",
    "    height=600,\n",
    "    yaxis=dict(categoryorder=\"total ascending\")\n",
    ")\n",
    "\n",
    "fig.show()"
   ]
  },
  {
   "cell_type": "code",
   "execution_count": 6,
   "id": "015525d8",
   "metadata": {},
   "outputs": [
    {
     "data": {
      "application/vnd.plotly.v1+json": {
       "config": {
        "plotlyServerURL": "https://plot.ly"
       },
       "data": [
        {
         "hovertemplate": "Aeroporto=%{x}<br>Totale voli in partenza=%{text}<extra></extra>",
         "legendgroup": "",
         "marker": {
          "color": "#636efa",
          "pattern": {
           "shape": ""
          }
         },
         "name": "",
         "orientation": "v",
         "showlegend": false,
         "text": {
          "bdata": "AAAAAJyONEEAAAAACrQzQQAAAACasTNBAAAAAMSpMkEAAAAAJCgwQQAAAAAgui5BAAAAAG7wKUEAAAAA4vYnQQAAAABsKidBAAAAAKbxJEE=",
          "dtype": "f8"
         },
         "textposition": "auto",
         "type": "bar",
         "x": [
          "Amsterdam - Schiphol",
          "Paris-Charles-de-Gaulle",
          "Frankfurt",
          "London - Heathrow",
          "Madrid - Barajas",
          "Munich",
          "Barcelona",
          "Istanbul Atatürk",
          "Rome - Fiumicino",
          "Zürich"
         ],
         "xaxis": "x",
         "y": {
          "bdata": "nI4UAAq0EwCasRMAxKkSACQoEAAQXQ8AN/gMAHH7CwA2lQsA03gKAA==",
          "dtype": "i4"
         },
         "yaxis": "y"
        }
       ],
       "layout": {
        "barmode": "relative",
        "height": 600,
        "legend": {
         "tracegroupgap": 0
        },
        "margin": {
         "b": 120,
         "l": 60,
         "r": 40,
         "t": 70
        },
        "template": {
         "data": {
          "bar": [
           {
            "error_x": {
             "color": "#2a3f5f"
            },
            "error_y": {
             "color": "#2a3f5f"
            },
            "marker": {
             "line": {
              "color": "#E5ECF6",
              "width": 0.5
             },
             "pattern": {
              "fillmode": "overlay",
              "size": 10,
              "solidity": 0.2
             }
            },
            "type": "bar"
           }
          ],
          "barpolar": [
           {
            "marker": {
             "line": {
              "color": "#E5ECF6",
              "width": 0.5
             },
             "pattern": {
              "fillmode": "overlay",
              "size": 10,
              "solidity": 0.2
             }
            },
            "type": "barpolar"
           }
          ],
          "carpet": [
           {
            "aaxis": {
             "endlinecolor": "#2a3f5f",
             "gridcolor": "white",
             "linecolor": "white",
             "minorgridcolor": "white",
             "startlinecolor": "#2a3f5f"
            },
            "baxis": {
             "endlinecolor": "#2a3f5f",
             "gridcolor": "white",
             "linecolor": "white",
             "minorgridcolor": "white",
             "startlinecolor": "#2a3f5f"
            },
            "type": "carpet"
           }
          ],
          "choropleth": [
           {
            "colorbar": {
             "outlinewidth": 0,
             "ticks": ""
            },
            "type": "choropleth"
           }
          ],
          "contour": [
           {
            "colorbar": {
             "outlinewidth": 0,
             "ticks": ""
            },
            "colorscale": [
             [
              0,
              "#0d0887"
             ],
             [
              0.1111111111111111,
              "#46039f"
             ],
             [
              0.2222222222222222,
              "#7201a8"
             ],
             [
              0.3333333333333333,
              "#9c179e"
             ],
             [
              0.4444444444444444,
              "#bd3786"
             ],
             [
              0.5555555555555556,
              "#d8576b"
             ],
             [
              0.6666666666666666,
              "#ed7953"
             ],
             [
              0.7777777777777778,
              "#fb9f3a"
             ],
             [
              0.8888888888888888,
              "#fdca26"
             ],
             [
              1,
              "#f0f921"
             ]
            ],
            "type": "contour"
           }
          ],
          "contourcarpet": [
           {
            "colorbar": {
             "outlinewidth": 0,
             "ticks": ""
            },
            "type": "contourcarpet"
           }
          ],
          "heatmap": [
           {
            "colorbar": {
             "outlinewidth": 0,
             "ticks": ""
            },
            "colorscale": [
             [
              0,
              "#0d0887"
             ],
             [
              0.1111111111111111,
              "#46039f"
             ],
             [
              0.2222222222222222,
              "#7201a8"
             ],
             [
              0.3333333333333333,
              "#9c179e"
             ],
             [
              0.4444444444444444,
              "#bd3786"
             ],
             [
              0.5555555555555556,
              "#d8576b"
             ],
             [
              0.6666666666666666,
              "#ed7953"
             ],
             [
              0.7777777777777778,
              "#fb9f3a"
             ],
             [
              0.8888888888888888,
              "#fdca26"
             ],
             [
              1,
              "#f0f921"
             ]
            ],
            "type": "heatmap"
           }
          ],
          "histogram": [
           {
            "marker": {
             "pattern": {
              "fillmode": "overlay",
              "size": 10,
              "solidity": 0.2
             }
            },
            "type": "histogram"
           }
          ],
          "histogram2d": [
           {
            "colorbar": {
             "outlinewidth": 0,
             "ticks": ""
            },
            "colorscale": [
             [
              0,
              "#0d0887"
             ],
             [
              0.1111111111111111,
              "#46039f"
             ],
             [
              0.2222222222222222,
              "#7201a8"
             ],
             [
              0.3333333333333333,
              "#9c179e"
             ],
             [
              0.4444444444444444,
              "#bd3786"
             ],
             [
              0.5555555555555556,
              "#d8576b"
             ],
             [
              0.6666666666666666,
              "#ed7953"
             ],
             [
              0.7777777777777778,
              "#fb9f3a"
             ],
             [
              0.8888888888888888,
              "#fdca26"
             ],
             [
              1,
              "#f0f921"
             ]
            ],
            "type": "histogram2d"
           }
          ],
          "histogram2dcontour": [
           {
            "colorbar": {
             "outlinewidth": 0,
             "ticks": ""
            },
            "colorscale": [
             [
              0,
              "#0d0887"
             ],
             [
              0.1111111111111111,
              "#46039f"
             ],
             [
              0.2222222222222222,
              "#7201a8"
             ],
             [
              0.3333333333333333,
              "#9c179e"
             ],
             [
              0.4444444444444444,
              "#bd3786"
             ],
             [
              0.5555555555555556,
              "#d8576b"
             ],
             [
              0.6666666666666666,
              "#ed7953"
             ],
             [
              0.7777777777777778,
              "#fb9f3a"
             ],
             [
              0.8888888888888888,
              "#fdca26"
             ],
             [
              1,
              "#f0f921"
             ]
            ],
            "type": "histogram2dcontour"
           }
          ],
          "mesh3d": [
           {
            "colorbar": {
             "outlinewidth": 0,
             "ticks": ""
            },
            "type": "mesh3d"
           }
          ],
          "parcoords": [
           {
            "line": {
             "colorbar": {
              "outlinewidth": 0,
              "ticks": ""
             }
            },
            "type": "parcoords"
           }
          ],
          "pie": [
           {
            "automargin": true,
            "type": "pie"
           }
          ],
          "scatter": [
           {
            "fillpattern": {
             "fillmode": "overlay",
             "size": 10,
             "solidity": 0.2
            },
            "type": "scatter"
           }
          ],
          "scatter3d": [
           {
            "line": {
             "colorbar": {
              "outlinewidth": 0,
              "ticks": ""
             }
            },
            "marker": {
             "colorbar": {
              "outlinewidth": 0,
              "ticks": ""
             }
            },
            "type": "scatter3d"
           }
          ],
          "scattercarpet": [
           {
            "marker": {
             "colorbar": {
              "outlinewidth": 0,
              "ticks": ""
             }
            },
            "type": "scattercarpet"
           }
          ],
          "scattergeo": [
           {
            "marker": {
             "colorbar": {
              "outlinewidth": 0,
              "ticks": ""
             }
            },
            "type": "scattergeo"
           }
          ],
          "scattergl": [
           {
            "marker": {
             "colorbar": {
              "outlinewidth": 0,
              "ticks": ""
             }
            },
            "type": "scattergl"
           }
          ],
          "scattermap": [
           {
            "marker": {
             "colorbar": {
              "outlinewidth": 0,
              "ticks": ""
             }
            },
            "type": "scattermap"
           }
          ],
          "scattermapbox": [
           {
            "marker": {
             "colorbar": {
              "outlinewidth": 0,
              "ticks": ""
             }
            },
            "type": "scattermapbox"
           }
          ],
          "scatterpolar": [
           {
            "marker": {
             "colorbar": {
              "outlinewidth": 0,
              "ticks": ""
             }
            },
            "type": "scatterpolar"
           }
          ],
          "scatterpolargl": [
           {
            "marker": {
             "colorbar": {
              "outlinewidth": 0,
              "ticks": ""
             }
            },
            "type": "scatterpolargl"
           }
          ],
          "scatterternary": [
           {
            "marker": {
             "colorbar": {
              "outlinewidth": 0,
              "ticks": ""
             }
            },
            "type": "scatterternary"
           }
          ],
          "surface": [
           {
            "colorbar": {
             "outlinewidth": 0,
             "ticks": ""
            },
            "colorscale": [
             [
              0,
              "#0d0887"
             ],
             [
              0.1111111111111111,
              "#46039f"
             ],
             [
              0.2222222222222222,
              "#7201a8"
             ],
             [
              0.3333333333333333,
              "#9c179e"
             ],
             [
              0.4444444444444444,
              "#bd3786"
             ],
             [
              0.5555555555555556,
              "#d8576b"
             ],
             [
              0.6666666666666666,
              "#ed7953"
             ],
             [
              0.7777777777777778,
              "#fb9f3a"
             ],
             [
              0.8888888888888888,
              "#fdca26"
             ],
             [
              1,
              "#f0f921"
             ]
            ],
            "type": "surface"
           }
          ],
          "table": [
           {
            "cells": {
             "fill": {
              "color": "#EBF0F8"
             },
             "line": {
              "color": "white"
             }
            },
            "header": {
             "fill": {
              "color": "#C8D4E3"
             },
             "line": {
              "color": "white"
             }
            },
            "type": "table"
           }
          ]
         },
         "layout": {
          "annotationdefaults": {
           "arrowcolor": "#2a3f5f",
           "arrowhead": 0,
           "arrowwidth": 1
          },
          "autotypenumbers": "strict",
          "coloraxis": {
           "colorbar": {
            "outlinewidth": 0,
            "ticks": ""
           }
          },
          "colorscale": {
           "diverging": [
            [
             0,
             "#8e0152"
            ],
            [
             0.1,
             "#c51b7d"
            ],
            [
             0.2,
             "#de77ae"
            ],
            [
             0.3,
             "#f1b6da"
            ],
            [
             0.4,
             "#fde0ef"
            ],
            [
             0.5,
             "#f7f7f7"
            ],
            [
             0.6,
             "#e6f5d0"
            ],
            [
             0.7,
             "#b8e186"
            ],
            [
             0.8,
             "#7fbc41"
            ],
            [
             0.9,
             "#4d9221"
            ],
            [
             1,
             "#276419"
            ]
           ],
           "sequential": [
            [
             0,
             "#0d0887"
            ],
            [
             0.1111111111111111,
             "#46039f"
            ],
            [
             0.2222222222222222,
             "#7201a8"
            ],
            [
             0.3333333333333333,
             "#9c179e"
            ],
            [
             0.4444444444444444,
             "#bd3786"
            ],
            [
             0.5555555555555556,
             "#d8576b"
            ],
            [
             0.6666666666666666,
             "#ed7953"
            ],
            [
             0.7777777777777778,
             "#fb9f3a"
            ],
            [
             0.8888888888888888,
             "#fdca26"
            ],
            [
             1,
             "#f0f921"
            ]
           ],
           "sequentialminus": [
            [
             0,
             "#0d0887"
            ],
            [
             0.1111111111111111,
             "#46039f"
            ],
            [
             0.2222222222222222,
             "#7201a8"
            ],
            [
             0.3333333333333333,
             "#9c179e"
            ],
            [
             0.4444444444444444,
             "#bd3786"
            ],
            [
             0.5555555555555556,
             "#d8576b"
            ],
            [
             0.6666666666666666,
             "#ed7953"
            ],
            [
             0.7777777777777778,
             "#fb9f3a"
            ],
            [
             0.8888888888888888,
             "#fdca26"
            ],
            [
             1,
             "#f0f921"
            ]
           ]
          },
          "colorway": [
           "#636efa",
           "#EF553B",
           "#00cc96",
           "#ab63fa",
           "#FFA15A",
           "#19d3f3",
           "#FF6692",
           "#B6E880",
           "#FF97FF",
           "#FECB52"
          ],
          "font": {
           "color": "#2a3f5f"
          },
          "geo": {
           "bgcolor": "white",
           "lakecolor": "white",
           "landcolor": "#E5ECF6",
           "showlakes": true,
           "showland": true,
           "subunitcolor": "white"
          },
          "hoverlabel": {
           "align": "left"
          },
          "hovermode": "closest",
          "mapbox": {
           "style": "light"
          },
          "paper_bgcolor": "white",
          "plot_bgcolor": "#E5ECF6",
          "polar": {
           "angularaxis": {
            "gridcolor": "white",
            "linecolor": "white",
            "ticks": ""
           },
           "bgcolor": "#E5ECF6",
           "radialaxis": {
            "gridcolor": "white",
            "linecolor": "white",
            "ticks": ""
           }
          },
          "scene": {
           "xaxis": {
            "backgroundcolor": "#E5ECF6",
            "gridcolor": "white",
            "gridwidth": 2,
            "linecolor": "white",
            "showbackground": true,
            "ticks": "",
            "zerolinecolor": "white"
           },
           "yaxis": {
            "backgroundcolor": "#E5ECF6",
            "gridcolor": "white",
            "gridwidth": 2,
            "linecolor": "white",
            "showbackground": true,
            "ticks": "",
            "zerolinecolor": "white"
           },
           "zaxis": {
            "backgroundcolor": "#E5ECF6",
            "gridcolor": "white",
            "gridwidth": 2,
            "linecolor": "white",
            "showbackground": true,
            "ticks": "",
            "zerolinecolor": "white"
           }
          },
          "shapedefaults": {
           "line": {
            "color": "#2a3f5f"
           }
          },
          "ternary": {
           "aaxis": {
            "gridcolor": "white",
            "linecolor": "white",
            "ticks": ""
           },
           "baxis": {
            "gridcolor": "white",
            "linecolor": "white",
            "ticks": ""
           },
           "bgcolor": "#E5ECF6",
           "caxis": {
            "gridcolor": "white",
            "linecolor": "white",
            "ticks": ""
           }
          },
          "title": {
           "x": 0.05
          },
          "xaxis": {
           "automargin": true,
           "gridcolor": "white",
           "linecolor": "white",
           "ticks": "",
           "title": {
            "standoff": 15
           },
           "zerolinecolor": "white",
           "zerolinewidth": 2
          },
          "yaxis": {
           "automargin": true,
           "gridcolor": "white",
           "linecolor": "white",
           "ticks": "",
           "title": {
            "standoff": 15
           },
           "zerolinecolor": "white",
           "zerolinewidth": 2
          }
         }
        },
        "title": {
         "text": "Top 10 aeroporti per numero totale di voli in partenza"
        },
        "uniformtext": {
         "minsize": 8,
         "mode": "hide"
        },
        "xaxis": {
         "anchor": "y",
         "domain": [
          0,
          1
         ],
         "tickangle": 30,
         "title": {
          "text": "Aeroporto"
         }
        },
        "yaxis": {
         "anchor": "x",
         "domain": [
          0,
          1
         ],
         "nticks": 10,
         "tickformat": ",",
         "title": {
          "text": "Totale voli in partenza"
         }
        }
       }
      }
     },
     "metadata": {},
     "output_type": "display_data"
    }
   ],
   "source": [
    "# Calcola il totale dei voli in partenza per aeroporto\n",
    "departures = df.groupby([\"APT_ICAO\", \"APT_NAME\"])[\"FLT_DEP_1\"].sum().reset_index()\n",
    "\n",
    "# Seleziona i primi 10 aeroporti\n",
    "top10_departures = departures.sort_values(\"FLT_DEP_1\", ascending=False).head(10)\n",
    "\n",
    "# Crea il grafico a barre\n",
    "fig = px.bar(\n",
    "    top10_departures,\n",
    "    x=\"APT_NAME\",\n",
    "    y=\"FLT_DEP_1\",\n",
    "    title=\"Top 10 aeroporti per numero totale di voli in partenza\",\n",
    "    labels={\"APT_NAME\": \"Aeroporto\", \"FLT_DEP_1\": \"Totale voli in partenza\"},\n",
    "    text=\"FLT_DEP_1\"\n",
    ")\n",
    "\n",
    "\n",
    "fig.update_layout(\n",
    "    xaxis_tickangle=30,\n",
    "    yaxis_title=\"Totale voli in partenza\",\n",
    "    xaxis_title=\"Aeroporto\",\n",
    "    uniformtext_minsize=8,\n",
    "    uniformtext_mode='hide',\n",
    "    yaxis=dict(\n",
    "        tickformat=\",\",\n",
    "        nticks=10\n",
    "    ),\n",
    "    margin=dict(t=70, b=120, l=60, r=40),\n",
    "    height=600\n",
    ")\n",
    "\n",
    "fig.show()"
   ]
  },
  {
   "cell_type": "code",
   "execution_count": 7,
   "id": "d458bb22",
   "metadata": {},
   "outputs": [
    {
     "data": {
      "application/vnd.plotly.v1+json": {
       "config": {
        "plotlyServerURL": "https://plot.ly"
       },
       "data": [
        {
         "alignmentgroup": "True",
         "hovertemplate": "Tipo_Volo=Arrivi<br>Aeroporto=%{x}<br>Numero voli=%{y}<extra></extra>",
         "legendgroup": "Arrivi",
         "marker": {
          "color": "#636efa",
          "pattern": {
           "shape": ""
          }
         },
         "name": "Arrivi",
         "offsetgroup": "Arrivi",
         "orientation": "v",
         "showlegend": true,
         "textposition": "auto",
         "type": "bar",
         "x": [
          "Amsterdam - Schiphol",
          "Paris-Charles-de-Gaulle",
          "Frankfurt",
          "London - Heathrow",
          "Madrid - Barajas",
          "Munich",
          "Barcelona",
          "Istanbul Atatürk",
          "Rome - Fiumicino",
          "Zürich"
         ],
         "xaxis": "x",
         "y": {
          "bdata": "7YwUAJ+wEwB6shMAxqoSAKMlEABEXA8Af/cMAEf7CwDelAsAzncKAA==",
          "dtype": "i4"
         },
         "yaxis": "y"
        },
        {
         "alignmentgroup": "True",
         "hovertemplate": "Tipo_Volo=Partenze<br>Aeroporto=%{x}<br>Numero voli=%{y}<extra></extra>",
         "legendgroup": "Partenze",
         "marker": {
          "color": "#EF553B",
          "pattern": {
           "shape": ""
          }
         },
         "name": "Partenze",
         "offsetgroup": "Partenze",
         "orientation": "v",
         "showlegend": true,
         "textposition": "auto",
         "type": "bar",
         "x": [
          "Amsterdam - Schiphol",
          "Paris-Charles-de-Gaulle",
          "Frankfurt",
          "London - Heathrow",
          "Madrid - Barajas",
          "Munich",
          "Barcelona",
          "Istanbul Atatürk",
          "Rome - Fiumicino",
          "Zürich"
         ],
         "xaxis": "x",
         "y": {
          "bdata": "nI4UAAq0EwCasRMAxKkSACQoEAAQXQ8AN/gMAHH7CwA2lQsA03gKAA==",
          "dtype": "i4"
         },
         "yaxis": "y"
        }
       ],
       "layout": {
        "barmode": "group",
        "height": 600,
        "legend": {
         "title": {
          "text": "Tipo_Volo"
         },
         "tracegroupgap": 0
        },
        "margin": {
         "b": 120,
         "l": 60,
         "r": 40,
         "t": 70
        },
        "template": {
         "data": {
          "bar": [
           {
            "error_x": {
             "color": "#2a3f5f"
            },
            "error_y": {
             "color": "#2a3f5f"
            },
            "marker": {
             "line": {
              "color": "#E5ECF6",
              "width": 0.5
             },
             "pattern": {
              "fillmode": "overlay",
              "size": 10,
              "solidity": 0.2
             }
            },
            "type": "bar"
           }
          ],
          "barpolar": [
           {
            "marker": {
             "line": {
              "color": "#E5ECF6",
              "width": 0.5
             },
             "pattern": {
              "fillmode": "overlay",
              "size": 10,
              "solidity": 0.2
             }
            },
            "type": "barpolar"
           }
          ],
          "carpet": [
           {
            "aaxis": {
             "endlinecolor": "#2a3f5f",
             "gridcolor": "white",
             "linecolor": "white",
             "minorgridcolor": "white",
             "startlinecolor": "#2a3f5f"
            },
            "baxis": {
             "endlinecolor": "#2a3f5f",
             "gridcolor": "white",
             "linecolor": "white",
             "minorgridcolor": "white",
             "startlinecolor": "#2a3f5f"
            },
            "type": "carpet"
           }
          ],
          "choropleth": [
           {
            "colorbar": {
             "outlinewidth": 0,
             "ticks": ""
            },
            "type": "choropleth"
           }
          ],
          "contour": [
           {
            "colorbar": {
             "outlinewidth": 0,
             "ticks": ""
            },
            "colorscale": [
             [
              0,
              "#0d0887"
             ],
             [
              0.1111111111111111,
              "#46039f"
             ],
             [
              0.2222222222222222,
              "#7201a8"
             ],
             [
              0.3333333333333333,
              "#9c179e"
             ],
             [
              0.4444444444444444,
              "#bd3786"
             ],
             [
              0.5555555555555556,
              "#d8576b"
             ],
             [
              0.6666666666666666,
              "#ed7953"
             ],
             [
              0.7777777777777778,
              "#fb9f3a"
             ],
             [
              0.8888888888888888,
              "#fdca26"
             ],
             [
              1,
              "#f0f921"
             ]
            ],
            "type": "contour"
           }
          ],
          "contourcarpet": [
           {
            "colorbar": {
             "outlinewidth": 0,
             "ticks": ""
            },
            "type": "contourcarpet"
           }
          ],
          "heatmap": [
           {
            "colorbar": {
             "outlinewidth": 0,
             "ticks": ""
            },
            "colorscale": [
             [
              0,
              "#0d0887"
             ],
             [
              0.1111111111111111,
              "#46039f"
             ],
             [
              0.2222222222222222,
              "#7201a8"
             ],
             [
              0.3333333333333333,
              "#9c179e"
             ],
             [
              0.4444444444444444,
              "#bd3786"
             ],
             [
              0.5555555555555556,
              "#d8576b"
             ],
             [
              0.6666666666666666,
              "#ed7953"
             ],
             [
              0.7777777777777778,
              "#fb9f3a"
             ],
             [
              0.8888888888888888,
              "#fdca26"
             ],
             [
              1,
              "#f0f921"
             ]
            ],
            "type": "heatmap"
           }
          ],
          "histogram": [
           {
            "marker": {
             "pattern": {
              "fillmode": "overlay",
              "size": 10,
              "solidity": 0.2
             }
            },
            "type": "histogram"
           }
          ],
          "histogram2d": [
           {
            "colorbar": {
             "outlinewidth": 0,
             "ticks": ""
            },
            "colorscale": [
             [
              0,
              "#0d0887"
             ],
             [
              0.1111111111111111,
              "#46039f"
             ],
             [
              0.2222222222222222,
              "#7201a8"
             ],
             [
              0.3333333333333333,
              "#9c179e"
             ],
             [
              0.4444444444444444,
              "#bd3786"
             ],
             [
              0.5555555555555556,
              "#d8576b"
             ],
             [
              0.6666666666666666,
              "#ed7953"
             ],
             [
              0.7777777777777778,
              "#fb9f3a"
             ],
             [
              0.8888888888888888,
              "#fdca26"
             ],
             [
              1,
              "#f0f921"
             ]
            ],
            "type": "histogram2d"
           }
          ],
          "histogram2dcontour": [
           {
            "colorbar": {
             "outlinewidth": 0,
             "ticks": ""
            },
            "colorscale": [
             [
              0,
              "#0d0887"
             ],
             [
              0.1111111111111111,
              "#46039f"
             ],
             [
              0.2222222222222222,
              "#7201a8"
             ],
             [
              0.3333333333333333,
              "#9c179e"
             ],
             [
              0.4444444444444444,
              "#bd3786"
             ],
             [
              0.5555555555555556,
              "#d8576b"
             ],
             [
              0.6666666666666666,
              "#ed7953"
             ],
             [
              0.7777777777777778,
              "#fb9f3a"
             ],
             [
              0.8888888888888888,
              "#fdca26"
             ],
             [
              1,
              "#f0f921"
             ]
            ],
            "type": "histogram2dcontour"
           }
          ],
          "mesh3d": [
           {
            "colorbar": {
             "outlinewidth": 0,
             "ticks": ""
            },
            "type": "mesh3d"
           }
          ],
          "parcoords": [
           {
            "line": {
             "colorbar": {
              "outlinewidth": 0,
              "ticks": ""
             }
            },
            "type": "parcoords"
           }
          ],
          "pie": [
           {
            "automargin": true,
            "type": "pie"
           }
          ],
          "scatter": [
           {
            "fillpattern": {
             "fillmode": "overlay",
             "size": 10,
             "solidity": 0.2
            },
            "type": "scatter"
           }
          ],
          "scatter3d": [
           {
            "line": {
             "colorbar": {
              "outlinewidth": 0,
              "ticks": ""
             }
            },
            "marker": {
             "colorbar": {
              "outlinewidth": 0,
              "ticks": ""
             }
            },
            "type": "scatter3d"
           }
          ],
          "scattercarpet": [
           {
            "marker": {
             "colorbar": {
              "outlinewidth": 0,
              "ticks": ""
             }
            },
            "type": "scattercarpet"
           }
          ],
          "scattergeo": [
           {
            "marker": {
             "colorbar": {
              "outlinewidth": 0,
              "ticks": ""
             }
            },
            "type": "scattergeo"
           }
          ],
          "scattergl": [
           {
            "marker": {
             "colorbar": {
              "outlinewidth": 0,
              "ticks": ""
             }
            },
            "type": "scattergl"
           }
          ],
          "scattermap": [
           {
            "marker": {
             "colorbar": {
              "outlinewidth": 0,
              "ticks": ""
             }
            },
            "type": "scattermap"
           }
          ],
          "scattermapbox": [
           {
            "marker": {
             "colorbar": {
              "outlinewidth": 0,
              "ticks": ""
             }
            },
            "type": "scattermapbox"
           }
          ],
          "scatterpolar": [
           {
            "marker": {
             "colorbar": {
              "outlinewidth": 0,
              "ticks": ""
             }
            },
            "type": "scatterpolar"
           }
          ],
          "scatterpolargl": [
           {
            "marker": {
             "colorbar": {
              "outlinewidth": 0,
              "ticks": ""
             }
            },
            "type": "scatterpolargl"
           }
          ],
          "scatterternary": [
           {
            "marker": {
             "colorbar": {
              "outlinewidth": 0,
              "ticks": ""
             }
            },
            "type": "scatterternary"
           }
          ],
          "surface": [
           {
            "colorbar": {
             "outlinewidth": 0,
             "ticks": ""
            },
            "colorscale": [
             [
              0,
              "#0d0887"
             ],
             [
              0.1111111111111111,
              "#46039f"
             ],
             [
              0.2222222222222222,
              "#7201a8"
             ],
             [
              0.3333333333333333,
              "#9c179e"
             ],
             [
              0.4444444444444444,
              "#bd3786"
             ],
             [
              0.5555555555555556,
              "#d8576b"
             ],
             [
              0.6666666666666666,
              "#ed7953"
             ],
             [
              0.7777777777777778,
              "#fb9f3a"
             ],
             [
              0.8888888888888888,
              "#fdca26"
             ],
             [
              1,
              "#f0f921"
             ]
            ],
            "type": "surface"
           }
          ],
          "table": [
           {
            "cells": {
             "fill": {
              "color": "#EBF0F8"
             },
             "line": {
              "color": "white"
             }
            },
            "header": {
             "fill": {
              "color": "#C8D4E3"
             },
             "line": {
              "color": "white"
             }
            },
            "type": "table"
           }
          ]
         },
         "layout": {
          "annotationdefaults": {
           "arrowcolor": "#2a3f5f",
           "arrowhead": 0,
           "arrowwidth": 1
          },
          "autotypenumbers": "strict",
          "coloraxis": {
           "colorbar": {
            "outlinewidth": 0,
            "ticks": ""
           }
          },
          "colorscale": {
           "diverging": [
            [
             0,
             "#8e0152"
            ],
            [
             0.1,
             "#c51b7d"
            ],
            [
             0.2,
             "#de77ae"
            ],
            [
             0.3,
             "#f1b6da"
            ],
            [
             0.4,
             "#fde0ef"
            ],
            [
             0.5,
             "#f7f7f7"
            ],
            [
             0.6,
             "#e6f5d0"
            ],
            [
             0.7,
             "#b8e186"
            ],
            [
             0.8,
             "#7fbc41"
            ],
            [
             0.9,
             "#4d9221"
            ],
            [
             1,
             "#276419"
            ]
           ],
           "sequential": [
            [
             0,
             "#0d0887"
            ],
            [
             0.1111111111111111,
             "#46039f"
            ],
            [
             0.2222222222222222,
             "#7201a8"
            ],
            [
             0.3333333333333333,
             "#9c179e"
            ],
            [
             0.4444444444444444,
             "#bd3786"
            ],
            [
             0.5555555555555556,
             "#d8576b"
            ],
            [
             0.6666666666666666,
             "#ed7953"
            ],
            [
             0.7777777777777778,
             "#fb9f3a"
            ],
            [
             0.8888888888888888,
             "#fdca26"
            ],
            [
             1,
             "#f0f921"
            ]
           ],
           "sequentialminus": [
            [
             0,
             "#0d0887"
            ],
            [
             0.1111111111111111,
             "#46039f"
            ],
            [
             0.2222222222222222,
             "#7201a8"
            ],
            [
             0.3333333333333333,
             "#9c179e"
            ],
            [
             0.4444444444444444,
             "#bd3786"
            ],
            [
             0.5555555555555556,
             "#d8576b"
            ],
            [
             0.6666666666666666,
             "#ed7953"
            ],
            [
             0.7777777777777778,
             "#fb9f3a"
            ],
            [
             0.8888888888888888,
             "#fdca26"
            ],
            [
             1,
             "#f0f921"
            ]
           ]
          },
          "colorway": [
           "#636efa",
           "#EF553B",
           "#00cc96",
           "#ab63fa",
           "#FFA15A",
           "#19d3f3",
           "#FF6692",
           "#B6E880",
           "#FF97FF",
           "#FECB52"
          ],
          "font": {
           "color": "#2a3f5f"
          },
          "geo": {
           "bgcolor": "white",
           "lakecolor": "white",
           "landcolor": "#E5ECF6",
           "showlakes": true,
           "showland": true,
           "subunitcolor": "white"
          },
          "hoverlabel": {
           "align": "left"
          },
          "hovermode": "closest",
          "mapbox": {
           "style": "light"
          },
          "paper_bgcolor": "white",
          "plot_bgcolor": "#E5ECF6",
          "polar": {
           "angularaxis": {
            "gridcolor": "white",
            "linecolor": "white",
            "ticks": ""
           },
           "bgcolor": "#E5ECF6",
           "radialaxis": {
            "gridcolor": "white",
            "linecolor": "white",
            "ticks": ""
           }
          },
          "scene": {
           "xaxis": {
            "backgroundcolor": "#E5ECF6",
            "gridcolor": "white",
            "gridwidth": 2,
            "linecolor": "white",
            "showbackground": true,
            "ticks": "",
            "zerolinecolor": "white"
           },
           "yaxis": {
            "backgroundcolor": "#E5ECF6",
            "gridcolor": "white",
            "gridwidth": 2,
            "linecolor": "white",
            "showbackground": true,
            "ticks": "",
            "zerolinecolor": "white"
           },
           "zaxis": {
            "backgroundcolor": "#E5ECF6",
            "gridcolor": "white",
            "gridwidth": 2,
            "linecolor": "white",
            "showbackground": true,
            "ticks": "",
            "zerolinecolor": "white"
           }
          },
          "shapedefaults": {
           "line": {
            "color": "#2a3f5f"
           }
          },
          "ternary": {
           "aaxis": {
            "gridcolor": "white",
            "linecolor": "white",
            "ticks": ""
           },
           "baxis": {
            "gridcolor": "white",
            "linecolor": "white",
            "ticks": ""
           },
           "bgcolor": "#E5ECF6",
           "caxis": {
            "gridcolor": "white",
            "linecolor": "white",
            "ticks": ""
           }
          },
          "title": {
           "x": 0.05
          },
          "xaxis": {
           "automargin": true,
           "gridcolor": "white",
           "linecolor": "white",
           "ticks": "",
           "title": {
            "standoff": 15
           },
           "zerolinecolor": "white",
           "zerolinewidth": 2
          },
          "yaxis": {
           "automargin": true,
           "gridcolor": "white",
           "linecolor": "white",
           "ticks": "",
           "title": {
            "standoff": 15
           },
           "zerolinecolor": "white",
           "zerolinewidth": 2
          }
         }
        },
        "title": {
         "text": "Arrivi vs Partenze nei 10 aeroporti con più traffico"
        },
        "xaxis": {
         "anchor": "y",
         "domain": [
          0,
          1
         ],
         "tickangle": 30,
         "title": {
          "text": "Aeroporto"
         }
        },
        "yaxis": {
         "anchor": "x",
         "domain": [
          0,
          1
         ],
         "range": [
          619910.2,
          1413347.8
         ],
         "title": {
          "text": "Numero voli"
         }
        }
       }
      }
     },
     "metadata": {},
     "output_type": "display_data"
    }
   ],
   "source": [
    "# Calcola arrivi e partenze totali\n",
    "totali = df.groupby([\"APT_ICAO\", \"APT_NAME\"])[[\"FLT_ARR_1\", \"FLT_DEP_1\"]].sum().reset_index()\n",
    "totali[\"TOT_VOLI\"] = totali[\"FLT_ARR_1\"] + totali[\"FLT_DEP_1\"]\n",
    "top10 = totali.sort_values(\"TOT_VOLI\", ascending=False).head(10)\n",
    "\n",
    "# Riformatta per grafico\n",
    "df_long = top10.melt(\n",
    "    id_vars=[\"APT_NAME\"],\n",
    "    value_vars=[\"FLT_ARR_1\", \"FLT_DEP_1\"],\n",
    "    var_name=\"Tipo_Volo\",\n",
    "    value_name=\"Totale\"\n",
    ")\n",
    "df_long[\"Tipo_Volo\"] = df_long[\"Tipo_Volo\"].replace({\n",
    "    \"FLT_ARR_1\": \"Arrivi\",\n",
    "    \"FLT_DEP_1\": \"Partenze\"\n",
    "})\n",
    "\n",
    "# Calcolo del range Y personalizzato\n",
    "max_val = df_long[\"Totale\"].max()\n",
    "min_val = df_long[\"Totale\"].min()\n",
    "padding = (max_val - min_val) * 0.1  # aggiunge un po' di spazio\n",
    "\n",
    "# Grafico a barre raggruppate con scala Y più stretta\n",
    "fig = px.bar(\n",
    "    df_long,\n",
    "    x=\"APT_NAME\",\n",
    "    y=\"Totale\",\n",
    "    color=\"Tipo_Volo\",\n",
    "    barmode=\"group\",\n",
    "    title=\"Arrivi vs Partenze nei 10 aeroporti con più traffico\",\n",
    "    labels={\"APT_NAME\": \"Aeroporto\", \"Totale\": \"Numero voli\"}\n",
    ")\n",
    "\n",
    "fig.update_layout(\n",
    "    yaxis=dict(range=[min_val - padding, max_val + padding]),\n",
    "    xaxis_tickangle=30,\n",
    "    margin=dict(t=70, b=120, l=60, r=40),\n",
    "    height=600\n",
    ")\n",
    "\n",
    "fig.show()"
   ]
  },
  {
   "cell_type": "code",
   "execution_count": 41,
   "id": "2c787acf",
   "metadata": {},
   "outputs": [
    {
     "name": "stderr",
     "output_type": "stream",
     "text": [
      "C:\\Users\\Christian\\AppData\\Local\\Temp\\ipykernel_34076\\378753514.py:48: DeprecationWarning:\n",
      "\n",
      "*scatter_mapbox* is deprecated! Use *scatter_map* instead. Learn more at: https://plotly.com/python/mapbox-to-maplibre/\n",
      "\n"
     ]
    },
    {
     "data": {
      "application/vnd.plotly.v1+json": {
       "config": {
        "displayModeBar": true,
        "plotlyServerURL": "https://plot.ly",
        "scrollZoom": true
       },
       "data": [
        {
         "customdata": [
          [
           "Antwerp",
           "Belgium",
           85510
          ],
          [
           "Brussels",
           "Belgium",
           1178495
          ],
          [
           "Charleroi",
           "Belgium",
           288556
          ],
          [
           "Liege",
           "Belgium",
           228654
          ],
          [
           "Ostend",
           "Belgium",
           41831
          ],
          [
           "Berlin",
           "Germany",
           594689
          ],
          [
           "Dresden",
           "Germany",
           107059
          ],
          [
           "Erfurt",
           "Germany",
           29539
          ],
          [
           "Frankfurt",
           "Germany",
           2581524
          ],
          [
           "Munster",
           "Germany",
           103318
          ],
          [
           "Hamburg",
           "Germany",
           765838
          ],
          [
           "Cologne",
           "Germany",
           768681
          ],
          [
           "Duesseldorf",
           "Germany",
           1091699
          ],
          [
           "Munich",
           "Germany",
           2013524
          ],
          [
           "Nuernberg",
           "Germany",
           258650
          ],
          [
           "Leipzig",
           "Germany",
           444522
          ],
          [
           "Saarbruecken",
           "Germany",
           45385
          ],
          [
           "Stuttgart",
           "Germany",
           625547
          ],
          [
           "Berlin",
           "Germany",
           792596
          ],
          [
           "Hannover",
           "Germany",
           329044
          ],
          [
           "Bremen",
           "Germany",
           158801
          ],
          [
           "Tallinn-ulemiste International",
           "Estonia",
           223169
          ],
          [
           "Tartu",
           "Estonia",
           8537
          ],
          [
           "Helsinki",
           "Finland",
           929047
          ],
          [
           "Belfast",
           "United Kingdom",
           264012
          ],
          [
           "Belfast",
           "United Kingdom",
           181090
          ],
          [
           "Londonderry",
           "United Kingdom",
           16220
          ],
          [
           "Birmingham",
           "United Kingdom",
           543409
          ],
          [
           "Manchester",
           "United Kingdom",
           988608
          ],
          [
           "Bristol",
           "United Kingdom",
           339714
          ],
          [
           "London",
           "United Kingdom",
           710214
          ],
          [
           "Southampton",
           "United Kingdom",
           188221
          ],
          [
           "Biggin Hill",
           "United Kingdom",
           107146
          ],
          [
           "London",
           "United Kingdom",
           1340097
          ],
          [
           "London",
           "United Kingdom",
           380661
          ],
          [
           "Farnborough",
           "United Kingdom",
           167914
          ],
          [
           "London",
           "United Kingdom",
           2446474
          ],
          [
           "Newcastle",
           "United Kingdom",
           131107
          ],
          [
           "East Midlands",
           "United Kingdom",
           382448
          ],
          [
           "Aberdeen",
           "United Kingdom",
           297410
          ],
          [
           "Glasgow",
           "United Kingdom",
           447683
          ],
          [
           "Edinburgh",
           "United Kingdom",
           632849
          ],
          [
           "London",
           "United Kingdom",
           1006452
          ],
          [
           "Amsterdam",
           "Netherlands",
           2694025
          ],
          [
           "Maastricht",
           "Netherlands",
           56860
          ],
          [
           "Groningen",
           "Netherlands",
           60657
          ],
          [
           "Lelystad",
           "Netherlands",
           11509
          ],
          [
           "Rotterdam",
           "Netherlands",
           135419
          ],
          [
           "Cork",
           "Ireland",
           127728
          ],
          [
           "Dongloe",
           "Ireland",
           11137
          ],
          [
           "Dublin",
           "Ireland",
           1161078
          ],
          [
           "Connaught",
           "Ireland",
           31507
          ],
          [
           "Kerry",
           "Ireland",
           24776
          ],
          [
           "Shannon",
           "Ireland",
           114049
          ],
          [
           "Sligo",
           "Ireland",
           323
          ],
          [
           "Waterford",
           "Ireland",
           3700
          ],
          [
           "Leixlip",
           "Ireland",
           5271
          ],
          [
           "Copenhagen",
           "Denmark",
           1335926
          ],
          [
           "Luxemburg",
           "Luxembourg",
           401406
          ],
          [
           "Alesund",
           "Norway",
           55133
          ],
          [
           "Andoya",
           "Norway",
           15444
          ],
          [
           "Alta",
           "Norway",
           35852
          ],
          [
           "Bronnoysund",
           "Norway",
           28954
          ],
          [
           "Bodo",
           "Norway",
           156817
          ],
          [
           "Bergen",
           "Norway",
           513849
          ],
          [
           "Batsfjord",
           "Norway",
           9826
          ],
          [
           "Berlevag",
           "Norway",
           6820
          ],
          [
           "Kristiansand",
           "Norway",
           54570
          ],
          [
           "Bardufoss",
           "Norway",
           13929
          ],
          [
           "Harstad/Narvik",
           "Norway",
           39649
          ],
          [
           "Floro",
           "Norway",
           33570
          ],
          [
           "Oslo",
           "Norway",
           1326722
          ],
          [
           "Haugesund",
           "Norway",
           37099
          ],
          [
           "Hammerfest",
           "Norway",
           44632
          ],
          [
           "Honningsvag",
           "Norway",
           8711
          ],
          [
           "Kristiansund",
           "Norway",
           40480
          ],
          [
           "Kirkenes",
           "Norway",
           31659
          ],
          [
           "Leknes",
           "Norway",
           23387
          ],
          [
           "Mehamn",
           "Norway",
           10715
          ],
          [
           "Molde",
           "Norway",
           22807
          ],
          [
           "Mosjoen",
           "Norway",
           15443
          ],
          [
           "Lakselv",
           "Norway",
           10236
          ],
          [
           "Namsos",
           "Norway",
           10531
          ],
          [
           "Orsta-Volda",
           "Norway",
           18295
          ],
          [
           "Mo i Rana",
           "Norway",
           21220
          ],
          [
           "Rørvik",
           "Norway",
           9863
          ],
          [
           "Roros",
           "Norway",
           6419
          ],
          [
           "Røst",
           "Norway",
           5438
          ],
          [
           "Svalbard",
           "Norway",
           7645
          ],
          [
           "Sandane",
           "Norway",
           9280
          ],
          [
           "Sogndal",
           "Norway",
           21537
          ],
          [
           "Svolvær",
           "Norway",
           16670
          ],
          [
           "Stokmarknes",
           "Norway",
           21412
          ],
          [
           "Sorkjosen",
           "Norway",
           7289
          ],
          [
           "Vardø",
           "Norway",
           9259
          ],
          [
           "Sandnessjoen",
           "Norway",
           15892
          ],
          [
           "Tromso",
           "Norway",
           169923
          ],
          [
           "Trondheim",
           "Norway",
           316481
          ],
          [
           "Vadsø",
           "Norway",
           27913
          ],
          [
           "Værøy",
           "Norway",
           4750
          ],
          [
           "Stavanger",
           "Norway",
           370401
          ],
          [
           "Bydgoszcz",
           "Poland",
           20599
          ],
          [
           "Gdansk",
           "Poland",
           227407
          ],
          [
           "Krakow",
           "Poland",
           294830
          ],
          [
           "Katowice",
           "Poland",
           188774
          ],
          [
           "Lublin",
           "Poland",
           19629
          ],
          [
           "Lodz",
           "Poland",
           22781
          ],
          [
           "Warsaw",
           "Poland",
           107328
          ],
          [
           "Poznan",
           "Poland",
           117445
          ],
          [
           "RADOM",
           "Poland",
           3243
          ],
          [
           "Rzeszow",
           "Poland",
           47955
          ],
          [
           "Szczecin",
           "Poland",
           31372
          ],
          [
           "Szczytno-Szymany",
           "Poland",
           8225
          ],
          [
           "Warsaw",
           "Poland",
           931060
          ],
          [
           "Wroclaw",
           "Poland",
           152750
          ],
          [
           "Zielona Gora",
           "Poland",
           5795
          ],
          [
           "Gothenborg",
           "Sweden",
           353564
          ],
          [
           "Stockholm",
           "Sweden",
           1198195
          ],
          [
           "Stockholm",
           "Sweden",
           265353
          ],
          [
           "Liepaja",
           "Latvia",
           3348
          ],
          [
           "Riga",
           "Latvia",
           405777
          ],
          [
           "Ventspils",
           "Latvia",
           82
          ],
          [
           "Kaunas",
           "Lithuania",
           53117
          ],
          [
           "Palanga",
           "Lithuania",
           21034
          ],
          [
           "Siauliai",
           "Lithuania",
           16042
          ],
          [
           "Vilnius",
           "Lithuania",
           230364
          ],
          [
           "Fuerteventura",
           "Spain",
           264046
          ],
          [
           "La Gomera",
           "Spain",
           10679
          ],
          [
           "Hierro",
           "Spain",
           26897
          ],
          [
           "Santa Cruz De La Palma",
           "Spain",
           109837
          ],
          [
           "Gran Canaria",
           "Spain",
           671152
          ],
          [
           "Arrecife",
           "Spain",
           320381
          ],
          [
           "Tenerife",
           "Spain",
           363909
          ],
          [
           "Tenerife",
           "Spain",
           374342
          ],
          [
           "Melilla",
           "Spain",
           48191
          ],
          [
           "Agadir",
           "Morocco",
           51335
          ],
          [
           "Fes",
           "Morocco",
           38851
          ],
          [
           "Rabat",
           "Morocco",
           43669
          ],
          [
           "Casablanca",
           "Morocco",
           285983
          ],
          [
           "Marrakech",
           "Morocco",
           133539
          ],
          [
           "Tanger",
           "Morocco",
           47498
          ],
          [
           "Tirana",
           "Albania",
           155250
          ],
          [
           "Sofia",
           "Bulgaria",
           321888
          ],
          [
           "Larnaca",
           "Cyprus",
           318955
          ],
          [
           "Paphos",
           "Cyprus",
           100020
          ],
          [
           "Zagreb",
           "Croatia",
           233879
          ],
          [
           "Albacete",
           "Spain",
           4624
          ],
          [
           "Alicante",
           "Spain",
           499546
          ],
          [
           "Almeria",
           "Spain",
           50377
          ],
          [
           "Aviles",
           "Spain",
           64995
          ],
          [
           "Cordoba",
           "Spain",
           1970
          ],
          [
           "Bilbao",
           "Spain",
           237337
          ],
          [
           "Burgos",
           "Spain",
           4273
          ],
          [
           "Barcelona",
           "Spain",
           1699766
          ],
          [
           "Badajoz",
           "Spain",
           10150
          ],
          [
           "La Coruna",
           "Spain",
           60508
          ],
          [
           "Madrid",
           "Spain",
           16752
          ],
          [
           "Lleida",
           "Spain",
           14308
          ],
          [
           "Gerona",
           "Spain",
           77779
          ],
          [
           "Granada",
           "Spain",
           54475
          ],
          [
           "Madrid",
           "Spain",
           9377
          ],
          [
           "Ibiza",
           "Spain",
           403388
          ],
          [
           "Jerez",
           "Spain",
           85496
          ],
          [
           "Murcia",
           "Spain",
           26776
          ],
          [
           "Sabadell",
           "Spain",
           11412
          ],
          [
           "Leon",
           "Spain",
           6574
          ],
          [
           "Madrid",
           "Spain",
           2117063
          ],
          [
           "Malaga",
           "Spain",
           729501
          ],
          [
           "Menorca",
           "Spain",
           172836
          ],
          [
           "Murcia",
           "Spain",
           15704
          ],
          [
           "Sevilla",
           "Spain",
           31157
          ],
          [
           "Palma de Mallorca",
           "Spain",
           1129378
          ],
          [
           "Pamplona",
           "Spain",
           20847
          ],
          [
           "Ciudad Real",
           "Spain",
           773
          ],
          [
           "Reus",
           "Spain",
           41098
          ],
          [
           "Rota",
           "Spain",
           30359
          ],
          [
           "Salamanca",
           "Spain",
           20048
          ],
          [
           "Son Bonet",
           "Spain",
           3903
          ],
          [
           "San Sebastian",
           "Spain",
           27835
          ],
          [
           "Santiago",
           "Spain",
           113355
          ],
          [
           "Madrid",
           "Spain",
           10428
          ],
          [
           "Valencia",
           "Spain",
           358192
          ],
          [
           "Valladolid",
           "Spain",
           16782
          ],
          [
           "Vitoria",
           "Spain",
           55469
          ],
          [
           "Vigo",
           "Spain",
           54899
          ],
          [
           "Santander",
           "Spain",
           48523
          ],
          [
           "Zaragoza",
           "Spain",
           51331
          ],
          [
           "Sevilla",
           "Spain",
           272421
          ],
          [
           "Albert",
           "France",
           6957
          ],
          [
           "Agen",
           "France",
           22096
          ],
          [
           "Bordeaux",
           "France",
           363187
          ],
          [
           "Bergerac",
           "France",
           23268
          ],
          [
           "La Rochelle",
           "France",
           28477
          ],
          [
           "Poitiers",
           "France",
           29571
          ],
          [
           "Limoges",
           "France",
           36862
          ],
          [
           "Toulouse",
           "France",
           498705
          ],
          [
           "Pau",
           "France",
           61662
          ],
          [
           "Tarbes",
           "France",
           38907
          ],
          [
           "Biarritz-bayonne",
           "France",
           75363
          ],
          [
           "Rodez",
           "France",
           21694
          ],
          [
           "Dole",
           "France",
           16764
          ],
          [
           "Metz",
           "France",
           30219
          ],
          [
           "Angers/Marcé",
           "France",
           10684
          ],
          [
           "Bastia",
           "France",
           98248
          ],
          [
           "Calvi",
           "France",
           37375
          ],
          [
           "Figari",
           "France",
           66243
          ],
          [
           "Ajaccio",
           "France",
           104227
          ],
          [
           "Chambery",
           "France",
           42052
          ],
          [
           "Clermont-Ferrand",
           "France",
           65622
          ],
          [
           "Annemasse",
           "France",
           10658
          ],
          [
           "Lyon",
           "France",
           583323
          ],
          [
           "Annecy",
           "France",
           21926
          ],
          [
           "Grenoble",
           "France",
           42563
          ],
          [
           "Chateauroux",
           "France",
           16090
          ],
          [
           "Lyon",
           "France",
           60526
          ],
          [
           "Cannes",
           "France",
           87848
          ],
          [
           "St-Etienne",
           "France",
           13234
          ],
          [
           "Istres",
           "France",
           18553
          ],
          [
           "Carcassonne",
           "France",
           31984
          ],
          [
           "Marseille",
           "France",
           533500
          ],
          [
           "Nice",
           "France",
           778701
          ],
          [
           "Perpignan",
           "France",
           62433
          ],
          [
           "Montpellier",
           "France",
           167459
          ],
          [
           "Beziers",
           "France",
           35645
          ],
          [
           "Avignon",
           "France",
           41051
          ],
          [
           "Beauvais",
           "France",
           135598
          ],
          [
           "Le Havre",
           "France",
           5489
          ],
          [
           "Chalons",
           "France",
           22875
          ],
          [
           "Rouen",
           "France",
           4338
          ],
          [
           "Tours",
           "France",
           19099
          ],
          [
           "Paris",
           "France",
           326873
          ],
          [
           "Paris",
           "France",
           2581673
          ],
          [
           "Toussous-le-noble",
           "France",
           68626
          ],
          [
           "Paris",
           "France",
           1200973
          ],
          [
           "Lille",
           "France",
           131111
          ],
          [
           "Brest",
           "France",
           91108
          ],
          [
           "Dinard",
           "France",
           17384
          ],
          [
           "Deauville",
           "France",
           20675
          ],
          [
           "Lorient",
           "France",
           34782
          ],
          [
           "Caen",
           "France",
           35250
          ],
          [
           "Le Mans",
           "France",
           8565
          ],
          [
           "Rennes",
           "France",
           96047
          ],
          [
           "Lannion",
           "France",
           5198
          ],
          [
           "Quimper",
           "France",
           14525
          ],
          [
           "Nantes",
           "France",
           309671
          ],
          [
           "St.-nazaire",
           "France",
           16801
          ],
          [
           "Mulhouse",
           "France",
           425889
          ],
          [
           "Brive",
           "France",
           18613
          ],
          [
           "Strasbourg",
           "France",
           111257
          ],
          [
           "Hyeres",
           "France",
           67088
          ],
          [
           "Nimes",
           "France",
           27555
          ],
          [
           "Athens",
           "Greece",
           1133781
          ],
          [
           "Heraklion",
           "Greece",
           296178
          ],
          [
           "Keffallinia",
           "Greece",
           34297
          ],
          [
           "Kos",
           "Greece",
           99748
          ],
          [
           "Kerkyra/corfu",
           "Greece",
           132290
          ],
          [
           "Mykonos",
           "Greece",
           87566
          ],
          [
           "Preveza",
           "Greece",
           29613
          ],
          [
           "Rhodos",
           "Greece",
           204628
          ],
          [
           "Chania",
           "Greece",
           140315
          ],
          [
           "Skiathos",
           "Greece",
           21907
          ],
          [
           "Thira",
           "Greece",
           100947
          ],
          [
           "Thessaloniki",
           "Greece",
           300916
          ],
          [
           "Zakynthos",
           "Greece",
           65558
          ],
          [
           "Budapest",
           "Hungary",
           572817
          ],
          [
           "Brindisi",
           "Italy",
           107800
          ],
          [
           "Catania",
           "Italy",
           390915
          ],
          [
           "Palermo",
           "Italy",
           61988
          ],
          [
           "Milano",
           "Italy",
           1054425
          ],
          [
           "Bergamo",
           "Italy",
           474103
          ],
          [
           "Torino",
           "Italy",
           220858
          ],
          [
           "Milan",
           "Italy",
           576148
          ],
          [
           "Bologna",
           "Italy",
           386137
          ],
          [
           "Treviso",
           "Italy",
           101892
          ],
          [
           "Venice",
           "Italy",
           472722
          ],
          [
           "Rome",
           "Italy",
           283309
          ],
          [
           "Rome",
           "Italy",
           1518100
          ],
          [
           "Naples",
           "Italy",
           406872
          ],
          [
           "Pisa",
           "Italy",
           230763
          ],
          [
           "Ljubljana",
           "Slovenia",
           146262
          ],
          [
           "Maribor",
           "Slovenia",
           12048
          ],
          [
           "Portoroz",
           "Slovenia",
           11281
          ],
          [
           "Karlovy Vary",
           "Czech Republic",
           10317
          ],
          [
           "Ostrava",
           "Czech Republic",
           39421
          ],
          [
           "Prague",
           "Czech Republic",
           716740
          ],
          [
           "Brno",
           "Czech Republic",
           52821
          ],
          [
           "Tel-aviv",
           "Israel",
           377312
          ],
          [
           "Tel-aviv",
           "Israel",
           123102
          ],
          [
           "Malta",
           "Malta",
           283622
          ],
          [
           "Graz",
           "Austria",
           99270
          ],
          [
           "Innsbruck",
           "Austria",
           102164
          ],
          [
           "Klagenfurt",
           "Austria",
           36950
          ],
          [
           "Linz",
           "Austria",
           68060
          ],
          [
           "Salzburg",
           "Austria",
           152809
          ],
          [
           "Vienna",
           "Austria",
           1324871
          ],
          [
           "Santa Maria (island)",
           "Portugal",
           16439
          ],
          [
           "Cascais",
           "Portugal",
           33176
          ],
          [
           "Flores",
           "Portugal",
           9991
          ],
          [
           "Faro",
           "Portugal",
           311170
          ],
          [
           "Horta",
           "Portugal",
           27611
          ],
          [
           "Funchal",
           "Portugal",
           136155
          ],
          [
           "Montijo",
           "Portugal",
           988
          ],
          [
           "Ponta Delgada",
           "Portugal",
           113083
          ],
          [
           "Porto",
           "Portugal",
           488585
          ],
          [
           "Porto Santo",
           "Portugal",
           17120
          ],
          [
           "Lisbon",
           "Portugal",
           1102886
          ],
          [
           "Sarajevo",
           "Bosnia and Herzegovina",
           68725
          ],
          [
           "Bucharest",
           "Romania",
           31979
          ],
          [
           "Bucharest",
           "Romania",
           629681
          ],
          [
           "Geneva",
           "Switzerland",
           958735
          ],
          [
           "Sion",
           "Switzerland",
           40620
          ],
          [
           "Zurich",
           "Switzerland",
           1372321
          ],
          [
           "Ankara",
           "Turkey",
           553004
          ],
          [
           "Antalya",
           "Turkey",
           906569
          ],
          [
           "Istanbul",
           "Turkey",
           1570488
          ],
          [
           "Izmir",
           "Turkey",
           439933
          ],
          [
           "Istanbul",
           "Turkey",
           1271627
          ],
          [
           "Istanbul",
           "Turkey",
           939303
          ],
          [
           "Chisinau",
           "Moldova",
           136258
          ],
          [
           "Skopje",
           "Macedonia",
           95300
          ],
          [
           "Belgrade",
           "Serbia",
           369889
          ],
          [
           "Podgorica",
           "Montenegro",
           71051
          ],
          [
           "Bratislava",
           "Slovakia",
           115088
          ],
          [
           "Yerevan",
           "Armenia",
           126790
          ],
          [
           "Tbilisi",
           "Georgia",
           172537
          ],
          [
           "Kiev",
           "Ukraine",
           503023
          ]
         ],
         "hovertemplate": "<b>%{hovertext}</b><br><br>TOT_VOLI=%{marker.color}<br>Latitude=%{lat}<br>Longitude=%{lon}<br>City=%{customdata[0]}<br>Country=%{customdata[1]}<extra></extra>",
         "hovertext": [
          "Antwerp",
          "Brussels",
          "Charleroi",
          "Liège",
          "Ostend-Bruges",
          "Berlin - Brandenburg",
          "Dresden",
          "Erfurt",
          "Frankfurt",
          "Muenster-Osnabrueck",
          "Hamburg",
          "Cologne-Bonn",
          "Dusseldorf",
          "Munich",
          "Nuremberg",
          "Leipzig-Halle",
          "Saarbruecken",
          "Stuttgart",
          "Berlin - Tegel",
          "Hanover",
          "Bremen",
          "Tallinn",
          "Tartu",
          "Helsinki - Vantaa",
          "Belfast - Aldergrove",
          "Belfast - City Airport",
          "Londonderry - Eglinton",
          "Birmingham",
          "Manchester",
          "Bristol",
          "London - Luton",
          "Southampton",
          "Biggin Hill",
          "London - Gatwick",
          "London - City",
          "Farnborough",
          "London - Heathrow",
          "Newcastle",
          "East Midlands",
          "Aberdeen",
          "Glasgow",
          "Edinburgh",
          "London - Stansted",
          "Amsterdam - Schiphol",
          "Maastricht-Aachen",
          "Groningen",
          "Lelystad",
          "Rotterdam",
          "Cork",
          "Donegal",
          "Dublin",
          "Connaught",
          "Kerry - Farranfore",
          "Shannon",
          "Sligo",
          "Waterford",
          "Weston",
          "Copenhagen - Kastrup",
          "Luxembourg",
          "Alesund",
          "Andenes",
          "Alta",
          "Bronnoysund Bronnoy",
          "Bodø",
          "Bergen",
          "Batsfjord",
          "Berlevåg",
          "Kristiansand Kjevik",
          "Bardufoss",
          "Harstad - Narvik Evenes",
          "Florø",
          "Oslo - Gardermoen",
          "Haugesund",
          "Hammerfest",
          "Honningsvåg Valan",
          "Kristiansund Kvernberget",
          "Kirkenes Høybuktmoen",
          "Leknes",
          "Mehamn",
          "Molde Årø",
          "Mosjøen Kjærstad",
          "Lakselv Banak",
          "Namsos Høknesøra",
          "Orsta¿Volda Hovden",
          "Mo i Rana Røssvoll",
          "Rorvik Ryum",
          "Roros",
          "Rost",
          "Svalbard Longyear",
          "Sandane  Anda",
          "Sogndal Haukåsen",
          "Svolvær Helle",
          "Stokmarknes Skagen",
          "Sorkjosen",
          "Vardø Svartnes",
          "Sandnessjøen Stokka",
          "Tromsø",
          "Trondheim",
          "Vadsø",
          "Værøy",
          "Stavanger",
          "Bydgoszcz",
          "Gdansk",
          "Krakow - Balice",
          "Katowice - Pyrzowice",
          "Lublin",
          "Lodz - Lublinek",
          "Warszawa - Modlin",
          "Poznan - Lawica",
          "Radom",
          "Rzeszow - Jasionka",
          "Szczecin - Goleniów",
          "Olsztyn-Mazury",
          "Warszawa - Chopina",
          "Wroclaw - Strachowice",
          "Zielona Gora - Babimost",
          "Göteborg",
          "Stockholm - Arlanda",
          "Stockholm - Bromma",
          "Liepaja",
          "Riga",
          "Ventspils",
          "Kaunas",
          "Palanga",
          "Siauliai",
          "Vilnius",
          "Fuerteventura",
          "La Gomera",
          "Hierro",
          "La Palma",
          "Gran Canaria",
          "Lanzarote",
          "Tenerife Sur - Reina Sofia",
          "Tenerife North",
          "Melilla",
          "Al Massira",
          "Saïss",
          "Rabat-Salé",
          "Mohammed V International",
          "Menara",
          "Ibn Batouta",
          "Tirana",
          "Sofia",
          "Larnaca",
          "Paphos",
          "Zagreb",
          "Albacete",
          "Alicante",
          "Almeria",
          "Asturias",
          "Cordoba",
          "Bilbao",
          "Burgos",
          "Barcelona",
          "Badajoz",
          "La Coruna",
          "Madrid - Cuatro Viento",
          "Lleida - Alguaire",
          "Gerona",
          "Granada",
          "Madrid - Getafe",
          "Ibiza",
          "Jerez De La Frontera",
          "Murcia San Javier",
          "Sabadell",
          "Leon",
          "Madrid - Barajas",
          "Málaga",
          "Mahon",
          "Región de Murcia International Airport",
          "Seville - Moron",
          "Palma de Mallorca",
          "Noain Pamplona",
          "Ciudad Real Central",
          "Reus",
          "Rota",
          "Salamanca Matalan",
          "Son Bonet",
          "San Sebastian",
          "Santiago",
          "Madrid - Torrejon",
          "Valencia",
          "Valladolid",
          "Vitoria",
          "Vigo",
          "Santander",
          "Zaragoza",
          "Sevilla",
          "Albert-Bray",
          "Agen-La Garenne",
          "Bordeaux-Mérignac",
          "Bergerac-Roumanière",
          "La Rochelle-Ile de Ré",
          "Poitiers-Biard",
          "Limoges-Bellegarde",
          "Toulouse-Blagnac",
          "Pau-Pyrénées",
          "Tarbes-Lourdes Pyrénées",
          "Biarritz-Bayonne-Anglet",
          "Rodez-Marcillac",
          "Dôle-Tavaux",
          "Metz-Nancy-Lorraine",
          "Angers-Marcé",
          "Bastia-Poretta",
          "Calvi-Sainte-Catherine",
          "Figari-Sud Corse",
          "Ajaccio-Napoléon-Bonaparte",
          "Chambéry-Aix-les-Bains",
          "Clermont-Ferrand-Auvergne",
          "Annemasse",
          "Lyon-Saint-Exupéry",
          "Annecy-Meythet",
          "Grenoble-Isère",
          "Châteauroux-Déols",
          "Lyon-Bron",
          "Cannes-Mandelieu",
          "Saint-Etienne-Bouthéon",
          "Istres-Le Tubé",
          "Carcassonne-Salvaza",
          "Marseille-Provence",
          "Nice-Côte d’Azur",
          "Perpignan-Rivesaltes",
          "Montpellier-Méditerranée",
          "Béziers-Vias",
          "Avignon-Caumont",
          "Beauvais-Tillé",
          "Le Havre-Octeville",
          "Châlons-Vatry",
          "Rouen",
          "Tours-Val de Loire",
          "Paris-Le Bourget",
          "Paris-Charles-de-Gaulle",
          "Toussus-le-Noble",
          "Paris-Orly",
          "Lille-Lesquin",
          "Brest-Bretagne",
          "Dinard-Pleurtuit-Saint-Malo",
          "Deauville-Normandie",
          "Lorient-Lann Bihoué",
          "Caen-Carpiquet",
          "Le Mans",
          "Rennes-Saint-Jacques",
          "Lannion",
          "Quimper-Pluguffan",
          "Nantes-Atlantique",
          "Saint-Nazaire-Montoir",
          "Bâle-Mulhouse",
          "Brive-Souillac",
          "Strasbourg-Entzheim",
          "Hyères-Le Palyvestre",
          "Nîmes-Garons",
          "Athens",
          "Heraklion",
          "Kefallinia",
          "Kos",
          "Corfu",
          "Mikonos",
          "Aktion",
          "Rodos",
          "Khania - Souda",
          "Skiathos",
          "Santorini",
          "Thessaloniki",
          "Zakinthos",
          "Budapest - Ferihegy",
          "Brindisi",
          "Catania",
          "Palermo Falcone-Borsellino",
          "Milan - Malpensa",
          "Bergamo",
          "Torino Caselle",
          "Milan - Linate",
          "Bologna",
          "Treviso",
          "Venice",
          "Rome - Ciampino",
          "Rome - Fiumicino",
          "Naples",
          "Pisa San Giusto",
          "Ljubljana",
          "Maribor",
          "Portorož",
          "Karlovy Vary",
          "Ostrava",
          "Prague",
          "Brno-Tuřany",
          "Ben Gurion International",
          "Tel Aviv - Ben Gurion International",
          "Malta",
          "Graz",
          "Innsbruck",
          "Klagenfurt",
          "Linz",
          "Salzburg",
          "Vienna",
          "Santa Maria",
          "Cascais",
          "Flores",
          "Faro",
          "Horta",
          "Madeira",
          "Montijo",
          "Ponta Delgada",
          "Porto",
          "Porto Santo",
          "Lisbon",
          "Sarajevo",
          "Bucharest - Băneasa",
          "Bucharest - Otopeni",
          "Geneva",
          "Sion",
          "Zürich",
          "Ankara - Esenboğa",
          "Antalya",
          "Istanbul Atatürk",
          "Izmir - Adnan Menderes",
          "Istanbul Sabiha Gökçen",
          "iGA Istanbul Airport",
          "Chișinău",
          "Skopje",
          "Belgrade - Nikola Tesla",
          "Podgorica",
          "Bratislava",
          "Yerevan",
          "Tbilisi",
          "Kiev - Boryspil"
         ],
         "lat": {
          "bdata": "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",
          "dtype": "f8"
         },
         "legendgroup": "",
         "lon": {
          "bdata": "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",
          "dtype": "f8"
         },
         "marker": {
          "color": {
           "bdata": "Bk4BAH/7EQAsZwQALn0DAGejAAABEwkAM6IBAGNzAAAUZCcAlpMBAI6vCwCpugsAc6gQAFS5HgBa8gMAasgGAEmxAACLiwkAFBgMAFQFBQBRbAIAwWcDAFkhAAAXLQ4ATAcEAGLDAgBcPwAAsUoIAMAVDwACLwUARtYKAD3fAgCKogEAwXIUAPXOBQDqjwIAilQlACMAAgDw1QUAwokEAMPUBgARqAkAdFsPAIkbKQAc3gAA8ewAAPUsAAD7EAIA8PIBAIErAAB2txEAE3sAAMhgAACBvQEAQwEAAHQOAACXFAAAdmIUAP4fBgBd1wAAVDwAAAyMAAAacQAAkWQCADnXBwBiJgAApBoAACrVAABpNgAA4ZoAACKDAACCPhQA65AAAFiuAAAHIgAAIJ4AAKt7AABbWwAA2ykAABdZAABTPAAA/CcAACMpAAB3RwAA5FIAAIcmAAATGQAAPhUAAN0dAABAJAAAIVQAAB5BAACkUwAAeRwAACskAAAUPgAAw5cCAEHUBAAJbQAAjhIAAOGmBQB3UAAAT3gDAK5/BABm4QIArUwAAP1YAABAowEAxcoBAKsMAABTuwAAjHoAACEgAAD0NA4ArlQCAKMWAAAcZQUAc0gSAIkMBAAUDQAAETEGAFIAAAB9zwAAKlIAAKo+AADcgwMAbgcEALcpAAARaQAADa0BALA9CgB94wQAhY0FAEa2BQA/vAAAh8gAAMOXAACVqgAAH10EAKMJAgCKuQAAcl4CAGDpBADr3QQAtIYBAJeRAwAQEgAAWp8HAMnEAADj/QAAsgcAABmfAwCxEAAAtu8ZAKYnAABc7AAAcEEAAOQ3AADTLwEAy9QAAKEkAAC8JwYA+E0BAJhoAACULAAArhkAAMdNIACdIQsAJKMCAFg9AAC1eQAAojsRAG9RAAAFAwAAiqAAAJd2AABQTgAAPw8AALtsAADLugEAvCgAADB3BQCOQQAArdgAAHPWAACLvQAAg8gAACUoBAAtGwAAUFYAALOKBQDkWgAAPW8AAINzAAD+jwAAEZwHAN7wAAD7lwAAYyYBAL5UAAB8QQAAC3YAALwpAADIfwEA/5EAAMMCAQAjlwEARKQAAFYAAQCiKQAAm+YIAKZVAABDpgAA2j4AAG7sAAAoVwEAsjMAAHlIAADwfAAA/CMIAM3hCwDh8wAAI44CAD2LAABboAAArhECAHEVAABbWQAA8hAAAJtKAADZ/AQAqWQnABIMAQBNUxIAJwACAORjAQDoQwAAw1AAAN6HAACyiQAAdSEAAC93AQBOFAAAvTgAAKe5BAChQQAAoX8GALVIAACZsgEAEAYBAKNrAADVTBEA8oQEAPmFAACkhQEAwgQCAA5WAQCtcwAAVB8DABskAgCTVQAAU4oBAHSXBAAWAAEAkb0IABilAQAD9wUAJPIAANkWEAD3OwcAul4DAJTKCABZ5AUABI4BAJI2BwCtUgQAFCoXAFg1BgBrhQMAVjsCABAvAAARLAAATSgAAP2ZAADE7woAVc4AAODBBQDe4AEA5lMEAMaDAQAUjwEAVpAAANwJAQDpVAIARzcUADdAAACYgQAABycAAIK/BADbawAA2xMCANwDAAC7uQEAiXQHAOBCAAAm1BAAdQwBAOt8AACxmwkAD6EOAKyeAACh8BQALHAIAEnVDQC49hcAfbYGAEtnEwAnVQ4AQhQCAER0AQDhpAUAixUBAJDBAQBG7wEA+aECAO+sBwA=",
           "dtype": "i4"
          },
          "coloraxis": "coloraxis",
          "size": {
           "bdata": "Bk4BAH/7EQAsZwQALn0DAGejAAABEwkAM6IBAGNzAAAUZCcAlpMBAI6vCwCpugsAc6gQAFS5HgBa8gMAasgGAEmxAACLiwkAFBgMAFQFBQBRbAIAwWcDAFkhAAAXLQ4ATAcEAGLDAgBcPwAAsUoIAMAVDwACLwUARtYKAD3fAgCKogEAwXIUAPXOBQDqjwIAilQlACMAAgDw1QUAwokEAMPUBgARqAkAdFsPAIkbKQAc3gAA8ewAAPUsAAD7EAIA8PIBAIErAAB2txEAE3sAAMhgAACBvQEAQwEAAHQOAACXFAAAdmIUAP4fBgBd1wAAVDwAAAyMAAAacQAAkWQCADnXBwBiJgAApBoAACrVAABpNgAA4ZoAACKDAACCPhQA65AAAFiuAAAHIgAAIJ4AAKt7AABbWwAA2ykAABdZAABTPAAA/CcAACMpAAB3RwAA5FIAAIcmAAATGQAAPhUAAN0dAABAJAAAIVQAAB5BAACkUwAAeRwAACskAAAUPgAAw5cCAEHUBAAJbQAAjhIAAOGmBQB3UAAAT3gDAK5/BABm4QIArUwAAP1YAABAowEAxcoBAKsMAABTuwAAjHoAACEgAAD0NA4ArlQCAKMWAAAcZQUAc0gSAIkMBAAUDQAAETEGAFIAAAB9zwAAKlIAAKo+AADcgwMAbgcEALcpAAARaQAADa0BALA9CgB94wQAhY0FAEa2BQA/vAAAh8gAAMOXAACVqgAAH10EAKMJAgCKuQAAcl4CAGDpBADr3QQAtIYBAJeRAwAQEgAAWp8HAMnEAADj/QAAsgcAABmfAwCxEAAAtu8ZAKYnAABc7AAAcEEAAOQ3AADTLwEAy9QAAKEkAAC8JwYA+E0BAJhoAACULAAArhkAAMdNIACdIQsAJKMCAFg9AAC1eQAAojsRAG9RAAAFAwAAiqAAAJd2AABQTgAAPw8AALtsAADLugEAvCgAADB3BQCOQQAArdgAAHPWAACLvQAAg8gAACUoBAAtGwAAUFYAALOKBQDkWgAAPW8AAINzAAD+jwAAEZwHAN7wAAD7lwAAYyYBAL5UAAB8QQAAC3YAALwpAADIfwEA/5EAAMMCAQAjlwEARKQAAFYAAQCiKQAAm+YIAKZVAABDpgAA2j4AAG7sAAAoVwEAsjMAAHlIAADwfAAA/CMIAM3hCwDh8wAAI44CAD2LAABboAAArhECAHEVAABbWQAA8hAAAJtKAADZ/AQAqWQnABIMAQBNUxIAJwACAORjAQDoQwAAw1AAAN6HAACyiQAAdSEAAC93AQBOFAAAvTgAAKe5BAChQQAAoX8GALVIAACZsgEAEAYBAKNrAADVTBEA8oQEAPmFAACkhQEAwgQCAA5WAQCtcwAAVB8DABskAgCTVQAAU4oBAHSXBAAWAAEAkb0IABilAQAD9wUAJPIAANkWEAD3OwcAul4DAJTKCABZ5AUABI4BAJI2BwCtUgQAFCoXAFg1BgBrhQMAVjsCABAvAAARLAAATSgAAP2ZAADE7woAVc4AAODBBQDe4AEA5lMEAMaDAQAUjwEAVpAAANwJAQDpVAIARzcUADdAAACYgQAABycAAIK/BADbawAA2xMCANwDAAC7uQEAiXQHAOBCAAAm1BAAdQwBAOt8AACxmwkAD6EOAKyeAACh8BQALHAIAEnVDQC49hcAfbYGAEtnEwAnVQ4AQhQCAER0AQDhpAUAixUBAJDBAQBG7wEA+aECAO+sBwA=",
           "dtype": "i4"
          },
          "sizemode": "area",
          "sizeref": 11973.444444444445
         },
         "mode": "markers",
         "name": "",
         "showlegend": false,
         "subplot": "mapbox",
         "type": "scattermapbox"
        }
       ],
       "layout": {
        "coloraxis": {
         "colorbar": {
          "tickformat": ",",
          "title": {
           "text": "Totale voli"
          }
         },
         "colorscale": [
          [
           0,
           "Green"
          ],
          [
           1,
           "Red"
          ]
         ]
        },
        "height": 700,
        "legend": {
         "itemsizing": "constant",
         "tracegroupgap": 0
        },
        "mapbox": {
         "center": {
          "lat": 47.97380658328221,
          "lon": 7.383700536226994
         },
         "domain": {
          "x": [
           0,
           1
          ],
          "y": [
           0,
           1
          ]
         },
         "style": "open-street-map",
         "zoom": 3
        },
        "margin": {
         "b": 0,
         "l": 0,
         "r": 0,
         "t": 50
        },
        "template": {
         "data": {
          "bar": [
           {
            "error_x": {
             "color": "#2a3f5f"
            },
            "error_y": {
             "color": "#2a3f5f"
            },
            "marker": {
             "line": {
              "color": "#E5ECF6",
              "width": 0.5
             },
             "pattern": {
              "fillmode": "overlay",
              "size": 10,
              "solidity": 0.2
             }
            },
            "type": "bar"
           }
          ],
          "barpolar": [
           {
            "marker": {
             "line": {
              "color": "#E5ECF6",
              "width": 0.5
             },
             "pattern": {
              "fillmode": "overlay",
              "size": 10,
              "solidity": 0.2
             }
            },
            "type": "barpolar"
           }
          ],
          "carpet": [
           {
            "aaxis": {
             "endlinecolor": "#2a3f5f",
             "gridcolor": "white",
             "linecolor": "white",
             "minorgridcolor": "white",
             "startlinecolor": "#2a3f5f"
            },
            "baxis": {
             "endlinecolor": "#2a3f5f",
             "gridcolor": "white",
             "linecolor": "white",
             "minorgridcolor": "white",
             "startlinecolor": "#2a3f5f"
            },
            "type": "carpet"
           }
          ],
          "choropleth": [
           {
            "colorbar": {
             "outlinewidth": 0,
             "ticks": ""
            },
            "type": "choropleth"
           }
          ],
          "contour": [
           {
            "colorbar": {
             "outlinewidth": 0,
             "ticks": ""
            },
            "colorscale": [
             [
              0,
              "#0d0887"
             ],
             [
              0.1111111111111111,
              "#46039f"
             ],
             [
              0.2222222222222222,
              "#7201a8"
             ],
             [
              0.3333333333333333,
              "#9c179e"
             ],
             [
              0.4444444444444444,
              "#bd3786"
             ],
             [
              0.5555555555555556,
              "#d8576b"
             ],
             [
              0.6666666666666666,
              "#ed7953"
             ],
             [
              0.7777777777777778,
              "#fb9f3a"
             ],
             [
              0.8888888888888888,
              "#fdca26"
             ],
             [
              1,
              "#f0f921"
             ]
            ],
            "type": "contour"
           }
          ],
          "contourcarpet": [
           {
            "colorbar": {
             "outlinewidth": 0,
             "ticks": ""
            },
            "type": "contourcarpet"
           }
          ],
          "heatmap": [
           {
            "colorbar": {
             "outlinewidth": 0,
             "ticks": ""
            },
            "colorscale": [
             [
              0,
              "#0d0887"
             ],
             [
              0.1111111111111111,
              "#46039f"
             ],
             [
              0.2222222222222222,
              "#7201a8"
             ],
             [
              0.3333333333333333,
              "#9c179e"
             ],
             [
              0.4444444444444444,
              "#bd3786"
             ],
             [
              0.5555555555555556,
              "#d8576b"
             ],
             [
              0.6666666666666666,
              "#ed7953"
             ],
             [
              0.7777777777777778,
              "#fb9f3a"
             ],
             [
              0.8888888888888888,
              "#fdca26"
             ],
             [
              1,
              "#f0f921"
             ]
            ],
            "type": "heatmap"
           }
          ],
          "histogram": [
           {
            "marker": {
             "pattern": {
              "fillmode": "overlay",
              "size": 10,
              "solidity": 0.2
             }
            },
            "type": "histogram"
           }
          ],
          "histogram2d": [
           {
            "colorbar": {
             "outlinewidth": 0,
             "ticks": ""
            },
            "colorscale": [
             [
              0,
              "#0d0887"
             ],
             [
              0.1111111111111111,
              "#46039f"
             ],
             [
              0.2222222222222222,
              "#7201a8"
             ],
             [
              0.3333333333333333,
              "#9c179e"
             ],
             [
              0.4444444444444444,
              "#bd3786"
             ],
             [
              0.5555555555555556,
              "#d8576b"
             ],
             [
              0.6666666666666666,
              "#ed7953"
             ],
             [
              0.7777777777777778,
              "#fb9f3a"
             ],
             [
              0.8888888888888888,
              "#fdca26"
             ],
             [
              1,
              "#f0f921"
             ]
            ],
            "type": "histogram2d"
           }
          ],
          "histogram2dcontour": [
           {
            "colorbar": {
             "outlinewidth": 0,
             "ticks": ""
            },
            "colorscale": [
             [
              0,
              "#0d0887"
             ],
             [
              0.1111111111111111,
              "#46039f"
             ],
             [
              0.2222222222222222,
              "#7201a8"
             ],
             [
              0.3333333333333333,
              "#9c179e"
             ],
             [
              0.4444444444444444,
              "#bd3786"
             ],
             [
              0.5555555555555556,
              "#d8576b"
             ],
             [
              0.6666666666666666,
              "#ed7953"
             ],
             [
              0.7777777777777778,
              "#fb9f3a"
             ],
             [
              0.8888888888888888,
              "#fdca26"
             ],
             [
              1,
              "#f0f921"
             ]
            ],
            "type": "histogram2dcontour"
           }
          ],
          "mesh3d": [
           {
            "colorbar": {
             "outlinewidth": 0,
             "ticks": ""
            },
            "type": "mesh3d"
           }
          ],
          "parcoords": [
           {
            "line": {
             "colorbar": {
              "outlinewidth": 0,
              "ticks": ""
             }
            },
            "type": "parcoords"
           }
          ],
          "pie": [
           {
            "automargin": true,
            "type": "pie"
           }
          ],
          "scatter": [
           {
            "fillpattern": {
             "fillmode": "overlay",
             "size": 10,
             "solidity": 0.2
            },
            "type": "scatter"
           }
          ],
          "scatter3d": [
           {
            "line": {
             "colorbar": {
              "outlinewidth": 0,
              "ticks": ""
             }
            },
            "marker": {
             "colorbar": {
              "outlinewidth": 0,
              "ticks": ""
             }
            },
            "type": "scatter3d"
           }
          ],
          "scattercarpet": [
           {
            "marker": {
             "colorbar": {
              "outlinewidth": 0,
              "ticks": ""
             }
            },
            "type": "scattercarpet"
           }
          ],
          "scattergeo": [
           {
            "marker": {
             "colorbar": {
              "outlinewidth": 0,
              "ticks": ""
             }
            },
            "type": "scattergeo"
           }
          ],
          "scattergl": [
           {
            "marker": {
             "colorbar": {
              "outlinewidth": 0,
              "ticks": ""
             }
            },
            "type": "scattergl"
           }
          ],
          "scattermap": [
           {
            "marker": {
             "colorbar": {
              "outlinewidth": 0,
              "ticks": ""
             }
            },
            "type": "scattermap"
           }
          ],
          "scattermapbox": [
           {
            "marker": {
             "colorbar": {
              "outlinewidth": 0,
              "ticks": ""
             }
            },
            "type": "scattermapbox"
           }
          ],
          "scatterpolar": [
           {
            "marker": {
             "colorbar": {
              "outlinewidth": 0,
              "ticks": ""
             }
            },
            "type": "scatterpolar"
           }
          ],
          "scatterpolargl": [
           {
            "marker": {
             "colorbar": {
              "outlinewidth": 0,
              "ticks": ""
             }
            },
            "type": "scatterpolargl"
           }
          ],
          "scatterternary": [
           {
            "marker": {
             "colorbar": {
              "outlinewidth": 0,
              "ticks": ""
             }
            },
            "type": "scatterternary"
           }
          ],
          "surface": [
           {
            "colorbar": {
             "outlinewidth": 0,
             "ticks": ""
            },
            "colorscale": [
             [
              0,
              "#0d0887"
             ],
             [
              0.1111111111111111,
              "#46039f"
             ],
             [
              0.2222222222222222,
              "#7201a8"
             ],
             [
              0.3333333333333333,
              "#9c179e"
             ],
             [
              0.4444444444444444,
              "#bd3786"
             ],
             [
              0.5555555555555556,
              "#d8576b"
             ],
             [
              0.6666666666666666,
              "#ed7953"
             ],
             [
              0.7777777777777778,
              "#fb9f3a"
             ],
             [
              0.8888888888888888,
              "#fdca26"
             ],
             [
              1,
              "#f0f921"
             ]
            ],
            "type": "surface"
           }
          ],
          "table": [
           {
            "cells": {
             "fill": {
              "color": "#EBF0F8"
             },
             "line": {
              "color": "white"
             }
            },
            "header": {
             "fill": {
              "color": "#C8D4E3"
             },
             "line": {
              "color": "white"
             }
            },
            "type": "table"
           }
          ]
         },
         "layout": {
          "annotationdefaults": {
           "arrowcolor": "#2a3f5f",
           "arrowhead": 0,
           "arrowwidth": 1
          },
          "autotypenumbers": "strict",
          "coloraxis": {
           "colorbar": {
            "outlinewidth": 0,
            "ticks": ""
           }
          },
          "colorscale": {
           "diverging": [
            [
             0,
             "#8e0152"
            ],
            [
             0.1,
             "#c51b7d"
            ],
            [
             0.2,
             "#de77ae"
            ],
            [
             0.3,
             "#f1b6da"
            ],
            [
             0.4,
             "#fde0ef"
            ],
            [
             0.5,
             "#f7f7f7"
            ],
            [
             0.6,
             "#e6f5d0"
            ],
            [
             0.7,
             "#b8e186"
            ],
            [
             0.8,
             "#7fbc41"
            ],
            [
             0.9,
             "#4d9221"
            ],
            [
             1,
             "#276419"
            ]
           ],
           "sequential": [
            [
             0,
             "#0d0887"
            ],
            [
             0.1111111111111111,
             "#46039f"
            ],
            [
             0.2222222222222222,
             "#7201a8"
            ],
            [
             0.3333333333333333,
             "#9c179e"
            ],
            [
             0.4444444444444444,
             "#bd3786"
            ],
            [
             0.5555555555555556,
             "#d8576b"
            ],
            [
             0.6666666666666666,
             "#ed7953"
            ],
            [
             0.7777777777777778,
             "#fb9f3a"
            ],
            [
             0.8888888888888888,
             "#fdca26"
            ],
            [
             1,
             "#f0f921"
            ]
           ],
           "sequentialminus": [
            [
             0,
             "#0d0887"
            ],
            [
             0.1111111111111111,
             "#46039f"
            ],
            [
             0.2222222222222222,
             "#7201a8"
            ],
            [
             0.3333333333333333,
             "#9c179e"
            ],
            [
             0.4444444444444444,
             "#bd3786"
            ],
            [
             0.5555555555555556,
             "#d8576b"
            ],
            [
             0.6666666666666666,
             "#ed7953"
            ],
            [
             0.7777777777777778,
             "#fb9f3a"
            ],
            [
             0.8888888888888888,
             "#fdca26"
            ],
            [
             1,
             "#f0f921"
            ]
           ]
          },
          "colorway": [
           "#636efa",
           "#EF553B",
           "#00cc96",
           "#ab63fa",
           "#FFA15A",
           "#19d3f3",
           "#FF6692",
           "#B6E880",
           "#FF97FF",
           "#FECB52"
          ],
          "font": {
           "color": "#2a3f5f"
          },
          "geo": {
           "bgcolor": "white",
           "lakecolor": "white",
           "landcolor": "#E5ECF6",
           "showlakes": true,
           "showland": true,
           "subunitcolor": "white"
          },
          "hoverlabel": {
           "align": "left"
          },
          "hovermode": "closest",
          "mapbox": {
           "style": "light"
          },
          "paper_bgcolor": "white",
          "plot_bgcolor": "#E5ECF6",
          "polar": {
           "angularaxis": {
            "gridcolor": "white",
            "linecolor": "white",
            "ticks": ""
           },
           "bgcolor": "#E5ECF6",
           "radialaxis": {
            "gridcolor": "white",
            "linecolor": "white",
            "ticks": ""
           }
          },
          "scene": {
           "xaxis": {
            "backgroundcolor": "#E5ECF6",
            "gridcolor": "white",
            "gridwidth": 2,
            "linecolor": "white",
            "showbackground": true,
            "ticks": "",
            "zerolinecolor": "white"
           },
           "yaxis": {
            "backgroundcolor": "#E5ECF6",
            "gridcolor": "white",
            "gridwidth": 2,
            "linecolor": "white",
            "showbackground": true,
            "ticks": "",
            "zerolinecolor": "white"
           },
           "zaxis": {
            "backgroundcolor": "#E5ECF6",
            "gridcolor": "white",
            "gridwidth": 2,
            "linecolor": "white",
            "showbackground": true,
            "ticks": "",
            "zerolinecolor": "white"
           }
          },
          "shapedefaults": {
           "line": {
            "color": "#2a3f5f"
           }
          },
          "ternary": {
           "aaxis": {
            "gridcolor": "white",
            "linecolor": "white",
            "ticks": ""
           },
           "baxis": {
            "gridcolor": "white",
            "linecolor": "white",
            "ticks": ""
           },
           "bgcolor": "#E5ECF6",
           "caxis": {
            "gridcolor": "white",
            "linecolor": "white",
            "ticks": ""
           }
          },
          "title": {
           "x": 0.05
          },
          "xaxis": {
           "automargin": true,
           "gridcolor": "white",
           "linecolor": "white",
           "ticks": "",
           "title": {
            "standoff": 15
           },
           "zerolinecolor": "white",
           "zerolinewidth": 2
          },
          "yaxis": {
           "automargin": true,
           "gridcolor": "white",
           "linecolor": "white",
           "ticks": "",
           "title": {
            "standoff": 15
           },
           "zerolinecolor": "white",
           "zerolinewidth": 2
          }
         }
        },
        "title": {
         "text": "📍 Mappa Aeroporti per Traffico Totale (entrata+uscita)"
        }
       }
      }
     },
     "metadata": {},
     "output_type": "display_data"
    },
    {
     "name": "stdout",
     "output_type": "stream",
     "text": [
      "✅ Mappa salvata in: mappa_aeroporti_interattiva.html\n",
      "📊 Statistiche generali:\n",
      "   • Aeroporti mappati: 326\n",
      "   • Più trafficato:   Amsterdam - Schiphol (2,694,025 voli)\n",
      "   • Meno trafficato:  Ventspils (82 voli)\n",
      "\n",
      "🏆 Top 10 aeroporti per traffico totale:\n",
      "    1. Amsterdam - Schiphol (Amsterdam, Netherlands) – 2,694,025 voli\n",
      "    2. Paris-Charles-de-Gaulle (Paris, France) – 2,581,673 voli\n",
      "    3. Frankfurt (Frankfurt, Germany) – 2,581,524 voli\n",
      "    4. London - Heathrow (London, United Kingdom) – 2,446,474 voli\n",
      "    5. Madrid - Barajas (Madrid, Spain) – 2,117,063 voli\n",
      "    6. Munich (Munich, Germany) – 2,013,524 voli\n",
      "    7. Barcelona (Barcelona, Spain) – 1,699,766 voli\n",
      "    8. Istanbul Atatürk (Istanbul, Turkey) – 1,570,488 voli\n",
      "    9. Rome - Fiumicino (Rome, Italy) – 1,518,100 voli\n",
      "   10. Zürich (Zurich, Switzerland) – 1,372,321 voli\n"
     ]
    }
   ],
   "source": [
    "import os\n",
    "def crea_mappa_aeroporti():\n",
    "    \"\"\"\n",
    "    Crea una mappa interattiva degli aeroporti presenti in flights.csv,\n",
    "    usando le coordinate da airports.csv e Plotly Express.\n",
    "    Ogni punto è proporzionale al totale voli (FLT_TOT_1) di entrata + uscita.\n",
    "    \"\"\"\n",
    "    # 1. Percorsi ai file\n",
    "    try:\n",
    "        base_dir = os.path.dirname(os.path.abspath(__file__))\n",
    "    except NameError:\n",
    "        base_dir = os.getcwd()\n",
    "    airports_path = os.path.join(base_dir, 'data', 'airports.csv')\n",
    "    flights_path  = os.path.join(base_dir, 'data', 'flights.csv')\n",
    "    for p in (airports_path, flights_path):\n",
    "        if not os.path.isfile(p):\n",
    "            raise FileNotFoundError(f\"File non trovato: {p}\")\n",
    "\n",
    "    # 2. Lettura CSV\n",
    "    airports_df = pd.read_csv(airports_path)\n",
    "    flights_df  = pd.read_csv(flights_path)\n",
    "\n",
    "    # 3. Raggruppa per aeroporto usando FLT_TOT_1 già presente\n",
    "    totali = (\n",
    "        flights_df\n",
    "        .groupby(['APT_ICAO', 'APT_NAME'], as_index=False)['FLT_TOT_1']\n",
    "        .sum()\n",
    "        .rename(columns={'FLT_TOT_1': 'TOT_VOLI'})\n",
    "    )\n",
    "\n",
    "    # 4. Merge con coordinate da airports.csv\n",
    "    mappa_data = (\n",
    "        pd.merge(\n",
    "            totali,\n",
    "            airports_df[['ICAO','Latitude','Longitude','City','Country']],\n",
    "            left_on='APT_ICAO',\n",
    "            right_on='ICAO',\n",
    "            how='left'\n",
    "        )\n",
    "        .dropna(subset=['Latitude','Longitude'])\n",
    "    )\n",
    "\n",
    "    if mappa_data.empty:\n",
    "        print(\"❌ Nessun aeroporto con coordinate valide!\")\n",
    "        return None, mappa_data\n",
    "\n",
    "    # 5. Crea scatter_mapbox: dimensione e colore proporzionali a TOT_VOLI\n",
    "    fig = px.scatter_mapbox(\n",
    "        mappa_data,\n",
    "        lat='Latitude',\n",
    "        lon='Longitude',\n",
    "        size='TOT_VOLI',\n",
    "        color='TOT_VOLI',\n",
    "        color_continuous_scale=['Green','Red'],\n",
    "        hover_name='APT_NAME',\n",
    "        hover_data={\n",
    "            'City': True,\n",
    "            'Country': True,\n",
    "            'TOT_VOLI': True\n",
    "        },\n",
    "        size_max=15,\n",
    "        zoom=3,\n",
    "        mapbox_style='open-street-map',\n",
    "        height=700,\n",
    "        title='📍 Mappa Aeroporti per Traffico Totale (entrata+uscita)'\n",
    "    )\n",
    "    fig.update_layout(\n",
    "        margin={'l':0,'r':0,'t':50,'b':0},\n",
    "        coloraxis_colorbar=dict(title=\"Totale voli\", tickformat=\",\")\n",
    "    )\n",
    "\n",
    "    # 6. Mostra con scroll zoom e toolbar\n",
    "    fig.show(config={\n",
    "        'scrollZoom': True,\n",
    "        'displayModeBar': True\n",
    "    })\n",
    "\n",
    "    # 7. Salvataggio HTML\n",
    "    out_file = 'mappa_aeroporti_interattiva.html'\n",
    "    fig.write_html(out_file)\n",
    "    print(f\"✅ Mappa salvata in: {out_file}\")\n",
    "\n",
    "    # 8. Statistiche e report\n",
    "    min_v, max_v = mappa_data['TOT_VOLI'].min(), mappa_data['TOT_VOLI'].max()\n",
    "    busiest    = mappa_data.loc[mappa_data['TOT_VOLI'].idxmax(), 'APT_NAME']\n",
    "    least_busy = mappa_data.loc[mappa_data['TOT_VOLI'].idxmin(), 'APT_NAME']\n",
    "\n",
    "    print(\"📊 Statistiche generali:\")\n",
    "    print(f\"   • Aeroporti mappati: {len(mappa_data)}\")\n",
    "    print(f\"   • Più trafficato:   {busiest} ({max_v:,} voli)\")\n",
    "    print(f\"   • Meno trafficato:  {least_busy} ({min_v:,} voli)\\n\")\n",
    "\n",
    "    print(\"🏆 Top 10 aeroporti per traffico totale:\")\n",
    "    top10 = mappa_data.nlargest(10, 'TOT_VOLI')[['APT_NAME','City','Country','TOT_VOLI']]\n",
    "    for i, row in enumerate(top10.itertuples(), start=1):\n",
    "        print(f\"   {i:2d}. {row.APT_NAME} ({row.City}, {row.Country}) – {row.TOT_VOLI:,} voli\")\n",
    "\n",
    "    return fig, mappa_data\n",
    "\n",
    "if __name__ == \"__main__\":\n",
    "    crea_mappa_aeroporti()"
   ]
  }
 ],
 "metadata": {
  "kernelspec": {
   "display_name": "datascience",
   "language": "python",
   "name": "python3"
  },
  "language_info": {
   "codemirror_mode": {
    "name": "ipython",
    "version": 3
   },
   "file_extension": ".py",
   "mimetype": "text/x-python",
   "name": "python",
   "nbconvert_exporter": "python",
   "pygments_lexer": "ipython3",
   "version": "3.13.3"
  }
 },
 "nbformat": 4,
 "nbformat_minor": 5
}
