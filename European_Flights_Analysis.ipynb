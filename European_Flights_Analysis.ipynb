{
 "cells": [
  {
   "cell_type": "markdown",
   "id": "82f1a237",
   "metadata": {},
   "source": [
    "<h1>Eropean Flights Analysis<h1>"
   ]
  },
  {
   "cell_type": "code",
   "execution_count": 3,
   "id": "fe9bc4a8",
   "metadata": {},
   "outputs": [
    {
     "data": {
      "text/html": [
       "<div>\n",
       "<style scoped>\n",
       "    .dataframe tbody tr th:only-of-type {\n",
       "        vertical-align: middle;\n",
       "    }\n",
       "\n",
       "    .dataframe tbody tr th {\n",
       "        vertical-align: top;\n",
       "    }\n",
       "\n",
       "    .dataframe thead th {\n",
       "        text-align: right;\n",
       "    }\n",
       "</style>\n",
       "<table border=\"1\" class=\"dataframe\">\n",
       "  <thead>\n",
       "    <tr style=\"text-align: right;\">\n",
       "      <th></th>\n",
       "      <th>YEAR</th>\n",
       "      <th>MONTH_NUM</th>\n",
       "      <th>MONTH_MON</th>\n",
       "      <th>FLT_DATE</th>\n",
       "      <th>APT_ICAO</th>\n",
       "      <th>APT_NAME</th>\n",
       "      <th>STATE_NAME</th>\n",
       "      <th>FLT_DEP_1</th>\n",
       "      <th>FLT_ARR_1</th>\n",
       "      <th>FLT_TOT_1</th>\n",
       "      <th>FLT_DEP_IFR_2</th>\n",
       "      <th>FLT_ARR_IFR_2</th>\n",
       "      <th>FLT_TOT_IFR_2</th>\n",
       "      <th>Pivot Label</th>\n",
       "    </tr>\n",
       "  </thead>\n",
       "  <tbody>\n",
       "    <tr>\n",
       "      <th>0</th>\n",
       "      <td>2016</td>\n",
       "      <td>1</td>\n",
       "      <td>JAN</td>\n",
       "      <td>2016-01-01T00:00:00Z</td>\n",
       "      <td>EBAW</td>\n",
       "      <td>Antwerp</td>\n",
       "      <td>Belgium</td>\n",
       "      <td>4</td>\n",
       "      <td>3</td>\n",
       "      <td>7</td>\n",
       "      <td>NaN</td>\n",
       "      <td>NaN</td>\n",
       "      <td>NaN</td>\n",
       "      <td>Antwerp (EBAW)</td>\n",
       "    </tr>\n",
       "    <tr>\n",
       "      <th>1</th>\n",
       "      <td>2016</td>\n",
       "      <td>1</td>\n",
       "      <td>JAN</td>\n",
       "      <td>2016-01-01T00:00:00Z</td>\n",
       "      <td>EBBR</td>\n",
       "      <td>Brussels</td>\n",
       "      <td>Belgium</td>\n",
       "      <td>174</td>\n",
       "      <td>171</td>\n",
       "      <td>345</td>\n",
       "      <td>174.0</td>\n",
       "      <td>161.0</td>\n",
       "      <td>335.0</td>\n",
       "      <td>Brussels (EBBR)</td>\n",
       "    </tr>\n",
       "    <tr>\n",
       "      <th>2</th>\n",
       "      <td>2016</td>\n",
       "      <td>1</td>\n",
       "      <td>JAN</td>\n",
       "      <td>2016-01-01T00:00:00Z</td>\n",
       "      <td>EBCI</td>\n",
       "      <td>Charleroi</td>\n",
       "      <td>Belgium</td>\n",
       "      <td>45</td>\n",
       "      <td>47</td>\n",
       "      <td>92</td>\n",
       "      <td>45.0</td>\n",
       "      <td>45.0</td>\n",
       "      <td>90.0</td>\n",
       "      <td>Charleroi (EBCI)</td>\n",
       "    </tr>\n",
       "    <tr>\n",
       "      <th>3</th>\n",
       "      <td>2016</td>\n",
       "      <td>1</td>\n",
       "      <td>JAN</td>\n",
       "      <td>2016-01-01T00:00:00Z</td>\n",
       "      <td>EBLG</td>\n",
       "      <td>Liège</td>\n",
       "      <td>Belgium</td>\n",
       "      <td>6</td>\n",
       "      <td>7</td>\n",
       "      <td>13</td>\n",
       "      <td>NaN</td>\n",
       "      <td>NaN</td>\n",
       "      <td>NaN</td>\n",
       "      <td>Liège (EBLG)</td>\n",
       "    </tr>\n",
       "    <tr>\n",
       "      <th>4</th>\n",
       "      <td>2016</td>\n",
       "      <td>1</td>\n",
       "      <td>JAN</td>\n",
       "      <td>2016-01-01T00:00:00Z</td>\n",
       "      <td>EBOS</td>\n",
       "      <td>Ostend-Bruges</td>\n",
       "      <td>Belgium</td>\n",
       "      <td>7</td>\n",
       "      <td>7</td>\n",
       "      <td>14</td>\n",
       "      <td>NaN</td>\n",
       "      <td>NaN</td>\n",
       "      <td>NaN</td>\n",
       "      <td>Ostend-Bruges (EBOS)</td>\n",
       "    </tr>\n",
       "    <tr>\n",
       "      <th>...</th>\n",
       "      <td>...</td>\n",
       "      <td>...</td>\n",
       "      <td>...</td>\n",
       "      <td>...</td>\n",
       "      <td>...</td>\n",
       "      <td>...</td>\n",
       "      <td>...</td>\n",
       "      <td>...</td>\n",
       "      <td>...</td>\n",
       "      <td>...</td>\n",
       "      <td>...</td>\n",
       "      <td>...</td>\n",
       "      <td>...</td>\n",
       "      <td>...</td>\n",
       "    </tr>\n",
       "    <tr>\n",
       "      <th>688094</th>\n",
       "      <td>2022</td>\n",
       "      <td>5</td>\n",
       "      <td>MAY</td>\n",
       "      <td>2022-05-31T00:00:00Z</td>\n",
       "      <td>LYBE</td>\n",
       "      <td>Belgrade - Nikola Tesla</td>\n",
       "      <td>Serbia</td>\n",
       "      <td>80</td>\n",
       "      <td>85</td>\n",
       "      <td>165</td>\n",
       "      <td>NaN</td>\n",
       "      <td>NaN</td>\n",
       "      <td>NaN</td>\n",
       "      <td>Belgrade - Nikola Tesla (LYBE)</td>\n",
       "    </tr>\n",
       "    <tr>\n",
       "      <th>688095</th>\n",
       "      <td>2022</td>\n",
       "      <td>5</td>\n",
       "      <td>MAY</td>\n",
       "      <td>2022-05-31T00:00:00Z</td>\n",
       "      <td>LYPG</td>\n",
       "      <td>Podgorica</td>\n",
       "      <td>Montenegro</td>\n",
       "      <td>19</td>\n",
       "      <td>18</td>\n",
       "      <td>37</td>\n",
       "      <td>NaN</td>\n",
       "      <td>NaN</td>\n",
       "      <td>NaN</td>\n",
       "      <td>Podgorica (LYPG)</td>\n",
       "    </tr>\n",
       "    <tr>\n",
       "      <th>688096</th>\n",
       "      <td>2022</td>\n",
       "      <td>5</td>\n",
       "      <td>MAY</td>\n",
       "      <td>2022-05-31T00:00:00Z</td>\n",
       "      <td>LZIB</td>\n",
       "      <td>Bratislava</td>\n",
       "      <td>Slovakia</td>\n",
       "      <td>21</td>\n",
       "      <td>21</td>\n",
       "      <td>42</td>\n",
       "      <td>20.0</td>\n",
       "      <td>19.0</td>\n",
       "      <td>39.0</td>\n",
       "      <td>Bratislava (LZIB)</td>\n",
       "    </tr>\n",
       "    <tr>\n",
       "      <th>688097</th>\n",
       "      <td>2022</td>\n",
       "      <td>5</td>\n",
       "      <td>MAY</td>\n",
       "      <td>2022-05-31T00:00:00Z</td>\n",
       "      <td>UDYZ</td>\n",
       "      <td>Yerevan</td>\n",
       "      <td>Armenia</td>\n",
       "      <td>39</td>\n",
       "      <td>40</td>\n",
       "      <td>79</td>\n",
       "      <td>NaN</td>\n",
       "      <td>NaN</td>\n",
       "      <td>NaN</td>\n",
       "      <td>Yerevan (UDYZ)</td>\n",
       "    </tr>\n",
       "    <tr>\n",
       "      <th>688098</th>\n",
       "      <td>2022</td>\n",
       "      <td>5</td>\n",
       "      <td>MAY</td>\n",
       "      <td>2022-05-31T00:00:00Z</td>\n",
       "      <td>UGTB</td>\n",
       "      <td>Tbilisi</td>\n",
       "      <td>Georgia</td>\n",
       "      <td>37</td>\n",
       "      <td>37</td>\n",
       "      <td>74</td>\n",
       "      <td>NaN</td>\n",
       "      <td>NaN</td>\n",
       "      <td>NaN</td>\n",
       "      <td>Tbilisi (UGTB)</td>\n",
       "    </tr>\n",
       "  </tbody>\n",
       "</table>\n",
       "<p>688099 rows × 14 columns</p>\n",
       "</div>"
      ],
      "text/plain": [
       "        YEAR  MONTH_NUM MONTH_MON              FLT_DATE APT_ICAO  \\\n",
       "0       2016          1       JAN  2016-01-01T00:00:00Z     EBAW   \n",
       "1       2016          1       JAN  2016-01-01T00:00:00Z     EBBR   \n",
       "2       2016          1       JAN  2016-01-01T00:00:00Z     EBCI   \n",
       "3       2016          1       JAN  2016-01-01T00:00:00Z     EBLG   \n",
       "4       2016          1       JAN  2016-01-01T00:00:00Z     EBOS   \n",
       "...      ...        ...       ...                   ...      ...   \n",
       "688094  2022          5       MAY  2022-05-31T00:00:00Z     LYBE   \n",
       "688095  2022          5       MAY  2022-05-31T00:00:00Z     LYPG   \n",
       "688096  2022          5       MAY  2022-05-31T00:00:00Z     LZIB   \n",
       "688097  2022          5       MAY  2022-05-31T00:00:00Z     UDYZ   \n",
       "688098  2022          5       MAY  2022-05-31T00:00:00Z     UGTB   \n",
       "\n",
       "                       APT_NAME  STATE_NAME  FLT_DEP_1  FLT_ARR_1  FLT_TOT_1  \\\n",
       "0                       Antwerp     Belgium          4          3          7   \n",
       "1                      Brussels     Belgium        174        171        345   \n",
       "2                     Charleroi     Belgium         45         47         92   \n",
       "3                         Liège     Belgium          6          7         13   \n",
       "4                 Ostend-Bruges     Belgium          7          7         14   \n",
       "...                         ...         ...        ...        ...        ...   \n",
       "688094  Belgrade - Nikola Tesla      Serbia         80         85        165   \n",
       "688095                Podgorica  Montenegro         19         18         37   \n",
       "688096               Bratislava    Slovakia         21         21         42   \n",
       "688097                  Yerevan     Armenia         39         40         79   \n",
       "688098                  Tbilisi     Georgia         37         37         74   \n",
       "\n",
       "        FLT_DEP_IFR_2  FLT_ARR_IFR_2  FLT_TOT_IFR_2  \\\n",
       "0                 NaN            NaN            NaN   \n",
       "1               174.0          161.0          335.0   \n",
       "2                45.0           45.0           90.0   \n",
       "3                 NaN            NaN            NaN   \n",
       "4                 NaN            NaN            NaN   \n",
       "...               ...            ...            ...   \n",
       "688094            NaN            NaN            NaN   \n",
       "688095            NaN            NaN            NaN   \n",
       "688096           20.0           19.0           39.0   \n",
       "688097            NaN            NaN            NaN   \n",
       "688098            NaN            NaN            NaN   \n",
       "\n",
       "                           Pivot Label  \n",
       "0                       Antwerp (EBAW)  \n",
       "1                      Brussels (EBBR)  \n",
       "2                     Charleroi (EBCI)  \n",
       "3                         Liège (EBLG)  \n",
       "4                 Ostend-Bruges (EBOS)  \n",
       "...                                ...  \n",
       "688094  Belgrade - Nikola Tesla (LYBE)  \n",
       "688095                Podgorica (LYPG)  \n",
       "688096               Bratislava (LZIB)  \n",
       "688097                  Yerevan (UDYZ)  \n",
       "688098                  Tbilisi (UGTB)  \n",
       "\n",
       "[688099 rows x 14 columns]"
      ]
     },
     "execution_count": 3,
     "metadata": {},
     "output_type": "execute_result"
    }
   ],
   "source": [
    "import numpy as np\n",
    "import pandas as pd\n",
    "import plotly.express as px\n",
    "\n",
    "\n",
    "df = pd.read_csv(\"data/flights.csv\")\n",
    "df"
   ]
  },
  {
   "cell_type": "markdown",
   "id": "f0e9e555",
   "metadata": {},
   "source": [
    "<h2>Test Graph</h2>"
   ]
  },
  {
   "cell_type": "code",
   "execution_count": 25,
   "id": "ea4c53b8",
   "metadata": {},
   "outputs": [
    {
     "data": {
      "application/vnd.plotly.v1+json": {
       "config": {
        "plotlyServerURL": "https://plot.ly"
       },
       "data": [
        {
         "bingroup": "y",
         "histfunc": "sum",
         "hovertemplate": "sum of NumFlights=%{x}<br>State=%{y}<extra></extra>",
         "legendgroup": "",
         "marker": {
          "color": "#636efa",
          "pattern": {
           "shape": ""
          }
         },
         "name": "",
         "nbinsy": 1000,
         "orientation": "h",
         "showlegend": false,
         "type": "histogram",
         "x": {
          "bdata": "TAYAAMgIAAALCQAAGQkAABkJAAAcCQAAIwkAACYJAAAmCQAAJwkAACcJAAAnCQAAJwkAACcJAAAnCQAAJwkAACcJAAAVDQAAhQ4AABARAAAJEgAAIRIAAIQYAAAyGwAAaRsAAAQjAAAqIwAAjyQAAEIqAACYLQAAsDIAAEw2AABxQQAA81wAAHFxAADAdgAA5n0AAKaPAADwqQAAHhIBAFSuAQDGHQIA",
          "dtype": "i4"
         },
         "xaxis": "x",
         "y": [
          "Israel",
          "Ukraine",
          "Montenegro",
          "Bosnia and Herzegovina",
          "Republic of North Macedonia",
          "Slovakia",
          "Albania",
          "Moldova",
          "Armenia",
          "Serbia",
          "Denmark",
          "Finland",
          "Malta",
          "Hungary",
          "Bulgaria",
          "Luxembourg",
          "Georgia",
          "Croatia",
          "Latvia",
          "Estonia",
          "Cyprus",
          "Romania",
          "Slovenia",
          "Switzerland",
          "Sweden",
          "Lithuania",
          "Czech Republic",
          "Morocco",
          "Netherlands",
          "Belgium",
          "Türkiye",
          "Austria",
          "Ireland",
          "Portugal",
          "Greece",
          "Italy",
          "Poland",
          "Germany",
          "United Kingdom",
          "Norway",
          "Spain",
          "France"
         ],
         "yaxis": "y"
        }
       ],
       "layout": {
        "barmode": "relative",
        "height": 1200,
        "legend": {
         "tracegroupgap": 0
        },
        "template": {
         "data": {
          "bar": [
           {
            "error_x": {
             "color": "#2a3f5f"
            },
            "error_y": {
             "color": "#2a3f5f"
            },
            "marker": {
             "line": {
              "color": "#E5ECF6",
              "width": 0.5
             },
             "pattern": {
              "fillmode": "overlay",
              "size": 10,
              "solidity": 0.2
             }
            },
            "type": "bar"
           }
          ],
          "barpolar": [
           {
            "marker": {
             "line": {
              "color": "#E5ECF6",
              "width": 0.5
             },
             "pattern": {
              "fillmode": "overlay",
              "size": 10,
              "solidity": 0.2
             }
            },
            "type": "barpolar"
           }
          ],
          "carpet": [
           {
            "aaxis": {
             "endlinecolor": "#2a3f5f",
             "gridcolor": "white",
             "linecolor": "white",
             "minorgridcolor": "white",
             "startlinecolor": "#2a3f5f"
            },
            "baxis": {
             "endlinecolor": "#2a3f5f",
             "gridcolor": "white",
             "linecolor": "white",
             "minorgridcolor": "white",
             "startlinecolor": "#2a3f5f"
            },
            "type": "carpet"
           }
          ],
          "choropleth": [
           {
            "colorbar": {
             "outlinewidth": 0,
             "ticks": ""
            },
            "type": "choropleth"
           }
          ],
          "contour": [
           {
            "colorbar": {
             "outlinewidth": 0,
             "ticks": ""
            },
            "colorscale": [
             [
              0,
              "#0d0887"
             ],
             [
              0.1111111111111111,
              "#46039f"
             ],
             [
              0.2222222222222222,
              "#7201a8"
             ],
             [
              0.3333333333333333,
              "#9c179e"
             ],
             [
              0.4444444444444444,
              "#bd3786"
             ],
             [
              0.5555555555555556,
              "#d8576b"
             ],
             [
              0.6666666666666666,
              "#ed7953"
             ],
             [
              0.7777777777777778,
              "#fb9f3a"
             ],
             [
              0.8888888888888888,
              "#fdca26"
             ],
             [
              1,
              "#f0f921"
             ]
            ],
            "type": "contour"
           }
          ],
          "contourcarpet": [
           {
            "colorbar": {
             "outlinewidth": 0,
             "ticks": ""
            },
            "type": "contourcarpet"
           }
          ],
          "heatmap": [
           {
            "colorbar": {
             "outlinewidth": 0,
             "ticks": ""
            },
            "colorscale": [
             [
              0,
              "#0d0887"
             ],
             [
              0.1111111111111111,
              "#46039f"
             ],
             [
              0.2222222222222222,
              "#7201a8"
             ],
             [
              0.3333333333333333,
              "#9c179e"
             ],
             [
              0.4444444444444444,
              "#bd3786"
             ],
             [
              0.5555555555555556,
              "#d8576b"
             ],
             [
              0.6666666666666666,
              "#ed7953"
             ],
             [
              0.7777777777777778,
              "#fb9f3a"
             ],
             [
              0.8888888888888888,
              "#fdca26"
             ],
             [
              1,
              "#f0f921"
             ]
            ],
            "type": "heatmap"
           }
          ],
          "histogram": [
           {
            "marker": {
             "pattern": {
              "fillmode": "overlay",
              "size": 10,
              "solidity": 0.2
             }
            },
            "type": "histogram"
           }
          ],
          "histogram2d": [
           {
            "colorbar": {
             "outlinewidth": 0,
             "ticks": ""
            },
            "colorscale": [
             [
              0,
              "#0d0887"
             ],
             [
              0.1111111111111111,
              "#46039f"
             ],
             [
              0.2222222222222222,
              "#7201a8"
             ],
             [
              0.3333333333333333,
              "#9c179e"
             ],
             [
              0.4444444444444444,
              "#bd3786"
             ],
             [
              0.5555555555555556,
              "#d8576b"
             ],
             [
              0.6666666666666666,
              "#ed7953"
             ],
             [
              0.7777777777777778,
              "#fb9f3a"
             ],
             [
              0.8888888888888888,
              "#fdca26"
             ],
             [
              1,
              "#f0f921"
             ]
            ],
            "type": "histogram2d"
           }
          ],
          "histogram2dcontour": [
           {
            "colorbar": {
             "outlinewidth": 0,
             "ticks": ""
            },
            "colorscale": [
             [
              0,
              "#0d0887"
             ],
             [
              0.1111111111111111,
              "#46039f"
             ],
             [
              0.2222222222222222,
              "#7201a8"
             ],
             [
              0.3333333333333333,
              "#9c179e"
             ],
             [
              0.4444444444444444,
              "#bd3786"
             ],
             [
              0.5555555555555556,
              "#d8576b"
             ],
             [
              0.6666666666666666,
              "#ed7953"
             ],
             [
              0.7777777777777778,
              "#fb9f3a"
             ],
             [
              0.8888888888888888,
              "#fdca26"
             ],
             [
              1,
              "#f0f921"
             ]
            ],
            "type": "histogram2dcontour"
           }
          ],
          "mesh3d": [
           {
            "colorbar": {
             "outlinewidth": 0,
             "ticks": ""
            },
            "type": "mesh3d"
           }
          ],
          "parcoords": [
           {
            "line": {
             "colorbar": {
              "outlinewidth": 0,
              "ticks": ""
             }
            },
            "type": "parcoords"
           }
          ],
          "pie": [
           {
            "automargin": true,
            "type": "pie"
           }
          ],
          "scatter": [
           {
            "fillpattern": {
             "fillmode": "overlay",
             "size": 10,
             "solidity": 0.2
            },
            "type": "scatter"
           }
          ],
          "scatter3d": [
           {
            "line": {
             "colorbar": {
              "outlinewidth": 0,
              "ticks": ""
             }
            },
            "marker": {
             "colorbar": {
              "outlinewidth": 0,
              "ticks": ""
             }
            },
            "type": "scatter3d"
           }
          ],
          "scattercarpet": [
           {
            "marker": {
             "colorbar": {
              "outlinewidth": 0,
              "ticks": ""
             }
            },
            "type": "scattercarpet"
           }
          ],
          "scattergeo": [
           {
            "marker": {
             "colorbar": {
              "outlinewidth": 0,
              "ticks": ""
             }
            },
            "type": "scattergeo"
           }
          ],
          "scattergl": [
           {
            "marker": {
             "colorbar": {
              "outlinewidth": 0,
              "ticks": ""
             }
            },
            "type": "scattergl"
           }
          ],
          "scattermap": [
           {
            "marker": {
             "colorbar": {
              "outlinewidth": 0,
              "ticks": ""
             }
            },
            "type": "scattermap"
           }
          ],
          "scattermapbox": [
           {
            "marker": {
             "colorbar": {
              "outlinewidth": 0,
              "ticks": ""
             }
            },
            "type": "scattermapbox"
           }
          ],
          "scatterpolar": [
           {
            "marker": {
             "colorbar": {
              "outlinewidth": 0,
              "ticks": ""
             }
            },
            "type": "scatterpolar"
           }
          ],
          "scatterpolargl": [
           {
            "marker": {
             "colorbar": {
              "outlinewidth": 0,
              "ticks": ""
             }
            },
            "type": "scatterpolargl"
           }
          ],
          "scatterternary": [
           {
            "marker": {
             "colorbar": {
              "outlinewidth": 0,
              "ticks": ""
             }
            },
            "type": "scatterternary"
           }
          ],
          "surface": [
           {
            "colorbar": {
             "outlinewidth": 0,
             "ticks": ""
            },
            "colorscale": [
             [
              0,
              "#0d0887"
             ],
             [
              0.1111111111111111,
              "#46039f"
             ],
             [
              0.2222222222222222,
              "#7201a8"
             ],
             [
              0.3333333333333333,
              "#9c179e"
             ],
             [
              0.4444444444444444,
              "#bd3786"
             ],
             [
              0.5555555555555556,
              "#d8576b"
             ],
             [
              0.6666666666666666,
              "#ed7953"
             ],
             [
              0.7777777777777778,
              "#fb9f3a"
             ],
             [
              0.8888888888888888,
              "#fdca26"
             ],
             [
              1,
              "#f0f921"
             ]
            ],
            "type": "surface"
           }
          ],
          "table": [
           {
            "cells": {
             "fill": {
              "color": "#EBF0F8"
             },
             "line": {
              "color": "white"
             }
            },
            "header": {
             "fill": {
              "color": "#C8D4E3"
             },
             "line": {
              "color": "white"
             }
            },
            "type": "table"
           }
          ]
         },
         "layout": {
          "annotationdefaults": {
           "arrowcolor": "#2a3f5f",
           "arrowhead": 0,
           "arrowwidth": 1
          },
          "autotypenumbers": "strict",
          "coloraxis": {
           "colorbar": {
            "outlinewidth": 0,
            "ticks": ""
           }
          },
          "colorscale": {
           "diverging": [
            [
             0,
             "#8e0152"
            ],
            [
             0.1,
             "#c51b7d"
            ],
            [
             0.2,
             "#de77ae"
            ],
            [
             0.3,
             "#f1b6da"
            ],
            [
             0.4,
             "#fde0ef"
            ],
            [
             0.5,
             "#f7f7f7"
            ],
            [
             0.6,
             "#e6f5d0"
            ],
            [
             0.7,
             "#b8e186"
            ],
            [
             0.8,
             "#7fbc41"
            ],
            [
             0.9,
             "#4d9221"
            ],
            [
             1,
             "#276419"
            ]
           ],
           "sequential": [
            [
             0,
             "#0d0887"
            ],
            [
             0.1111111111111111,
             "#46039f"
            ],
            [
             0.2222222222222222,
             "#7201a8"
            ],
            [
             0.3333333333333333,
             "#9c179e"
            ],
            [
             0.4444444444444444,
             "#bd3786"
            ],
            [
             0.5555555555555556,
             "#d8576b"
            ],
            [
             0.6666666666666666,
             "#ed7953"
            ],
            [
             0.7777777777777778,
             "#fb9f3a"
            ],
            [
             0.8888888888888888,
             "#fdca26"
            ],
            [
             1,
             "#f0f921"
            ]
           ],
           "sequentialminus": [
            [
             0,
             "#0d0887"
            ],
            [
             0.1111111111111111,
             "#46039f"
            ],
            [
             0.2222222222222222,
             "#7201a8"
            ],
            [
             0.3333333333333333,
             "#9c179e"
            ],
            [
             0.4444444444444444,
             "#bd3786"
            ],
            [
             0.5555555555555556,
             "#d8576b"
            ],
            [
             0.6666666666666666,
             "#ed7953"
            ],
            [
             0.7777777777777778,
             "#fb9f3a"
            ],
            [
             0.8888888888888888,
             "#fdca26"
            ],
            [
             1,
             "#f0f921"
            ]
           ]
          },
          "colorway": [
           "#636efa",
           "#EF553B",
           "#00cc96",
           "#ab63fa",
           "#FFA15A",
           "#19d3f3",
           "#FF6692",
           "#B6E880",
           "#FF97FF",
           "#FECB52"
          ],
          "font": {
           "color": "#2a3f5f"
          },
          "geo": {
           "bgcolor": "white",
           "lakecolor": "white",
           "landcolor": "#E5ECF6",
           "showlakes": true,
           "showland": true,
           "subunitcolor": "white"
          },
          "hoverlabel": {
           "align": "left"
          },
          "hovermode": "closest",
          "mapbox": {
           "style": "light"
          },
          "paper_bgcolor": "white",
          "plot_bgcolor": "#E5ECF6",
          "polar": {
           "angularaxis": {
            "gridcolor": "white",
            "linecolor": "white",
            "ticks": ""
           },
           "bgcolor": "#E5ECF6",
           "radialaxis": {
            "gridcolor": "white",
            "linecolor": "white",
            "ticks": ""
           }
          },
          "scene": {
           "xaxis": {
            "backgroundcolor": "#E5ECF6",
            "gridcolor": "white",
            "gridwidth": 2,
            "linecolor": "white",
            "showbackground": true,
            "ticks": "",
            "zerolinecolor": "white"
           },
           "yaxis": {
            "backgroundcolor": "#E5ECF6",
            "gridcolor": "white",
            "gridwidth": 2,
            "linecolor": "white",
            "showbackground": true,
            "ticks": "",
            "zerolinecolor": "white"
           },
           "zaxis": {
            "backgroundcolor": "#E5ECF6",
            "gridcolor": "white",
            "gridwidth": 2,
            "linecolor": "white",
            "showbackground": true,
            "ticks": "",
            "zerolinecolor": "white"
           }
          },
          "shapedefaults": {
           "line": {
            "color": "#2a3f5f"
           }
          },
          "ternary": {
           "aaxis": {
            "gridcolor": "white",
            "linecolor": "white",
            "ticks": ""
           },
           "baxis": {
            "gridcolor": "white",
            "linecolor": "white",
            "ticks": ""
           },
           "bgcolor": "#E5ECF6",
           "caxis": {
            "gridcolor": "white",
            "linecolor": "white",
            "ticks": ""
           }
          },
          "title": {
           "x": 0.05
          },
          "xaxis": {
           "automargin": true,
           "gridcolor": "white",
           "linecolor": "white",
           "ticks": "",
           "title": {
            "standoff": 15
           },
           "zerolinecolor": "white",
           "zerolinewidth": 2
          },
          "yaxis": {
           "automargin": true,
           "gridcolor": "white",
           "linecolor": "white",
           "ticks": "",
           "title": {
            "standoff": 15
           },
           "zerolinecolor": "white",
           "zerolinewidth": 2
          }
         }
        },
        "title": {
         "text": "Num of Flights per State (Ordered)"
        },
        "xaxis": {
         "anchor": "y",
         "domain": [
          0,
          1
         ],
         "title": {
          "text": "sum of NumFlights"
         }
        },
        "yaxis": {
         "anchor": "x",
         "categoryarray": [
          "Israel",
          "Ukraine",
          "Montenegro",
          "Bosnia and Herzegovina",
          "Republic of North Macedonia",
          "Slovakia",
          "Albania",
          "Moldova",
          "Armenia",
          "Serbia",
          "Denmark",
          "Finland",
          "Malta",
          "Hungary",
          "Bulgaria",
          "Luxembourg",
          "Georgia",
          "Croatia",
          "Latvia",
          "Estonia",
          "Cyprus",
          "Romania",
          "Slovenia",
          "Switzerland",
          "Sweden",
          "Lithuania",
          "Czech Republic",
          "Morocco",
          "Netherlands",
          "Belgium",
          "Türkiye",
          "Austria",
          "Ireland",
          "Portugal",
          "Greece",
          "Italy",
          "Poland",
          "Germany",
          "United Kingdom",
          "Norway",
          "Spain",
          "France"
         ],
         "categoryorder": "array",
         "domain": [
          0,
          1
         ],
         "title": {
          "text": "State"
         }
        }
       }
      }
     },
     "metadata": {},
     "output_type": "display_data"
    }
   ],
   "source": [
    "# Conta il numero di voli per ogni stato e ordina dal più grande al più piccolo\n",
    "df_sorted = df[\"STATE_NAME\"].value_counts().reset_index()\n",
    "df_sorted.columns = [\"State\", \"NumFlights\"]\n",
    "df_sorted = df_sorted.sort_values(by=\"NumFlights\", ascending=True)  # Ordinamento decrescente\n",
    "\n",
    "# Creazione dell'istogramma ordinato\n",
    "fig = px.histogram(df_sorted, x=\"NumFlights\", y=\"State\", nbins=1000, title=\"Num of Flights per State (Ordered)\")\n",
    "\n",
    "# Mantieni l'ordine corretto assegnando i valori di Y manualmente\n",
    "fig.update_layout(\n",
    "    height=1200,  # Ingrandisci il grafico verticalmente\n",
    "    yaxis=dict(categoryorder=\"array\", categoryarray=df_sorted[\"State\"].tolist())  # Ordine manuale\n",
    ")\n",
    "\n",
    "# Mostra il grafico\n",
    "fig.show()\n"
   ]
  }
 ],
 "metadata": {
  "kernelspec": {
   "display_name": "datascience",
   "language": "python",
   "name": "python3"
  },
  "language_info": {
   "codemirror_mode": {
    "name": "ipython",
    "version": 3
   },
   "file_extension": ".py",
   "mimetype": "text/x-python",
   "name": "python",
   "nbconvert_exporter": "python",
   "pygments_lexer": "ipython3",
   "version": "3.9.21"
  }
 },
 "nbformat": 4,
 "nbformat_minor": 5
}
